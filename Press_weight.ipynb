{
  "nbformat": 4,
  "nbformat_minor": 0,
  "metadata": {
    "colab": {
      "name": "Press_weight.ipynb",
      "provenance": [],
      "collapsed_sections": [],
      "authorship_tag": "ABX9TyNtXunEp178A4kX/saIp4/p"
    },
    "kernelspec": {
      "name": "python3",
      "display_name": "Python 3"
    },
    "language_info": {
      "name": "python"
    }
  },
  "cells": [
    {
      "cell_type": "markdown",
      "metadata": {
        "id": "gcKYvL3oWZjj"
      },
      "source": [
        "## Import Library"
      ]
    },
    {
      "cell_type": "code",
      "metadata": {
        "id": "R3D7ge3hUXET"
      },
      "source": [
        "import pandas as pd\n",
        "import numpy as np\n",
        "import matplotlib.pyplot as plt\n",
        "from keras.models import Sequential\n",
        "from keras.layers import LSTM, Dropout, Dense, Activation\n",
        "# from keras.callbacks import TensorBoard, ModelCheckpoint, ReduceLROnPlateau\n",
        "import datetime"
      ],
      "execution_count": 17,
      "outputs": []
    },
    {
      "cell_type": "markdown",
      "metadata": {
        "id": "U-Ic1EqKyNZu"
      },
      "source": [
        "## Load Dataset (Dummy Data Test)"
      ]
    },
    {
      "cell_type": "code",
      "metadata": {
        "colab": {
          "base_uri": "https://localhost:8080/",
          "height": 204
        },
        "id": "xyXknIk2yM8W",
        "outputId": "257b5984-04c2-4aa7-b66c-830110e1879c"
      },
      "source": [
        "data = pd.read_excel('./press.xlsx')\n",
        "data.head()"
      ],
      "execution_count": 30,
      "outputs": [
        {
          "output_type": "execute_result",
          "data": {
            "text/html": [
              "<div>\n",
              "<style scoped>\n",
              "    .dataframe tbody tr th:only-of-type {\n",
              "        vertical-align: middle;\n",
              "    }\n",
              "\n",
              "    .dataframe tbody tr th {\n",
              "        vertical-align: top;\n",
              "    }\n",
              "\n",
              "    .dataframe thead th {\n",
              "        text-align: right;\n",
              "    }\n",
              "</style>\n",
              "<table border=\"1\" class=\"dataframe\">\n",
              "  <thead>\n",
              "    <tr style=\"text-align: right;\">\n",
              "      <th></th>\n",
              "      <th>date</th>\n",
              "      <th>press</th>\n",
              "      <th>predictive_value</th>\n",
              "    </tr>\n",
              "  </thead>\n",
              "  <tbody>\n",
              "    <tr>\n",
              "      <th>0</th>\n",
              "      <td>2019-02-27</td>\n",
              "      <td>연합뉴스</td>\n",
              "      <td>93</td>\n",
              "    </tr>\n",
              "    <tr>\n",
              "      <th>1</th>\n",
              "      <td>2019-02-27</td>\n",
              "      <td>머니투데이</td>\n",
              "      <td>61</td>\n",
              "    </tr>\n",
              "    <tr>\n",
              "      <th>2</th>\n",
              "      <td>2019-02-27</td>\n",
              "      <td>파이낸셜뉴스</td>\n",
              "      <td>44</td>\n",
              "    </tr>\n",
              "    <tr>\n",
              "      <th>3</th>\n",
              "      <td>2019-02-27</td>\n",
              "      <td>서울경제</td>\n",
              "      <td>63</td>\n",
              "    </tr>\n",
              "    <tr>\n",
              "      <th>4</th>\n",
              "      <td>2019-02-27</td>\n",
              "      <td>한국경제</td>\n",
              "      <td>42</td>\n",
              "    </tr>\n",
              "  </tbody>\n",
              "</table>\n",
              "</div>"
            ],
            "text/plain": [
              "        date   press  predictive_value\n",
              "0 2019-02-27    연합뉴스                93\n",
              "1 2019-02-27   머니투데이                61\n",
              "2 2019-02-27  파이낸셜뉴스                44\n",
              "3 2019-02-27    서울경제                63\n",
              "4 2019-02-27    한국경제                42"
            ]
          },
          "metadata": {
            "tags": []
          },
          "execution_count": 30
        }
      ]
    },
    {
      "cell_type": "markdown",
      "metadata": {
        "id": "ZQVc8lGLfRX0"
      },
      "source": [
        "## Create Windows"
      ]
    },
    {
      "cell_type": "code",
      "metadata": {
        "colab": {
          "base_uri": "https://localhost:8080/"
        },
        "id": "6OqlVUnn2nJA",
        "outputId": "2acd7392-cf54-46ed-8e3c-cacae680dd25"
      },
      "source": [
        "predict = data['predictive_value'].values\n",
        "predict"
      ],
      "execution_count": 31,
      "outputs": [
        {
          "output_type": "execute_result",
          "data": {
            "text/plain": [
              "array([ 93,  61,  44,  63,  42,  59,  44,  44,  41,   1,  32,   8,  68,\n",
              "        42,  37,  89,  52,  43,  41,  53,  76,  43,  15,  42,  94,   5,\n",
              "        19,  82,  17,  88, 122,  29,  93,  74,  62,  98,  75,   8,  92,\n",
              "        99,  58,  19,  88,  47,  91,  55,   1,  99,  71,   6,  68,  92,\n",
              "        69,  56,  52,  13,  91,  81,  25,  46,  86,  62,  72,  42,  66,\n",
              "        18,   1,  15,  56,  46,  87,  69,  91,  28,   4,  84,  93,  92,\n",
              "        11,  24,  88,  42,  82,  62,  95,   3,  61,  58,  62,  32,  32,\n",
              "         1,  91,  16,  72,  28,  41,  93,  74,  79,  88,  68,   5,   1,\n",
              "        27,   7,  12,  51,  34,  45,   6,  43,  53,  13,  74,  84,  36,\n",
              "        88,  88,  93,  93,  28,  12,   9,  78,  76,  32,  23,  71,  73,\n",
              "        71,  87,  12,  82,  58,  12,  26,  13,  72,  43,  69,  38,  22,\n",
              "        28,  28,  54,   5,  74,  12,  38,  37,  47,  23,  44,  34,  19,\n",
              "        22,  78,  57,  61,  81,  79,  85,  43,  82,  41,  85,  62,  71,\n",
              "        87,  74,   3,  72,  92,  97,  83,  11,  42,  62,  59,  78,  95,\n",
              "        32,   3,  38,  43,  74,  34,  25,   5,  46,  52,  17,  48,  84,\n",
              "        87,  18,  75,  74,  64,  64,  66,  71,  58,  84,  88,  74,  52,\n",
              "        91,  55,  26,  52,  79,  56,  85,  84,  21,  52,  84,  13,  63,\n",
              "        68,  85,  41,  91,  25,  68, 122,  37,  58,  87,  92,  83,  25,\n",
              "        94,  39,  46,   3,  69,   1,  56,  27,  62,  75,  44,  71,  99,\n",
              "         9,  28,  54,  42,  82,  29,  14,   7,  65,  23,  77,  52,  52,\n",
              "        34,  92,  37,   2,  36,  91,  93,  54,  63,  84,  77,  92,  13,\n",
              "        46,  46,   2,  86,  88,  17,  12,  16,  69,   9,  44,  66,  31,\n",
              "        41,  52,  21,  61,  51,  85,  71,  38,  12,  82,  33,  14,  97,\n",
              "        33,  38,  92,  89,  34,  72,  51,  23,  18,  99,  11,  31,  83,\n",
              "        94,  12,  84,  65,  62,  48,  47,  73,  32,  52,  42,   2,  35,\n",
              "        34,  89,  65,  67,  82,  33,  47,  99,   5,  69,  68,  97,  62,\n",
              "        28,  72,   7,  18,  15,  87,  26,  92,  69,  69,  58,  28,  77,\n",
              "        82,  64,  16,  94,  63,  25,  27,  69,  42,  42,  15,  96,  18,\n",
              "         6,  25,  97,  72,  22,  25,  12,  14,   1,  67,  27,  37,  77,\n",
              "        94,  34,  77,  94,  22,   5,  32,   6,  52,   4,  39,  18,  22,\n",
              "        89,   6,  22,  68,  92,  31,  22,  21,  89,   8,  36,  86,  28,\n",
              "        43,  48,  19,  48,  55,  71,  74,  36,  92,  38,  99,  75,  84,\n",
              "        78,  35,  28,  82,  92,  52,  17,  31,  97,   7,   7,  68,  12,\n",
              "        64,  87,  68,  49,  59,  34,  12,  43,  24,   1,  15,  47,  23,\n",
              "        38,  52,  79,  28,  82,  41,  18,   2,  91,  62,  12,  78,  22,\n",
              "        15,  53,  28,  16,  35,  68,  89,  79,   7,  67,  41,  62,  28,\n",
              "        12,  42,  75,  26,  69,  86,  21,  22,  82,  99,  56,  14,  28,\n",
              "        81,  12,  59,  83,  84,  18,  15,  82,  12,  57,  44,  38,   7,\n",
              "        94,  45,  57,   4,  84,  43,  47,  92,  42,  93,  29,   2,  83,\n",
              "        22,   1,  81,   8,   4,  57,  82,  82,  58,  74,  21,  15,  81,\n",
              "        65,  91,  43,  33,  12,  85,  77,  69,  94,  78,   7,  57,  51,\n",
              "        53,  55,  14,  61,  13,   5,  33,  35,  91,   4,  87,  72,  45,\n",
              "        92,  33,  37,  59,  32,  78,  67,  82,  97,  66,  62,   1,  32,\n",
              "        21,  67,  22,  66,  84,  92,  27,  19,   8,  32,  45,  84,  12,\n",
              "        82,  43,  23,  72,  28,  42,  42, 122,  64,   2,  32,  11,  71,\n",
              "        63,  14,  26,  24,  27,  64,  87,  46,  59,  81,  76,  97,   4,\n",
              "         7,  17,  25,   2,  99,  11,  56,  32,  42,  33,  81,  47,  18,\n",
              "        52,  19,  55,  66,  98,  17,  82,  44,  16,  19,  91,   5,  42,\n",
              "        23,  12,  55,  18,  47,  84,  48,  54,  82,  42,  56,   4,  76,\n",
              "        89,  67,  75,  81,  61,  64,  72,  82,  46,  28,   4,  73,  79,\n",
              "        69,  73,  35,  59,  52,  29,  13])"
            ]
          },
          "metadata": {
            "tags": []
          },
          "execution_count": 31
        }
      ]
    },
    {
      "cell_type": "code",
      "metadata": {
        "id": "NIsRCq5tfJmV"
      },
      "source": [
        "seq_len = 50      # 최근 50일의 예측점수를 관측치로 설정\n",
        "sequence_length = seq_len + 1 # 하루가 지날 때마다 관측치 구간도 하루씩 이동\n",
        "\n",
        "result = []\n",
        "for index in range(len(predict) - sequence_length):      # predictive_value: 언론사의 예측률 변수\n",
        "    result.append(predict[index: index + sequence_length])"
      ],
      "execution_count": 32,
      "outputs": []
    },
    {
      "cell_type": "markdown",
      "metadata": {
        "id": "3EDhtJ-CiwWi"
      },
      "source": [
        "## Normalize Data"
      ]
    },
    {
      "cell_type": "code",
      "metadata": {
        "colab": {
          "base_uri": "https://localhost:8080/"
        },
        "id": "CedV2WD5iztB",
        "outputId": "62b9c466-bf67-4701-e574-5b0a2915a183"
      },
      "source": [
        "normalized_data = []\n",
        "for window in result:\n",
        "    normalized_window = [((float(p) / float(window[0])) - 1) for p in window]   # 데이터 정규화\n",
        "    normalized_data.append(normalized_window)\n",
        "result = np.array(normalized_data)\n",
        "\n",
        "# split train and test data\n",
        "row = int(round(result.shape[0] * 0.9))\n",
        "train = result[:row, :]\n",
        "np.random.shuffle(train)\n",
        "\n",
        "x_train = train[:, :-1]\n",
        "x_train = np.reshape(x_train, (x_train.shape[0], x_train.shape[1], 1))\n",
        "y_train = train[:, -1]\n",
        "\n",
        "x_test = result[row:, :-1]\n",
        "x_test = np.reshape(x_test, (x_test.shape[0], x_test.shape[1], 1))\n",
        "y_test = result[row:, -1]\n",
        "\n",
        "x_train.shape, x_test.shape"
      ],
      "execution_count": 33,
      "outputs": [
        {
          "output_type": "execute_result",
          "data": {
            "text/plain": [
              "((545, 50, 1), (61, 50, 1))"
            ]
          },
          "metadata": {
            "tags": []
          },
          "execution_count": 33
        }
      ]
    },
    {
      "cell_type": "markdown",
      "metadata": {
        "id": "7sY7De3ZjVrx"
      },
      "source": [
        "## Build a Model"
      ]
    },
    {
      "cell_type": "code",
      "metadata": {
        "colab": {
          "base_uri": "https://localhost:8080/"
        },
        "id": "wTf5as7ljX5S",
        "outputId": "d3029937-b724-4f33-9410-8b490cf7175c"
      },
      "source": [
        "model = Sequential()\n",
        "model.add(LSTM(50, return_sequences=True, input_shape=(50, 1)))   # 관측치: 50일\n",
        "model.add(LSTM(64, return_sequences=False))\n",
        "model.add(Dense(1, activation='linear'))\n",
        "model.compile(loss='mse', optimizer='rmsprop')\n",
        "model.summary()"
      ],
      "execution_count": 34,
      "outputs": [
        {
          "output_type": "stream",
          "text": [
            "Model: \"sequential_1\"\n",
            "_________________________________________________________________\n",
            "Layer (type)                 Output Shape              Param #   \n",
            "=================================================================\n",
            "lstm_2 (LSTM)                (None, 50, 50)            10400     \n",
            "_________________________________________________________________\n",
            "lstm_3 (LSTM)                (None, 64)                29440     \n",
            "_________________________________________________________________\n",
            "dense_1 (Dense)              (None, 1)                 65        \n",
            "=================================================================\n",
            "Total params: 39,905\n",
            "Trainable params: 39,905\n",
            "Non-trainable params: 0\n",
            "_________________________________________________________________\n"
          ],
          "name": "stdout"
        }
      ]
    },
    {
      "cell_type": "markdown",
      "metadata": {
        "id": "gxi_Xmh1jpal"
      },
      "source": [
        "## Training"
      ]
    },
    {
      "cell_type": "code",
      "metadata": {
        "colab": {
          "base_uri": "https://localhost:8080/"
        },
        "id": "cgMb0VOljriR",
        "outputId": "23cb762d-9f6d-40e2-d663-deeabf02fb4e"
      },
      "source": [
        "model.fit(x_train, y_train, validation_data=(x_test, y_test), batch_size=10, epochs=20)     # 20번 정도만 테스트"
      ],
      "execution_count": 35,
      "outputs": [
        {
          "output_type": "stream",
          "text": [
            "Epoch 1/20\n",
            "55/55 [==============================] - 24s 66ms/step - loss: 27.5753 - val_loss: 26.8158\n",
            "Epoch 2/20\n",
            "55/55 [==============================] - 2s 44ms/step - loss: 20.8008 - val_loss: 22.7042\n",
            "Epoch 3/20\n",
            "55/55 [==============================] - 2s 43ms/step - loss: 26.1770 - val_loss: 20.6615\n",
            "Epoch 4/20\n",
            "55/55 [==============================] - 2s 42ms/step - loss: 13.1045 - val_loss: 19.8000\n",
            "Epoch 5/20\n",
            "55/55 [==============================] - 2s 42ms/step - loss: 25.4657 - val_loss: 16.2456\n",
            "Epoch 6/20\n",
            "55/55 [==============================] - 2s 42ms/step - loss: 16.2831 - val_loss: 18.6199\n",
            "Epoch 7/20\n",
            "55/55 [==============================] - 2s 42ms/step - loss: 31.5558 - val_loss: 14.7127\n",
            "Epoch 8/20\n",
            "55/55 [==============================] - 2s 42ms/step - loss: 22.9761 - val_loss: 12.2840\n",
            "Epoch 9/20\n",
            "55/55 [==============================] - 2s 42ms/step - loss: 25.7128 - val_loss: 11.4981\n",
            "Epoch 10/20\n",
            "55/55 [==============================] - 2s 42ms/step - loss: 12.5510 - val_loss: 9.4586\n",
            "Epoch 11/20\n",
            "55/55 [==============================] - 2s 42ms/step - loss: 11.7165 - val_loss: 10.7604\n",
            "Epoch 12/20\n",
            "55/55 [==============================] - 2s 42ms/step - loss: 17.0468 - val_loss: 10.0022\n",
            "Epoch 13/20\n",
            "55/55 [==============================] - 2s 42ms/step - loss: 25.0532 - val_loss: 9.6305\n",
            "Epoch 14/20\n",
            "55/55 [==============================] - 2s 42ms/step - loss: 16.5968 - val_loss: 10.6038\n",
            "Epoch 15/20\n",
            "55/55 [==============================] - 2s 43ms/step - loss: 11.5691 - val_loss: 7.9808\n",
            "Epoch 16/20\n",
            "55/55 [==============================] - 2s 42ms/step - loss: 17.3677 - val_loss: 7.8370\n",
            "Epoch 17/20\n",
            "55/55 [==============================] - 2s 42ms/step - loss: 12.1056 - val_loss: 6.1887\n",
            "Epoch 18/20\n",
            "55/55 [==============================] - 2s 43ms/step - loss: 13.0766 - val_loss: 8.8717\n",
            "Epoch 19/20\n",
            "55/55 [==============================] - 2s 42ms/step - loss: 14.9342 - val_loss: 5.9951\n",
            "Epoch 20/20\n",
            "55/55 [==============================] - 2s 42ms/step - loss: 13.0597 - val_loss: 5.9635\n"
          ],
          "name": "stdout"
        },
        {
          "output_type": "execute_result",
          "data": {
            "text/plain": [
              "<keras.callbacks.History at 0x7f359aa6fd10>"
            ]
          },
          "metadata": {
            "tags": []
          },
          "execution_count": 35
        }
      ]
    },
    {
      "cell_type": "markdown",
      "metadata": {
        "id": "HcHKt2huj2pw"
      },
      "source": [
        "## Prediction"
      ]
    },
    {
      "cell_type": "code",
      "metadata": {
        "colab": {
          "base_uri": "https://localhost:8080/",
          "height": 592
        },
        "id": "4cOqL_Rnj5N1",
        "outputId": "fd9107ea-7a93-4077-d10a-02b82a45a7ed"
      },
      "source": [
        "pred = model.predict(x_test)\n",
        "\n",
        "fig = plt.figure(facecolor='white', figsize=(20, 10))\n",
        "ax = fig.add_subplot(111)\n",
        "ax.plot(y_test, label='True')\n",
        "ax.plot(pred, label='Prediction')\n",
        "ax.legend()\n",
        "plt.show()"
      ],
      "execution_count": 36,
      "outputs": [
        {
          "output_type": "display_data",
          "data": {
            "image/png": "[encoded data removed]",
            "text/plain": [
              "<Figure size 1440x720 with 1 Axes>"
            ]
          },
          "metadata": {
            "tags": []
          }
        }
      ]
    },
    {
      "cell_type": "code",
      "metadata": {
        "id": "jb62es5k5Zlv"
      },
      "source": [
        ""
      ],
      "execution_count": null,
      "outputs": []
    }
  ]
}