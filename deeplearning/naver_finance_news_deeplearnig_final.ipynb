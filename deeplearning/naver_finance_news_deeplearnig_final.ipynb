{
  "nbformat": 4,
  "nbformat_minor": 0,
  "metadata": {
    "colab": {
      "name": "naver_finance_news_deeplearnig_final",
      "provenance": [],
      "collapsed_sections": [],
      "authorship_tag": "ABX9TyOJUgd/IYsv5kpPV77KsiT4",
      "include_colab_link": true
    },
    "kernelspec": {
      "name": "python3",
      "display_name": "Python 3"
    },
    "language_info": {
      "name": "python"
    }
  },
  "cells": [
    {
      "cell_type": "markdown",
      "metadata": {
        "id": "view-in-github",
        "colab_type": "text"
      },
      "source": [
        "<a href=\"https://colab.research.google.com/github/victoria2012/TeamProject/blob/master/deeplearning/naver_finance_news_deeplearnig_final.ipynb\" target=\"_parent\"><img src=\"https://colab.research.google.com/assets/colab-badge.svg\" alt=\"Open In Colab\"/></a>"
      ]
    },
    {
      "cell_type": "code",
      "metadata": {
        "colab": {
          "base_uri": "https://localhost:8080/"
        },
        "id": "-iF7r_Wrgmd5",
        "outputId": "223b1215-9fff-41ed-d84d-6c5ed7d054ab"
      },
      "source": [
        "!pip install xlrd opnepyxl"
      ],
      "execution_count": 67,
      "outputs": [
        {
          "output_type": "stream",
          "text": [
            "Requirement already satisfied: xlrd in /usr/local/lib/python3.7/dist-packages (1.1.0)\n",
            "\u001b[31mERROR: Could not find a version that satisfies the requirement opnepyxl (from versions: none)\u001b[0m\n",
            "\u001b[31mERROR: No matching distribution found for opnepyxl\u001b[0m\n"
          ],
          "name": "stdout"
        }
      ]
    },
    {
      "cell_type": "code",
      "metadata": {
        "colab": {
          "base_uri": "https://localhost:8080/"
        },
        "id": "0ijR1mhtmGlU",
        "outputId": "6d5094f7-1ea8-436d-8041-0fba70e4ffe5"
      },
      "source": [
        "!set -x \\\n",
        "&& pip install konlpy \\\n",
        "&& curl -s https://raw.githubusercontent.com/konlpy/konlpy/master/scripts/mecab.sh | bash -x"
      ],
      "execution_count": 68,
      "outputs": [
        {
          "output_type": "stream",
          "text": [
            "+ pip install konlpy\n",
            "Requirement already satisfied: konlpy in /usr/local/lib/python3.7/dist-packages (0.5.2)\n",
            "Requirement already satisfied: lxml>=4.1.0 in /usr/local/lib/python3.7/dist-packages (from konlpy) (4.2.6)\n",
            "Requirement already satisfied: tweepy>=3.7.0 in /usr/local/lib/python3.7/dist-packages (from konlpy) (3.10.0)\n",
            "Requirement already satisfied: beautifulsoup4==4.6.0 in /usr/local/lib/python3.7/dist-packages (from konlpy) (4.6.0)\n",
            "Requirement already satisfied: JPype1>=0.7.0 in /usr/local/lib/python3.7/dist-packages (from konlpy) (1.3.0)\n",
            "Requirement already satisfied: colorama in /usr/local/lib/python3.7/dist-packages (from konlpy) (0.4.4)\n",
            "Requirement already satisfied: numpy>=1.6 in /usr/local/lib/python3.7/dist-packages (from konlpy) (1.19.5)\n",
            "Requirement already satisfied: typing-extensions in /usr/local/lib/python3.7/dist-packages (from JPype1>=0.7.0->konlpy) (3.7.4.3)\n",
            "Requirement already satisfied: requests[socks]>=2.11.1 in /usr/local/lib/python3.7/dist-packages (from tweepy>=3.7.0->konlpy) (2.23.0)\n",
            "Requirement already satisfied: requests-oauthlib>=0.7.0 in /usr/local/lib/python3.7/dist-packages (from tweepy>=3.7.0->konlpy) (1.3.0)\n",
            "Requirement already satisfied: six>=1.10.0 in /usr/local/lib/python3.7/dist-packages (from tweepy>=3.7.0->konlpy) (1.15.0)\n",
            "Requirement already satisfied: oauthlib>=3.0.0 in /usr/local/lib/python3.7/dist-packages (from requests-oauthlib>=0.7.0->tweepy>=3.7.0->konlpy) (3.1.1)\n",
            "Requirement already satisfied: urllib3!=1.25.0,!=1.25.1,<1.26,>=1.21.1 in /usr/local/lib/python3.7/dist-packages (from requests[socks]>=2.11.1->tweepy>=3.7.0->konlpy) (1.24.3)\n",
            "Requirement already satisfied: chardet<4,>=3.0.2 in /usr/local/lib/python3.7/dist-packages (from requests[socks]>=2.11.1->tweepy>=3.7.0->konlpy) (3.0.4)\n",
            "Requirement already satisfied: certifi>=2017.4.17 in /usr/local/lib/python3.7/dist-packages (from requests[socks]>=2.11.1->tweepy>=3.7.0->konlpy) (2021.5.30)\n",
            "Requirement already satisfied: idna<3,>=2.5 in /usr/local/lib/python3.7/dist-packages (from requests[socks]>=2.11.1->tweepy>=3.7.0->konlpy) (2.10)\n",
            "Requirement already satisfied: PySocks!=1.5.7,>=1.5.6 in /usr/local/lib/python3.7/dist-packages (from requests[socks]>=2.11.1->tweepy>=3.7.0->konlpy) (1.7.1)\n",
            "+ curl -s https://raw.githubusercontent.com/konlpy/konlpy/master/scripts/mecab.sh\n",
            "+ bash -x\n",
            "+ mecab_dicdir=/usr/local/lib/mecab/dic/mecab-ko-dic\n",
            "+ set -e\n",
            "++ uname\n",
            "+ os=Linux\n",
            "+ [[ ! Linux == \\L\\i\\n\\u\\x ]]\n",
            "+ hash sudo\n",
            "+ sudo=sudo\n",
            "+ python=python3\n",
            "+ hash pyenv\n",
            "+ at_user_site=\n",
            "++ check_python_site_location_is_writable\n",
            "++ python3 -\n",
            "+ [[ 1 == \\0 ]]\n",
            "+ hash automake\n",
            "+ hash mecab\n",
            "+ echo 'mecab-ko is already installed'\n",
            "mecab-ko is already installed\n",
            "+ [[ -d /usr/local/lib/mecab/dic/mecab-ko-dic ]]\n",
            "+ echo 'mecab-ko-dic is already installed'\n",
            "mecab-ko-dic is already installed\n",
            "++ python3 -c 'import pkgutil; print(1 if pkgutil.find_loader(\"MeCab\") else 0)'\n",
            "+ [[ 1 == \\1 ]]\n",
            "+ echo 'mecab-python is already installed'\n",
            "mecab-python is already installed\n",
            "+ echo Done.\n",
            "Done.\n"
          ],
          "name": "stdout"
        }
      ]
    },
    {
      "cell_type": "code",
      "metadata": {
        "id": "GocIZkwHnDd1"
      },
      "source": [
        "import re\n",
        "import urllib.request\n",
        "import numpy as np\n",
        "import pandas as pd\n",
        "import matplotlib.pyplot as plt\n",
        "plt.style.use('seaborn-white')\n",
        "\n",
        "from konlpy.tag import Mecab\n",
        "from tensorflow.keras.preprocessing.text import Tokenizer\n",
        "from tensorflow.keras.preprocessing.sequence import pad_sequences"
      ],
      "execution_count": 69,
      "outputs": []
    },
    {
      "cell_type": "code",
      "metadata": {
        "id": "2_8Ehu_TnxIP",
        "colab": {
          "base_uri": "https://localhost:8080/",
          "height": 419
        },
        "outputId": "eabebd67-f818-4bd6-b976-694b86681c53"
      },
      "source": [
        "data = pd.read_excel('./naver_news_data_addscore_test_2.xls')\n",
        "data"
      ],
      "execution_count": 70,
      "outputs": [
        {
          "output_type": "execute_result",
          "data": {
            "text/html": [
              "<div>\n",
              "<style scoped>\n",
              "    .dataframe tbody tr th:only-of-type {\n",
              "        vertical-align: middle;\n",
              "    }\n",
              "\n",
              "    .dataframe tbody tr th {\n",
              "        vertical-align: top;\n",
              "    }\n",
              "\n",
              "    .dataframe thead th {\n",
              "        text-align: right;\n",
              "    }\n",
              "</style>\n",
              "<table border=\"1\" class=\"dataframe\">\n",
              "  <thead>\n",
              "    <tr style=\"text-align: right;\">\n",
              "      <th></th>\n",
              "      <th>id</th>\n",
              "      <th>date</th>\n",
              "      <th>time</th>\n",
              "      <th>posi_nega</th>\n",
              "      <th>title</th>\n",
              "      <th>content</th>\n",
              "      <th>press</th>\n",
              "      <th>stock</th>\n",
              "      <th>label</th>\n",
              "    </tr>\n",
              "  </thead>\n",
              "  <tbody>\n",
              "    <tr>\n",
              "      <th>0</th>\n",
              "      <td>7968</td>\n",
              "      <td>2019-02-27</td>\n",
              "      <td>10:19</td>\n",
              "      <td>0</td>\n",
              "      <td>바이로메드, 美 임상 결과 발표 지연 소식에 하락세</td>\n",
              "      <td>[머니투데이 진경진 기자] 바이로메드가 주력 파이프라인인 VM202-DPN(당뇨병성...</td>\n",
              "      <td>머니투데이</td>\n",
              "      <td>stock</td>\n",
              "      <td>-1</td>\n",
              "    </tr>\n",
              "    <tr>\n",
              "      <th>1</th>\n",
              "      <td>7969</td>\n",
              "      <td>2019-02-27</td>\n",
              "      <td>10:07</td>\n",
              "      <td>0</td>\n",
              "      <td>아이엠텍, 상장폐지 위기감에 급락</td>\n",
              "      <td>[아시아경제 조호윤 기자]아이엠텍이 장 초반 급락했다.27일 오전 10시 아이엠텍은...</td>\n",
              "      <td>아시아경제</td>\n",
              "      <td>이엠텍</td>\n",
              "      <td>-1</td>\n",
              "    </tr>\n",
              "    <tr>\n",
              "      <th>2</th>\n",
              "      <td>7970</td>\n",
              "      <td>2019-02-27</td>\n",
              "      <td>10:02</td>\n",
              "      <td>0</td>\n",
              "      <td>한솔홀딩스, 액면가 감자 결정...5%↓</td>\n",
              "      <td>[아시아경제 이정민 기자] 한솔홀딩스가 27일 장 초반 5%대 하락세를 걷고 있다....</td>\n",
              "      <td>아시아경제</td>\n",
              "      <td>한솔홀딩스</td>\n",
              "      <td>0</td>\n",
              "    </tr>\n",
              "    <tr>\n",
              "      <th>3</th>\n",
              "      <td>7980</td>\n",
              "      <td>2019-02-27</td>\n",
              "      <td>09:30</td>\n",
              "      <td>0</td>\n",
              "      <td>바이로메드, 임상결과 지연에 약세</td>\n",
              "      <td>【서울=뉴시스】하종민 기자 = 코스닥 상장사 바이로메드(084990)가 임상결과 지...</td>\n",
              "      <td>뉴시스</td>\n",
              "      <td>stock</td>\n",
              "      <td>-1</td>\n",
              "    </tr>\n",
              "    <tr>\n",
              "      <th>4</th>\n",
              "      <td>7981</td>\n",
              "      <td>2019-02-27</td>\n",
              "      <td>09:30</td>\n",
              "      <td>0</td>\n",
              "      <td>심텍, 자사주 소각 연기에 약세</td>\n",
              "      <td>【서울=뉴시스】김정호 기자 = 코스닥 전자부품 제조사 심텍(222800)이 자사주 ...</td>\n",
              "      <td>뉴시스</td>\n",
              "      <td>심텍</td>\n",
              "      <td>-1</td>\n",
              "    </tr>\n",
              "    <tr>\n",
              "      <th>...</th>\n",
              "      <td>...</td>\n",
              "      <td>...</td>\n",
              "      <td>...</td>\n",
              "      <td>...</td>\n",
              "      <td>...</td>\n",
              "      <td>...</td>\n",
              "      <td>...</td>\n",
              "      <td>...</td>\n",
              "      <td>...</td>\n",
              "    </tr>\n",
              "    <tr>\n",
              "      <th>10789</th>\n",
              "      <td>1121</td>\n",
              "      <td>2020-07-22</td>\n",
              "      <td>09:13</td>\n",
              "      <td>1</td>\n",
              "      <td>티에스아이, 코스닥 상장 첫날 장중 급등</td>\n",
              "      <td>티에스아이 CI[IR큐더스 제공](서울=연합뉴스) 곽민서 기자 = 2차전지 생산장비...</td>\n",
              "      <td>연합뉴스</td>\n",
              "      <td>티에스아이</td>\n",
              "      <td>1</td>\n",
              "    </tr>\n",
              "    <tr>\n",
              "      <th>10790</th>\n",
              "      <td>1122</td>\n",
              "      <td>2020-07-22</td>\n",
              "      <td>09:13</td>\n",
              "      <td>1</td>\n",
              "      <td>에스폴리텍, 美향 코로나19 가림막 수주 증가에 ‘강세’</td>\n",
              "      <td>[이데일리 유준하 기자] 광학용 시트 및 필름, 엔지니어링 플라스틱(EP) 전문 제...</td>\n",
              "      <td>이데일리</td>\n",
              "      <td>에스폴리텍</td>\n",
              "      <td>1</td>\n",
              "    </tr>\n",
              "    <tr>\n",
              "      <th>10791</th>\n",
              "      <td>1123</td>\n",
              "      <td>2020-07-22</td>\n",
              "      <td>09:09</td>\n",
              "      <td>1</td>\n",
              "      <td>티에스아이, 상장 첫 날 '강세'</td>\n",
              "      <td>[이데일리 권효중 기자] 2차전지 믹싱 시스템 기업 티에스아이(277880)가 상장...</td>\n",
              "      <td>이데일리</td>\n",
              "      <td>티에스아이</td>\n",
              "      <td>1</td>\n",
              "    </tr>\n",
              "    <tr>\n",
              "      <th>10792</th>\n",
              "      <td>1124</td>\n",
              "      <td>2020-07-22</td>\n",
              "      <td>09:08</td>\n",
              "      <td>1</td>\n",
              "      <td>SK케미칼, 자회사 아스트라제네카 CMO 계약 체결에↑</td>\n",
              "      <td>SK케미칼우는 상한가 기록 중[이데일리 이슬기 기자] SK케미칼(285130)이 자...</td>\n",
              "      <td>이데일리</td>\n",
              "      <td>아스트</td>\n",
              "      <td>1</td>\n",
              "    </tr>\n",
              "    <tr>\n",
              "      <th>10793</th>\n",
              "      <td>1125</td>\n",
              "      <td>2020-07-22</td>\n",
              "      <td>09:06</td>\n",
              "      <td>1</td>\n",
              "      <td>\"에스폴리텍, 코로나 비말차단 가림막 수요 폭증\"</td>\n",
              "      <td>KTB투자증권은 22일 에스폴리텍에 대해 코로나 비말차단 가림막의 수요가 폭증하고 ...</td>\n",
              "      <td>매일경제</td>\n",
              "      <td>에스폴리텍</td>\n",
              "      <td>0</td>\n",
              "    </tr>\n",
              "  </tbody>\n",
              "</table>\n",
              "<p>10794 rows × 9 columns</p>\n",
              "</div>"
            ],
            "text/plain": [
              "         id        date   time  ...  press  stock label\n",
              "0      7968  2019-02-27  10:19  ...  머니투데이  stock    -1\n",
              "1      7969  2019-02-27  10:07  ...  아시아경제    이엠텍    -1\n",
              "2      7970  2019-02-27  10:02  ...  아시아경제  한솔홀딩스     0\n",
              "3      7980  2019-02-27  09:30  ...    뉴시스  stock    -1\n",
              "4      7981  2019-02-27  09:30  ...    뉴시스     심텍    -1\n",
              "...     ...         ...    ...  ...    ...    ...   ...\n",
              "10789  1121  2020-07-22  09:13  ...   연합뉴스  티에스아이     1\n",
              "10790  1122  2020-07-22  09:13  ...   이데일리  에스폴리텍     1\n",
              "10791  1123  2020-07-22  09:09  ...   이데일리  티에스아이     1\n",
              "10792  1124  2020-07-22  09:08  ...   이데일리    아스트     1\n",
              "10793  1125  2020-07-22  09:06  ...   매일경제  에스폴리텍     0\n",
              "\n",
              "[10794 rows x 9 columns]"
            ]
          },
          "metadata": {
            "tags": []
          },
          "execution_count": 70
        }
      ]
    },
    {
      "cell_type": "code",
      "metadata": {
        "id": "kHUroQ4zMfL9"
      },
      "source": [
        "from sklearn.model_selection import train_test_split"
      ],
      "execution_count": 71,
      "outputs": []
    },
    {
      "cell_type": "code",
      "metadata": {
        "id": "JZ2MJ7Q1MmkK",
        "colab": {
          "base_uri": "https://localhost:8080/"
        },
        "outputId": "db46df2d-ce7c-4bb7-f437-e3ef96410872"
      },
      "source": [
        "train_data, test_data = train_test_split(data)\n",
        "train_data.shape, test_data.shape"
      ],
      "execution_count": 72,
      "outputs": [
        {
          "output_type": "execute_result",
          "data": {
            "text/plain": [
              "((8095, 9), (2699, 9))"
            ]
          },
          "metadata": {
            "tags": []
          },
          "execution_count": 72
        }
      ]
    },
    {
      "cell_type": "code",
      "metadata": {
        "id": "NSW3Y426oaHL",
        "colab": {
          "base_uri": "https://localhost:8080/",
          "height": 529
        },
        "outputId": "3ed27322-b2d0-41da-df16-28523bde7b66"
      },
      "source": [
        "train_data[:10]"
      ],
      "execution_count": 73,
      "outputs": [
        {
          "output_type": "execute_result",
          "data": {
            "text/html": [
              "<div>\n",
              "<style scoped>\n",
              "    .dataframe tbody tr th:only-of-type {\n",
              "        vertical-align: middle;\n",
              "    }\n",
              "\n",
              "    .dataframe tbody tr th {\n",
              "        vertical-align: top;\n",
              "    }\n",
              "\n",
              "    .dataframe thead th {\n",
              "        text-align: right;\n",
              "    }\n",
              "</style>\n",
              "<table border=\"1\" class=\"dataframe\">\n",
              "  <thead>\n",
              "    <tr style=\"text-align: right;\">\n",
              "      <th></th>\n",
              "      <th>id</th>\n",
              "      <th>date</th>\n",
              "      <th>time</th>\n",
              "      <th>posi_nega</th>\n",
              "      <th>title</th>\n",
              "      <th>content</th>\n",
              "      <th>press</th>\n",
              "      <th>stock</th>\n",
              "      <th>label</th>\n",
              "    </tr>\n",
              "  </thead>\n",
              "  <tbody>\n",
              "    <tr>\n",
              "      <th>3896</th>\n",
              "      <td>6049</td>\n",
              "      <td>2019-04-24</td>\n",
              "      <td>09:14</td>\n",
              "      <td>1</td>\n",
              "      <td>LG이노텍, 실적개선 기대에 강세</td>\n",
              "      <td>【서울=뉴시스】하종민 기자 = LG이노텍(011070) 주가가 실적개선 기대에 강세...</td>\n",
              "      <td>뉴시스</td>\n",
              "      <td>LG이노텍</td>\n",
              "      <td>1</td>\n",
              "    </tr>\n",
              "    <tr>\n",
              "      <th>1406</th>\n",
              "      <td>6447</td>\n",
              "      <td>2019-08-29</td>\n",
              "      <td>15:16</td>\n",
              "      <td>0</td>\n",
              "      <td>삼성바이오, 이재용 부회장 뇌물혐의 추가 소식에 '급락'</td>\n",
              "      <td>[아시아경제 고형광 기자] 이재용 삼성전자 부회장에 대한 '국정농단 사건' 대법원 ...</td>\n",
              "      <td>아시아경제</td>\n",
              "      <td>stock</td>\n",
              "      <td>-1</td>\n",
              "    </tr>\n",
              "    <tr>\n",
              "      <th>5091</th>\n",
              "      <td>4515</td>\n",
              "      <td>2019-06-18</td>\n",
              "      <td>07:56</td>\n",
              "      <td>1</td>\n",
              "      <td>\"오스템임플란트, 턴어라운드 가속화 전망\"</td>\n",
              "      <td>자료 제공 = 하이투자증권하이투자증권은 18일 오스템임플란트에 대해 턴어라운드가 가...</td>\n",
              "      <td>매일경제</td>\n",
              "      <td>오스템임플란트</td>\n",
              "      <td>0</td>\n",
              "    </tr>\n",
              "    <tr>\n",
              "      <th>7221</th>\n",
              "      <td>5464</td>\n",
              "      <td>2019-10-16</td>\n",
              "      <td>09:19</td>\n",
              "      <td>1</td>\n",
              "      <td>임상 성공 소식에 134% 오른 美바이오주…주주사 원풍물산도 급등</td>\n",
              "      <td>미국 나스닥시장에 상장한 바이오회사 렐마다 테러퓨틱스(RELMADA THERAPEU...</td>\n",
              "      <td>조선비즈</td>\n",
              "      <td>원풍물산</td>\n",
              "      <td>1</td>\n",
              "    </tr>\n",
              "    <tr>\n",
              "      <th>865</th>\n",
              "      <td>4369</td>\n",
              "      <td>2019-06-21</td>\n",
              "      <td>09:22</td>\n",
              "      <td>0</td>\n",
              "      <td>'백기사 델타항공 지분 매입'에 한진칼 약세</td>\n",
              "      <td>대한항공-델타항공 조인트벤처 출범 1주년 광고[대한항공 제공]    (서울=연합뉴스...</td>\n",
              "      <td>연합뉴스</td>\n",
              "      <td>한진칼</td>\n",
              "      <td>-1</td>\n",
              "    </tr>\n",
              "    <tr>\n",
              "      <th>5173</th>\n",
              "      <td>4363</td>\n",
              "      <td>2019-06-21</td>\n",
              "      <td>09:29</td>\n",
              "      <td>1</td>\n",
              "      <td>바른테크놀로지, 유상증자·CB발행에 상한가 기록</td>\n",
              "      <td>[아시아경제 금보령 기자] 바른테크놀로지가 21일 장 초반 상한가를 나타냈다. 대규...</td>\n",
              "      <td>아시아경제</td>\n",
              "      <td>stock</td>\n",
              "      <td>1</td>\n",
              "    </tr>\n",
              "    <tr>\n",
              "      <th>4413</th>\n",
              "      <td>5282</td>\n",
              "      <td>2019-05-21</td>\n",
              "      <td>14:18</td>\n",
              "      <td>1</td>\n",
              "      <td>알파홀딩스, 자회사 임상 데이터 발표 임박에 강세</td>\n",
              "      <td>[이데일리 박태진 기자] 알파홀딩스(117670)가 자회사의 유방암 관련 임상 데이...</td>\n",
              "      <td>이데일리</td>\n",
              "      <td>알파홀딩스</td>\n",
              "      <td>1</td>\n",
              "    </tr>\n",
              "    <tr>\n",
              "      <th>853</th>\n",
              "      <td>4457</td>\n",
              "      <td>2019-06-19</td>\n",
              "      <td>09:13</td>\n",
              "      <td>0</td>\n",
              "      <td>코스닥 상장 후 급등한 줌인터넷, 8%대 하락세</td>\n",
              "      <td>[머니투데이 진경진 기자] 코스닥 시장 상장 후 급등세를 보여왔던 줌인터넷이 8%대...</td>\n",
              "      <td>머니투데이</td>\n",
              "      <td>줌인터넷</td>\n",
              "      <td>0</td>\n",
              "    </tr>\n",
              "    <tr>\n",
              "      <th>4824</th>\n",
              "      <td>4826</td>\n",
              "      <td>2019-06-05</td>\n",
              "      <td>08:16</td>\n",
              "      <td>1</td>\n",
              "      <td>\"한국항공우주, 주가 발목잡은 악재 해소…실적 정상화 기대\"</td>\n",
              "      <td>NH투자증권은 5일 한국항공우주에 대해 2분기 내 이라크 수출물량과 기자재 업체들의...</td>\n",
              "      <td>매일경제</td>\n",
              "      <td>한국항공우주</td>\n",
              "      <td>1</td>\n",
              "    </tr>\n",
              "    <tr>\n",
              "      <th>6246</th>\n",
              "      <td>6735</td>\n",
              "      <td>2019-08-19</td>\n",
              "      <td>14:47</td>\n",
              "      <td>1</td>\n",
              "      <td>알에스오토, 로봇핵심 부품 국산화…탈일본 추진 대기업 구매 확약</td>\n",
              "      <td>[아시아경제 박형수 기자] 알에스오토메이션이 강세다. 로봇 및 스마트머신용 다축 서...</td>\n",
              "      <td>아시아경제</td>\n",
              "      <td>stock</td>\n",
              "      <td>1</td>\n",
              "    </tr>\n",
              "  </tbody>\n",
              "</table>\n",
              "</div>"
            ],
            "text/plain": [
              "        id        date   time  ...  press    stock label\n",
              "3896  6049  2019-04-24  09:14  ...    뉴시스    LG이노텍     1\n",
              "1406  6447  2019-08-29  15:16  ...  아시아경제    stock    -1\n",
              "5091  4515  2019-06-18  07:56  ...   매일경제  오스템임플란트     0\n",
              "7221  5464  2019-10-16  09:19  ...   조선비즈     원풍물산     1\n",
              "865   4369  2019-06-21  09:22  ...   연합뉴스      한진칼    -1\n",
              "5173  4363  2019-06-21  09:29  ...  아시아경제    stock     1\n",
              "4413  5282  2019-05-21  14:18  ...   이데일리    알파홀딩스     1\n",
              "853   4457  2019-06-19  09:13  ...  머니투데이     줌인터넷     0\n",
              "4824  4826  2019-06-05  08:16  ...   매일경제   한국항공우주     1\n",
              "6246  6735  2019-08-19  14:47  ...  아시아경제    stock     1\n",
              "\n",
              "[10 rows x 9 columns]"
            ]
          },
          "metadata": {
            "tags": []
          },
          "execution_count": 73
        }
      ]
    },
    {
      "cell_type": "code",
      "metadata": {
        "id": "wNS-w4MP9aC8",
        "colab": {
          "base_uri": "https://localhost:8080/"
        },
        "outputId": "2c118e8b-e2a4-4b29-a0f8-dbf56dccb8b9"
      },
      "source": [
        "train_data['posi_nega'].value_counts()"
      ],
      "execution_count": 74,
      "outputs": [
        {
          "output_type": "execute_result",
          "data": {
            "text/plain": [
              "1    6379\n",
              "0    1716\n",
              "Name: posi_nega, dtype: int64"
            ]
          },
          "metadata": {
            "tags": []
          },
          "execution_count": 74
        }
      ]
    },
    {
      "cell_type": "code",
      "metadata": {
        "id": "XWqzBr-iNael",
        "colab": {
          "base_uri": "https://localhost:8080/"
        },
        "outputId": "15247868-3b9e-42c7-fcf8-0b0efe8d6330"
      },
      "source": [
        "train_data.info()"
      ],
      "execution_count": 75,
      "outputs": [
        {
          "output_type": "stream",
          "text": [
            "<class 'pandas.core.frame.DataFrame'>\n",
            "Int64Index: 8095 entries, 3896 to 8078\n",
            "Data columns (total 9 columns):\n",
            " #   Column     Non-Null Count  Dtype \n",
            "---  ------     --------------  ----- \n",
            " 0   id         8095 non-null   int64 \n",
            " 1   date       8095 non-null   object\n",
            " 2   time       8095 non-null   object\n",
            " 3   posi_nega  8095 non-null   int64 \n",
            " 4   title      8095 non-null   object\n",
            " 5   content    8095 non-null   object\n",
            " 6   press      8095 non-null   object\n",
            " 7   stock      8095 non-null   object\n",
            " 8   label      8095 non-null   int64 \n",
            "dtypes: int64(3), object(6)\n",
            "memory usage: 632.4+ KB\n"
          ],
          "name": "stdout"
        }
      ]
    },
    {
      "cell_type": "code",
      "metadata": {
        "id": "BT7kUtafox41",
        "colab": {
          "base_uri": "https://localhost:8080/"
        },
        "outputId": "2b2bd6cc-3810-4c7d-918e-5c70625e2b2c"
      },
      "source": [
        "print(train_data['title'].nunique())\n",
        "print(train_data['posi_nega'].nunique())"
      ],
      "execution_count": 76,
      "outputs": [
        {
          "output_type": "stream",
          "text": [
            "8095\n",
            "2\n"
          ],
          "name": "stdout"
        }
      ]
    },
    {
      "cell_type": "code",
      "metadata": {
        "id": "N_KM7ZJzphrl",
        "colab": {
          "base_uri": "https://localhost:8080/"
        },
        "outputId": "778adf00-438a-445f-975b-9b6858eb2a31"
      },
      "source": [
        "print(train_data.isnull().sum())"
      ],
      "execution_count": 77,
      "outputs": [
        {
          "output_type": "stream",
          "text": [
            "id           0\n",
            "date         0\n",
            "time         0\n",
            "posi_nega    0\n",
            "title        0\n",
            "content      0\n",
            "press        0\n",
            "stock        0\n",
            "label        0\n",
            "dtype: int64\n"
          ],
          "name": "stdout"
        }
      ]
    },
    {
      "cell_type": "code",
      "metadata": {
        "id": "itbJpwPnpsgk",
        "colab": {
          "base_uri": "https://localhost:8080/",
          "height": 637
        },
        "outputId": "652e61de-0a9b-4a0c-84cf-0033a3e0ef6c"
      },
      "source": [
        "train_data['title'] = train_data['title'].str.replace(\"[^ㄱ-ㅎㅏ-ㅣ가-힣↑↓ ]\", \"\")\n",
        "train_data[:10]"
      ],
      "execution_count": 78,
      "outputs": [
        {
          "output_type": "stream",
          "text": [
            "/usr/local/lib/python3.7/dist-packages/ipykernel_launcher.py:1: SettingWithCopyWarning: \n",
            "A value is trying to be set on a copy of a slice from a DataFrame.\n",
            "Try using .loc[row_indexer,col_indexer] = value instead\n",
            "\n",
            "See the caveats in the documentation: https://pandas.pydata.org/pandas-docs/stable/user_guide/indexing.html#returning-a-view-versus-a-copy\n",
            "  \"\"\"Entry point for launching an IPython kernel.\n"
          ],
          "name": "stderr"
        },
        {
          "output_type": "execute_result",
          "data": {
            "text/html": [
              "<div>\n",
              "<style scoped>\n",
              "    .dataframe tbody tr th:only-of-type {\n",
              "        vertical-align: middle;\n",
              "    }\n",
              "\n",
              "    .dataframe tbody tr th {\n",
              "        vertical-align: top;\n",
              "    }\n",
              "\n",
              "    .dataframe thead th {\n",
              "        text-align: right;\n",
              "    }\n",
              "</style>\n",
              "<table border=\"1\" class=\"dataframe\">\n",
              "  <thead>\n",
              "    <tr style=\"text-align: right;\">\n",
              "      <th></th>\n",
              "      <th>id</th>\n",
              "      <th>date</th>\n",
              "      <th>time</th>\n",
              "      <th>posi_nega</th>\n",
              "      <th>title</th>\n",
              "      <th>content</th>\n",
              "      <th>press</th>\n",
              "      <th>stock</th>\n",
              "      <th>label</th>\n",
              "    </tr>\n",
              "  </thead>\n",
              "  <tbody>\n",
              "    <tr>\n",
              "      <th>3896</th>\n",
              "      <td>6049</td>\n",
              "      <td>2019-04-24</td>\n",
              "      <td>09:14</td>\n",
              "      <td>1</td>\n",
              "      <td>이노텍 실적개선 기대에 강세</td>\n",
              "      <td>【서울=뉴시스】하종민 기자 = LG이노텍(011070) 주가가 실적개선 기대에 강세...</td>\n",
              "      <td>뉴시스</td>\n",
              "      <td>LG이노텍</td>\n",
              "      <td>1</td>\n",
              "    </tr>\n",
              "    <tr>\n",
              "      <th>1406</th>\n",
              "      <td>6447</td>\n",
              "      <td>2019-08-29</td>\n",
              "      <td>15:16</td>\n",
              "      <td>0</td>\n",
              "      <td>삼성바이오 이재용 부회장 뇌물혐의 추가 소식에 급락</td>\n",
              "      <td>[아시아경제 고형광 기자] 이재용 삼성전자 부회장에 대한 '국정농단 사건' 대법원 ...</td>\n",
              "      <td>아시아경제</td>\n",
              "      <td>stock</td>\n",
              "      <td>-1</td>\n",
              "    </tr>\n",
              "    <tr>\n",
              "      <th>5091</th>\n",
              "      <td>4515</td>\n",
              "      <td>2019-06-18</td>\n",
              "      <td>07:56</td>\n",
              "      <td>1</td>\n",
              "      <td>오스템임플란트 턴어라운드 가속화 전망</td>\n",
              "      <td>자료 제공 = 하이투자증권하이투자증권은 18일 오스템임플란트에 대해 턴어라운드가 가...</td>\n",
              "      <td>매일경제</td>\n",
              "      <td>오스템임플란트</td>\n",
              "      <td>0</td>\n",
              "    </tr>\n",
              "    <tr>\n",
              "      <th>7221</th>\n",
              "      <td>5464</td>\n",
              "      <td>2019-10-16</td>\n",
              "      <td>09:19</td>\n",
              "      <td>1</td>\n",
              "      <td>임상 성공 소식에  오른 바이오주주주사 원풍물산도 급등</td>\n",
              "      <td>미국 나스닥시장에 상장한 바이오회사 렐마다 테러퓨틱스(RELMADA THERAPEU...</td>\n",
              "      <td>조선비즈</td>\n",
              "      <td>원풍물산</td>\n",
              "      <td>1</td>\n",
              "    </tr>\n",
              "    <tr>\n",
              "      <th>865</th>\n",
              "      <td>4369</td>\n",
              "      <td>2019-06-21</td>\n",
              "      <td>09:22</td>\n",
              "      <td>0</td>\n",
              "      <td>백기사 델타항공 지분 매입에 한진칼 약세</td>\n",
              "      <td>대한항공-델타항공 조인트벤처 출범 1주년 광고[대한항공 제공]    (서울=연합뉴스...</td>\n",
              "      <td>연합뉴스</td>\n",
              "      <td>한진칼</td>\n",
              "      <td>-1</td>\n",
              "    </tr>\n",
              "    <tr>\n",
              "      <th>5173</th>\n",
              "      <td>4363</td>\n",
              "      <td>2019-06-21</td>\n",
              "      <td>09:29</td>\n",
              "      <td>1</td>\n",
              "      <td>바른테크놀로지 유상증자발행에 상한가 기록</td>\n",
              "      <td>[아시아경제 금보령 기자] 바른테크놀로지가 21일 장 초반 상한가를 나타냈다. 대규...</td>\n",
              "      <td>아시아경제</td>\n",
              "      <td>stock</td>\n",
              "      <td>1</td>\n",
              "    </tr>\n",
              "    <tr>\n",
              "      <th>4413</th>\n",
              "      <td>5282</td>\n",
              "      <td>2019-05-21</td>\n",
              "      <td>14:18</td>\n",
              "      <td>1</td>\n",
              "      <td>알파홀딩스 자회사 임상 데이터 발표 임박에 강세</td>\n",
              "      <td>[이데일리 박태진 기자] 알파홀딩스(117670)가 자회사의 유방암 관련 임상 데이...</td>\n",
              "      <td>이데일리</td>\n",
              "      <td>알파홀딩스</td>\n",
              "      <td>1</td>\n",
              "    </tr>\n",
              "    <tr>\n",
              "      <th>853</th>\n",
              "      <td>4457</td>\n",
              "      <td>2019-06-19</td>\n",
              "      <td>09:13</td>\n",
              "      <td>0</td>\n",
              "      <td>코스닥 상장 후 급등한 줌인터넷 대 하락세</td>\n",
              "      <td>[머니투데이 진경진 기자] 코스닥 시장 상장 후 급등세를 보여왔던 줌인터넷이 8%대...</td>\n",
              "      <td>머니투데이</td>\n",
              "      <td>줌인터넷</td>\n",
              "      <td>0</td>\n",
              "    </tr>\n",
              "    <tr>\n",
              "      <th>4824</th>\n",
              "      <td>4826</td>\n",
              "      <td>2019-06-05</td>\n",
              "      <td>08:16</td>\n",
              "      <td>1</td>\n",
              "      <td>한국항공우주 주가 발목잡은 악재 해소실적 정상화 기대</td>\n",
              "      <td>NH투자증권은 5일 한국항공우주에 대해 2분기 내 이라크 수출물량과 기자재 업체들의...</td>\n",
              "      <td>매일경제</td>\n",
              "      <td>한국항공우주</td>\n",
              "      <td>1</td>\n",
              "    </tr>\n",
              "    <tr>\n",
              "      <th>6246</th>\n",
              "      <td>6735</td>\n",
              "      <td>2019-08-19</td>\n",
              "      <td>14:47</td>\n",
              "      <td>1</td>\n",
              "      <td>알에스오토 로봇핵심 부품 국산화탈일본 추진 대기업 구매 확약</td>\n",
              "      <td>[아시아경제 박형수 기자] 알에스오토메이션이 강세다. 로봇 및 스마트머신용 다축 서...</td>\n",
              "      <td>아시아경제</td>\n",
              "      <td>stock</td>\n",
              "      <td>1</td>\n",
              "    </tr>\n",
              "  </tbody>\n",
              "</table>\n",
              "</div>"
            ],
            "text/plain": [
              "        id        date   time  ...  press    stock label\n",
              "3896  6049  2019-04-24  09:14  ...    뉴시스    LG이노텍     1\n",
              "1406  6447  2019-08-29  15:16  ...  아시아경제    stock    -1\n",
              "5091  4515  2019-06-18  07:56  ...   매일경제  오스템임플란트     0\n",
              "7221  5464  2019-10-16  09:19  ...   조선비즈     원풍물산     1\n",
              "865   4369  2019-06-21  09:22  ...   연합뉴스      한진칼    -1\n",
              "5173  4363  2019-06-21  09:29  ...  아시아경제    stock     1\n",
              "4413  5282  2019-05-21  14:18  ...   이데일리    알파홀딩스     1\n",
              "853   4457  2019-06-19  09:13  ...  머니투데이     줌인터넷     0\n",
              "4824  4826  2019-06-05  08:16  ...   매일경제   한국항공우주     1\n",
              "6246  6735  2019-08-19  14:47  ...  아시아경제    stock     1\n",
              "\n",
              "[10 rows x 9 columns]"
            ]
          },
          "metadata": {
            "tags": []
          },
          "execution_count": 78
        }
      ]
    },
    {
      "cell_type": "code",
      "metadata": {
        "id": "4VmA5eEHq_nd",
        "colab": {
          "base_uri": "https://localhost:8080/",
          "height": 349
        },
        "outputId": "18b3ed52-c298-4bc3-ffcb-75306e8ac7fb"
      },
      "source": [
        "test_data['title'] = test_data['title'].str.replace(\"[^ㄱ-ㅎㅏ-ㅣ가-힣上下↑↓ ]\", \"\")\n",
        "test_data.head(4)"
      ],
      "execution_count": 79,
      "outputs": [
        {
          "output_type": "stream",
          "text": [
            "/usr/local/lib/python3.7/dist-packages/ipykernel_launcher.py:1: SettingWithCopyWarning: \n",
            "A value is trying to be set on a copy of a slice from a DataFrame.\n",
            "Try using .loc[row_indexer,col_indexer] = value instead\n",
            "\n",
            "See the caveats in the documentation: https://pandas.pydata.org/pandas-docs/stable/user_guide/indexing.html#returning-a-view-versus-a-copy\n",
            "  \"\"\"Entry point for launching an IPython kernel.\n"
          ],
          "name": "stderr"
        },
        {
          "output_type": "execute_result",
          "data": {
            "text/html": [
              "<div>\n",
              "<style scoped>\n",
              "    .dataframe tbody tr th:only-of-type {\n",
              "        vertical-align: middle;\n",
              "    }\n",
              "\n",
              "    .dataframe tbody tr th {\n",
              "        vertical-align: top;\n",
              "    }\n",
              "\n",
              "    .dataframe thead th {\n",
              "        text-align: right;\n",
              "    }\n",
              "</style>\n",
              "<table border=\"1\" class=\"dataframe\">\n",
              "  <thead>\n",
              "    <tr style=\"text-align: right;\">\n",
              "      <th></th>\n",
              "      <th>id</th>\n",
              "      <th>date</th>\n",
              "      <th>time</th>\n",
              "      <th>posi_nega</th>\n",
              "      <th>title</th>\n",
              "      <th>content</th>\n",
              "      <th>press</th>\n",
              "      <th>stock</th>\n",
              "      <th>label</th>\n",
              "    </tr>\n",
              "  </thead>\n",
              "  <tbody>\n",
              "    <tr>\n",
              "      <th>1902</th>\n",
              "      <td>3941</td>\n",
              "      <td>2020-01-28</td>\n",
              "      <td>09:23</td>\n",
              "      <td>0</td>\n",
              "      <td>신종코로나 공포에 중국 소비주 줄줄이 급락</td>\n",
              "      <td>붐비는 인천공항 입국 검역대(영종도=연합뉴스) 도광환 기자 = 국내에서 신종 코로나...</td>\n",
              "      <td>연합뉴스</td>\n",
              "      <td>stock</td>\n",
              "      <td>-1</td>\n",
              "    </tr>\n",
              "    <tr>\n",
              "      <th>7502</th>\n",
              "      <td>5069</td>\n",
              "      <td>2019-11-01</td>\n",
              "      <td>10:22</td>\n",
              "      <td>1</td>\n",
              "      <td>아이오케이 비덴트 투자 소식에 강세빗썸 지분 부각</td>\n",
              "      <td>[아시아경제 유현석 기자] 아이오케이가 강세다. 암호화폐 거래소인 빗썸의 최대주주 ...</td>\n",
              "      <td>아시아경제</td>\n",
              "      <td>아이오케이</td>\n",
              "      <td>1</td>\n",
              "    </tr>\n",
              "    <tr>\n",
              "      <th>507</th>\n",
              "      <td>5739</td>\n",
              "      <td>2019-05-07</td>\n",
              "      <td>09:23</td>\n",
              "      <td>0</td>\n",
              "      <td>코오롱티슈진생명과학 인보사 성분 변경 인지 의혹에 급락</td>\n",
              "      <td>【서울=뉴시스】류병화 기자 = 코오롱티슈진과 코오롱생명과학이 골관절염 치료제 '인보...</td>\n",
              "      <td>뉴시스</td>\n",
              "      <td>코오롱티슈진</td>\n",
              "      <td>-1</td>\n",
              "    </tr>\n",
              "    <tr>\n",
              "      <th>2644</th>\n",
              "      <td>7557</td>\n",
              "      <td>2019-03-12</td>\n",
              "      <td>09:29</td>\n",
              "      <td>1</td>\n",
              "      <td>롯데칠성 호실적 전망에 대 강세</td>\n",
              "      <td>롯데칠성이 올해 음료부문 사상 최대 이익이 기대된다는 전망에 강세를 나타내고 있다....</td>\n",
              "      <td>파이낸셜뉴스</td>\n",
              "      <td>롯데칠성</td>\n",
              "      <td>1</td>\n",
              "    </tr>\n",
              "  </tbody>\n",
              "</table>\n",
              "</div>"
            ],
            "text/plain": [
              "        id        date   time  ...   press   stock label\n",
              "1902  3941  2020-01-28  09:23  ...    연합뉴스   stock    -1\n",
              "7502  5069  2019-11-01  10:22  ...   아시아경제   아이오케이     1\n",
              "507   5739  2019-05-07  09:23  ...     뉴시스  코오롱티슈진    -1\n",
              "2644  7557  2019-03-12  09:29  ...  파이낸셜뉴스    롯데칠성     1\n",
              "\n",
              "[4 rows x 9 columns]"
            ]
          },
          "metadata": {
            "tags": []
          },
          "execution_count": 79
        }
      ]
    },
    {
      "cell_type": "code",
      "metadata": {
        "id": "dqEibXbArp0u"
      },
      "source": [
        "stopwords = ['의','가','이','은','들','는','좀','잘','걍','과','도','를','으로','자','에','와','한','하다']"
      ],
      "execution_count": 80,
      "outputs": []
    },
    {
      "cell_type": "code",
      "metadata": {
        "id": "gjScAiltr6P0"
      },
      "source": [
        "mecab = Mecab()\n",
        "\n",
        "X_train = []\n",
        "for sentence in train_data['title']:\n",
        "  X_train.append([word for word in mecab.morphs(sentence) if not word in stopwords])"
      ],
      "execution_count": 81,
      "outputs": []
    },
    {
      "cell_type": "code",
      "metadata": {
        "id": "5cHUN-5LsOq0",
        "colab": {
          "base_uri": "https://localhost:8080/"
        },
        "outputId": "95fa91f9-eb57-48ee-dd51-81d16f0e58fe"
      },
      "source": [
        "print(X_train[:3])"
      ],
      "execution_count": 82,
      "outputs": [
        {
          "output_type": "stream",
          "text": [
            "[['이노', '텍', '실적', '개선', '기대', '강세'], ['삼성', '바이오', '이재용', '부회장', '뇌물', '혐의', '추가', '소식', '급락'], ['오', '스템', '임', '플란트', '턴', '어', '라운드', '가속', '화', '전망']]\n"
          ],
          "name": "stdout"
        }
      ]
    },
    {
      "cell_type": "code",
      "metadata": {
        "id": "Kco3405Dsb5s"
      },
      "source": [
        "X_test = []\n",
        "for sentence in test_data['title']:\n",
        "  X_test.append([word for word in mecab.morphs(sentence) if not word in stopwords])"
      ],
      "execution_count": 83,
      "outputs": []
    },
    {
      "cell_type": "code",
      "metadata": {
        "id": "2wMX5xaksy2W",
        "colab": {
          "base_uri": "https://localhost:8080/"
        },
        "outputId": "5ff81174-f057-4462-b411-a2405d7fcc1b"
      },
      "source": [
        "tokenizer = Tokenizer()\n",
        "tokenizer.fit_on_texts(X_train)\n",
        "print(tokenizer.word_index)"
      ],
      "execution_count": 84,
      "outputs": [
        {
          "output_type": "stream",
          "text": [
            "{'강세': 1, '소식': 2, '실적': 3, '급등': 4, '↑': 5, '기대': 6, '분기': 7, '주': 8, '약세': 9, '로': 10, '코로나': 11, '기대감': 12, '전망': 13, '상장': 14, '목표': 15, '적': 16, '급락': 17, '성장': 18, '바이오': 19, '대': 20, '억': 21, '규모': 22, '성': 23, '종합': 24, '상승': 25, '관련': 26, '개선': 27, '수혜': 28, '텍': 29, '↓': 30, '등': 31, '첫날': 32, '상한가': 33, '원': 34, '상승세': 35, '화': 36, '삼성': 37, '째': 38, '신고': 39, '삼성전자': 40, '투자': 41, '주가': 42, '개발': 43, '부각': 44, '사업': 45, '만': 46, '임상': 47, '부진': 48, '이틀': 49, '젠': 50, '씨': 51, '시장': 52, '인수': 53, '계약': 54, '기술': 55, '치료제': 56, '티': 57, '매각': 58, '확대': 59, '한진': 60, '인': 61, '어': 62, '자회사': 63, '코스닥': 64, '앤': 65, '소재': 66, '한국': 67, '진단': 68, '지분': 69, '에스': 70, '호실': 71, '제약': 72, '하락': 73, '증자': 74, '상': 75, '공급': 76, '셀': 77, '증가': 78, '사': 79, '수출': 80, '우려': 81, '이익': 82, '대주주': 83, '아': 84, '최대': 85, '칼': 86, '코오롱': 87, '중국': 88, '지속': 89, '반도체': 90, '결정': 91, '연속': 92, '세계': 93, '차': 94, '그룹': 95, '동반': 96, '조': 97, '생명': 98, '나': 99, '공모': 100, '신': 101, '최': 102, '매출': 103, '일': 104, '유상': 105, '추진': 106, '영업': 107, '엔': 108, '하락세': 109, '오': 110, '비': 111, '중': 112, '제': 113, '효과': 114, '예상': 115, '현대': 116, '키트': 117, '가능': 118, '업체': 119, '산업': 120, '취득': 121, '반': 122, '급등세': 123, '아이': 124, '트리': 125, '하이닉스': 126, '올해': 127, '허가': 128, '승인': 129, '과학': 130, '재개': 131, '시': 132, '신저': 133, '고': 134, '하반기': 135, '호조': 136, '국내': 137, '스': 138, '회복': 139, '수': 140, '엔터': 141, '두산': 142, '테크': 143, '모': 144, '온': 145, '평가': 146, '코리아': 147, '판매': 148, '미국': 149, '서': 150, '신약': 151, '지': 152, '장': 153, '메디': 154, '정부': 155, '특허': 156, '전': 157, '첫': 158, '경영': 159, '수주': 160, '기업': 161, '권': 162, '발표': 163, '전환': 164, '수소': 165, '수요': 166, '종목': 167, '장중': 168, '치료': 169, '트': 170, '합병': 171, '가치': 172, '위': 173, '거래': 174, '용': 175, '치': 176, '슈': 177, '생산': 178, '급락세': 179, '수익': 180, '멘': 181, '규제': 182, '변경': 183, '초반': 184, '일본': 185, '확산': 186, '매수': 187, '돼지': 188, '경협': 189, '카카오': 190, '출시': 191, '현대차': 192, '텀': 193, '글로벌': 194, '약품': 195, '저': 196, '것': 197, '아시아': 198, '사상': 199, '지정': 200, '닝': 201, '재': 202, '최초': 203, '화학': 204, '지원': 205, '유증': 206, '본격': 207, '진출': 208, '나노': 209, '중공업': 210, '엠': 211, '부품': 212, '테마주': 213, '솔': 214, '하한가': 215, '년': 216, '상회': 217, '홀딩스': 218, '거래일': 219, '소프트': 220, '아시아나항공': 221, '자금': 222, '에프': 223, '전지': 224, '제품': 225, '메': 226, '후': 227, '분쟁': 228, '배': 229, '마스크': 230, '백신': 231, '솔루션': 232, '내년': 233, '의견': 234, '퓨': 235, '관리': 236, '전자': 237, '알': 238, '핵심': 239, '그린': 240, '설': 241, '웍스': 242, '로직스': 243, '익': 244, '테': 245, '시스템': 246, '경신': 247, '최고': 248, '미세먼지': 249, '병': 250, '날': 251, '불': 252, '케이': 253, '하': 254, '피': 255, '약': 256, '미': 257, '그래핀': 258, '시스': 259, '국산화': 260, '코': 261, '증권': 262, '해외': 263, '주목': 264, '디': 265, '대비': 266, '에이치엘비': 267, '장비': 268, '상용': 269, '신규': 270, '톡스': 271, '조달': 272, '진': 273, '항공': 274, '콘': 275, '중단': 276, '주식': 277, '연일': 278, '신라': 279, '발행': 280, '분석': 281, '우리': 282, '아프리카': 283, '의료': 284, '열': 285, '추가': 286, '성공': 287, '쇼크': 288, '보유': 289, '뉴딜': 290, '불매': 291, '반사': 292, '영향': 293, '화장품': 294, '총': 295, '정상': 296, '까지': 297, '혜주': 298, '케어': 299, '부터': 300, '할': 301, '흑자': 302, '따른': 303, '앞두': 304, '깜짝': 305, '주주': 306, '네트': 307, '엘': 308, '강': 309, '적자': 310, '더블유': 311, '한미': 312, '주행': 313, '급': 314, '대통령': 315, '게임': 316, '틱': 317, '공장': 318, '감사': 319, '사료': 320, '전기차': 321, '기록': 322, '롯데': 323, '운동': 324, '다': 325, '유': 326, '론': 327, '확보': 328, '금융': 329, '신세계': 330, '배터리': 331, '사주': 332, '자율': 333, '부': 334, '넷마블': 335, '스튜디오': 336, '휴': 337, '우': 338, '임': 339, '신청': 340, '장기': 341, '선정': 342, '해제': 343, '물질': 344, '개': 345, '확실': 346, '헬스': 347, '공시': 348, '육성': 349, '웃돌': 350, '건설': 351, '가격': 352, '신작': 353, '감자': 354, '높': 355, '헬': 356, '며': 357, '로봇': 358, '구조': 359, '휠라': 360, '플러스': 361, '마이크': 362, '긍정': 363, '회장': 364, '분할': 365, '체결': 366, '일제히': 367, '루스': 368, '매력': 369, '호텔신라': 370, '안정': 371, '스템': 372, '폐': 373, '대표': 374, '식': 375, '참여': 376, '표': 377, '후보': 378, '부문': 379, '남북': 380, '미래': 381, '테크놀로지': 382, '지주': 383, '웅진': 384, '게임즈': 385, '서프라이즈': 386, '한화': 387, '프로': 388, '보다': 389, '제주항공': 390, '네오': 391, '결과': 392, '희토류': 393, '돌파': 394, '항암제': 395, '외인': 396, '앤지': 397, '벡': 398, '켐': 399, '달성': 400, '독점': 401, '바이오팜': 402, '해소': 403, '업': 404, '온라인': 405, '법인': 406, '북한': 407, '인증': 408, '정책': 409, '기생충': 410, '이노': 411, '이마트': 412, '통신': 413, '보사': 414, '대한': 415, '사흘': 416, '랩': 417, '즈': 418, '인보': 419, '트럼프': 420, '팩': 421, '전기': 422, '제재': 423, '에너지': 424, '바이': 425, '브레인': 426, '딕스': 427, '월': 428, '넥': 429, '의혹': 430, '뉴': 431, '계열사': 432, '매입': 433, '조국': 434, '검토': 435, '폐지': 436, '확인': 437, '속': 438, '바이러스': 439, '밑돌': 440, '첨단': 441, '사이언스': 442, '이후': 443, '인터': 444, '케미': 445, '무상': 446, '이상': 447, '디스플레이': 448, '진입': 449, '췌장암': 450, '대한항공': 451, '두': 452, '먼': 453, '텔': 454, '형': 455, '펙': 456, '계': 457, '한류': 458, '서비스': 459, '급증': 460, '또': 461, '결제': 462, '기': 463, '고성장': 464, '협상': 465, '북미': 466, '서울': 467, '코스피': 468, '에이치': 469, '면역': 470, '네이버': 471, '임박': 472, '케이엠': 473, '넷': 474, '폭': 475, '무역': 476, '산': 477, '소송': 478, '악화': 479, '믹스': 480, '리': 481, '논란': 482, '황': 483, '포스코': 484, '동물': 485, '유럽': 486, '세': 487, '강화': 488, '플란트': 489, '발생': 490, '얼': 491, '금호': 492, '에코': 493, '처': 494, '지노': 495, '유가': 496, '흥행': 497, '콜': 498, '국제': 499, '블록체인': 500, '하나': 501, '올': 502, '팜': 503, '화폐': 504, '센터': 505, '작년': 506, '미디어': 507, '신종': 508, '외국인': 509, '퍼시픽': 510, '편입': 511, '내': 512, '에이': 513, '브이': 514, '릭스미스': 515, '해': 516, '처분': 517, '오텍': 518, '드림': 519, '시너지': 520, '버리': 521, '대웅': 522, '교육': 523, '예고': 524, '드래곤': 525, '지연': 526, '우선주': 527, '넥슨': 528, '석유': 529, '에스엠': 530, '국': 531, '이엘': 532, '바른손': 533, '공기': 534, '배당': 535, '닙': 536, '취소': 537, '유지': 538, '션': 539, '기기': 540, '셀리': 541, '발언': 542, '여파': 543, '여행': 544, '머티': 545, '우진': 546, '역대': 547, '마감': 548, '녹십자': 549, '하회': 550, '항암': 551, '기관': 552, '스마트': 553, '제조': 554, '지엠피': 555, '환경': 556, '없': 557, '더': 558, '플랫': 559, '폼': 560, '턴': 561, '계획': 562, '보고서': 563, '나흘': 564, '밸류': 565, '삼': 566, '령': 567, '액': 568, '이전': 569, '효능': 570, '팹': 571, '비엠': 572, '겐': 573, '제지': 574, '지난해': 575, '닉스': 576, '공동': 577, '될': 578, '감소': 579, '악재': 580, '오토': 581, '항체': 582, '증권가': 583, '조사': 584, '딜': 585, '좋': 586, '폴': 587, '매매': 588, '폐렴': 589, '매도': 590, '파트너': 591, '률': 592, '투': 593, '율': 594, '선': 595, '이사': 596, '재무': 597, '공사': 598, '톡': 599, '양호': 600, '청정기': 601, '및': 602, '오리온': 603, '수사': 604, '위기': 605, '정보': 606, '안': 607, '확장': 608, '유일': 609, '보': 610, '치매': 611, '방산': 612, '이낙연': 613, '추정': 614, '자사': 615, '관세': 616, '기술력': 617, '아모레': 618, '손': 619, '상반기': 620, '회담': 621, '연기': 622, '품목': 623, '모바일': 624, '모가': 625, '마약': 626, '시작': 627, '둔화': 628, '이프로': 629, '동아': 630, '라': 631, '삼성전기': 632, '와이': 633, '이타': 634, '필름': 635, '실패': 636, '램': 637, '면세점': 638, '케': 639, '법': 640, '통과': 641, '철도': 642, '실': 643, '문': 644, '블루': 645, '메드': 646, '완료': 647, '태림': 648, '포장': 649, '시설': 650, '적정': 651, '입증': 652, '과제': 653, '동부': 654, '제출': 655, '마': 656, '호': 657, '라운드': 658, '제한': 659, '파마': 660, '리얼': 661, '전데': 662, '대북': 663, '지니': 664, '언스': 665, '홈': 666, '복귀': 667, '선언': 668, '원전': 669, '맥스': 670, '자산': 671, '미스터': 672, '호재': 673, '해운': 674, '심사': 675, '조선': 676, '제철': 677, '쌍용': 678, '면분': 679, '세포': 680, '데이터': 681, '앱': 682, '효성': 683, '전략': 684, '더블': 685, '회사': 686, '암': 687, '에서': 688, '폭락': 689, '심': 690, '필터': 691, '블록': 692, '부담': 693, '인트': 694, '검찰': 695, '철회': 696, '텐': 697, '썸': 698, '웅진코웨이': 699, '설비': 700, '행진': 701, '시대': 702, '대체': 703, '셋': 704, '택트': 705, '에스티': 706, '화웨이': 707, '활용': 708, '소폭': 709, '있': 710, '큐': 711, '인프라': 712, '텔레콤': 713, '본격화': 714, '기계': 715, '효력': 716, '기회': 717, '파': 718, '안철수': 719, '의약품': 720, '보복': 721, '리보': 722, '세라': 723, '이치': 724, '초': 725, '플': 726, '단기': 727, '콘텐츠': 728, '탄소': 729, '섬유': 730, '유치': 731, '금지': 732, '개월': 733, '이콘': 734, '증시': 735, '유통': 736, '언': 737, '완화': 738, '하이트진로': 739, '넘': 740, '맥': 741, '넥스트': 742, '진에어': 743, '이노베이션': 744, '경쟁': 745, '라온': 746, '동양': 747, '가동': 748, '구속': 749, '나이': 750, '항공우주': 751, '게': 752, '재평가': 753, '임상시험': 754, '넥스': 755, '스모': 756, '비트코인': 757, '반영': 758, '되': 759, '획득': 760, '딕': 761, '화재': 762, '방역': 763, '제약사': 764, '수준': 765, '큐브': 766, '구글': 767, '믹': 768, '내셔날 ': 769, '광고': 770, '앤디': 771, '남영': 772, '비비안': 773, '세원': 774, '외형': 775, '양산': 776, '투어': 777, '에어': 778, '잇단': 779, '자동차': 780, '입': 781, '불화': 782, '풍력': 783, '나스닥': 784, '을': 785, '된': 786, '메모리': 787, '새': 788, '실험': 789, '조정': 790, '장초': 791, '브랜드': 792, '테슬라': 793, '대성': 794, '전쟁': 795, '카드': 796, '열병': 797, '타격': 798, '국판': 799, '대상': 800, '세미': 801, '정지': 802, '단': 803, '파인': 804, '원격': 805, '원익': 806, '우한': 807, '가시': 808, '제작': 809, '껑충': 810, '지수': 811, '웰': 812, '랩스': 813, '사이버': 814, '필로': 815, '흥아': 816, '선점': 817, '줄기세포': 818, '크리스탈': 819, '드': 820, '나무': 821, '못': 822, '국책': 823, '비상': 824, '수입': 825, '성장세': 826, '일제': 827, '동성': 828, '물량': 829, '월드': 830, '확진': 831, '알테': 832, '혁신': 833, '대우': 834, '이재용': 835, '가속': 836, '뱅크': 837, '위드': 838, '클론': 839, '하향': 840, '이오': 841, '차바': 842, '양현석': 843, '대신': 844, '한솔': 845, '도입': 846, '쇼핑': 847, '영화': 848, '메지': 849, '품주': 850, '손실': 851, '기각': 852, '정리': 853, '정계': 854, '보험': 855, '가상': 856, '압수수색': 857, '갤럭시': 858, '롯데케미칼': 859, '유한양행': 860, '상한': 861, '리츠': 862, '펀드': 863, '틸': 864, '렉스': 865, '달러': 866, '폰': 867, '사용': 868, '적용': 869, '오름세': 870, '테마': 871, '사우디': 872, '가장': 873, '벤처': 874, '사고': 875, '입찰': 876, '롯데칠성': 877, '양자': 878, '락': 879, '관광': 880, '이슈': 881, '총선': 882, '신사업': 883, '환자': 884, '펄': 885, '어비스': 886, '자체': 887, '경쟁력': 888, '판': 889, '컴백': 890, '존': 891, '우선': 892, '면': 893, '무기': 894, '비용': 895, '혐의': 896, '종': 897, '인기': 898, '사퇴': 899, '억제': 900, '은행': 901, '협업': 902, '참': 903, '검사': 904, '하이테크': 905, '점': 906, '란': 907, '렘': 908, '종료': 909, '성과': 910, '주도': 911, '상품': 912, '차량': 913, '나란히': 914, '합의': 915, '유니온': 916, '양수': 917, '공개': 918, '수상': 919, '전환사채': 920, '닭고기': 921, '큰': 922, '돼': 923, '달': 924, '다시': 925, '간': 926, '점유': 927, '확정': 928, '납품': 929, '아모': 930, '원료': 931, '패스': 932, '감염': 933, '시험': 934, '경제': 935, '최저': 936, '스페이스': 937, '젤': 938, '제작사': 939, '대창': 940, '패치': 941, '지만': 942, '위메이드': 943, '파미': 944, '모델': 945, '소': 946, '파트': 947, '베스트': 948, '한샘': 949, '구축': 950, '윈드': 951, '저점': 952, '조작': 953, '원유': 954, '애경': 955, '에스에프': 956, '세아': 957, '금강산': 958, '바텍': 959, '젬': 960, '만주': 961, '백': 962, '델타': 963, '예정': 964, '플레이': 965, '디지털': 966, '에이디': 967, '칩스': 968, '분리': 969, '연결': 970, '부동산': 971, '착수': 972, '꿈': 973, '다산': 974, '돼지고기': 975, '스마트폰': 976, '등록': 977, '사태': 978, '협력': 979, '애국': 980, '리토': 981, '보안': 982, '기아차': 983, '헬로': 984, '경남': 985, '라이프': 986, '코스': 987, '건강': 988, '식품': 989, '동시': 990, '내시경': 991, '컴퍼니': 992, '낙폭': 993, '대량': 994, '차세대': 995, '팍스넷': 996, '대폭': 997, '네이처': 998, '제거': 999, '나라': 1000, '조원대': 1001, '네': 1002, '사익': 1003, '공인': 1004, '시초': 1005, '상자': 1006, '캐리': 1007, '애플': 1008, '종근당': 1009, '언급': 1010, '난티': 1011, '빅': 1012, '피소': 1013, '모두': 1014, '덱스터': 1015, '화성': 1016, '툴': 1017, '오이': 1018, '알서포트': 1019, '웹툰': 1020, '외국': 1021, '피플': 1022, '엔지니어링': 1023, '가공': 1024, '포스트': 1025, '설립': 1026, '조원': 1027, '백스': 1028, '푸드': 1029, '공식': 1030, '시약': 1031, '물산': 1032, '바른': 1033, '모듈': 1034, '식량': 1035, '코웨이': 1036, '방탄소년단': 1037, '무죄': 1038, '통한': 1039, '극': 1040, '보톡스': 1041, '증서': 1042, '타임즈': 1043, '유효': 1044, '아이디': 1045, '특수': 1046, '모나미': 1047, '알츠하이머': 1048, '다날': 1049, '사람': 1050, '미아': 1051, '화장': 1052, '잠재력': 1053, '분식': 1054, '회계': 1055, '발전': 1056, '필요': 1057, '티슈': 1058, '테스트': 1059, '보도': 1060, '흡수': 1061, '거절': 1062, '경쟁사': 1063, '에치': 1064, '진행': 1065, '정유': 1066, '캡슐': 1067, '개시': 1068, '카': 1069, '번': 1070, '질': 1071, '삼성엔지니어링': 1072, '권리락': 1073, '아스': 1074, '기반': 1075, '닷새': 1076, '컴투스': 1077, '긴급': 1078, '티웨이항공': 1079, '부산': 1080, '선방': 1081, '제이스': 1082, '허용': 1083, '텍스': 1084, '수돗물': 1085, '승리': 1086, '글': 1087, '천보': 1088, '집중': 1089, '과도': 1090, '줄줄이': 1091, '리스크': 1092, '하루': 1093, '활성': 1094, '프리마': 1095, '제일기획': 1096, '디케이': 1097, '증설': 1098, '연구': 1099, '경기': 1100, '시마': 1101, '현대모비스': 1102, '라인': 1103, '대상자': 1104, '동일': 1105, '한독': 1106, '인터넷': 1107, '알파': 1108, '줌인터넷': 1109, '본': 1110, '태양광': 1111, '화천': 1112, '레이': 1113, '천억': 1114, '변동성': 1115, '충분': 1116, '적극': 1117, '드론': 1118, '권고': 1119, '균주': 1120, '염수': 1121, '물': 1122, '제이엠': 1123, '차단': 1124, '신풍': 1125, '부인': 1126, '라이트': 1127, '증': 1128, '웹': 1129, '요청': 1130, '올라': 1131, '개학': 1132, '주택': 1133, '테일': 1134, '리니지': 1135, '덴트': 1136, '기대치': 1137, '위한': 1138, '협': 1139, '관계사': 1140, '삼성물산': 1141, '진매': 1142, '트릭스': 1143, '중동': 1144, '이지': 1145, '생': 1146, '빗': 1147, '리더스': 1148, '친환경': 1149, '포스': 1150, '도약': 1151, '공': 1152, '힘입': 1153, '프론': 1154, '테판': 1155, '바': 1156, '아이스크림': 1157, '프리': 1158, '프린팅': 1159, '계속': 1160, '양자암호': 1161, '탈모': 1162, '엘사이': 1163, '입건': 1164, '억대': 1165, '신주': 1166, '소독': 1167, '센트랄': 1168, '갈등': 1169, '타이어': 1170, '흐름': 1171, '비즈': 1172, '캐피탈': 1173, '제일제당': 1174, '고려': 1175, '육': 1176, '베스': 1177, '드라마': 1178, '패션': 1179, '견조': 1180, '제안': 1181, '파문': 1182, '난': 1183, '핀테크': 1184, '한정': 1185, '제이케이': 1186, '발견': 1187, '받': 1188, '분': 1189, '지배': 1190, '디엠': 1191, '안테나': 1192, '오늘': 1193, '압': 1194, '타바': 1195, '헝가리': 1196, '장관': 1197, '이제': 1198, '손해': 1199, '세무': 1200, '자연': 1201, '횡령': 1202, '장주': 1203, '양': 1204, '세경': 1205, '재검토': 1206, '스터디': 1207, '세틀': 1208, '면세': 1209, '업종': 1210, '데시': 1211, '비르': 1212, '디오': 1213, '지소': 1214, '템': 1215, '모든': 1216, '승소': 1217, '주자': 1218, '원천': 1219, '컴퓨터': 1220, '크린': 1221, '돌입': 1222, '멕시코': 1223, '암호': 1224, '알텍': 1225, '마련': 1226, '제휴': 1227, '쳐': 1228, '지티': 1229, '디즈니': 1230, '급반등': 1231, '병합': 1232, '아마존': 1233, '스메': 1234, '오성': 1235, '개혁': 1236, '에버': 1237, '무산': 1238, '프로스': 1239, '상상': 1240, '방한': 1241, '캠': 1242, '중공': 1243, '리드': 1244, '대실': 1245, '국가': 1246, '스케어': 1247, '진생': 1248, '명과학': 1249, '플랜': 1250, '탑재': 1251, '소각': 1252, '제기': 1253, '독보': 1254, '유니': 1255, '토건': 1256, '엔지': 1257, '옵': 1258, '지엔': 1259, '필룩스': 1260, '소비': 1261, '투입': 1262, '불가': 1263, '로보': 1264, '폴리': 1265, '톱': 1266, '레몬': 1267, '코트렐': 1268, '토막': 1269, '셀바스': 1270, '오픈': 1271, '디톡스': 1272, '마크': 1273, '실망': 1274, '리서치': 1275, '모비스': 1276, '아연': 1277, '해지': 1278, '공정위': 1279, '연료전지': 1280, '코웰': 1281, '금호산업': 1282, '건물': 1283, '남매': 1284, '만도': 1285, '배정': 1286, '녹스': 1287, '인상': 1288, '인식': 1289, '조직': 1290, '가스': 1291, '큐어': 1292, '미코': 1293, '에프엠': 1294, '이스타항공': 1295, '프라이드': 1296, '구충제': 1297, '이네트': 1298, '재추진': 1299, '기연': 1300, '제네': 1301, '일진': 1302, '낮': 1303, '한화케미칼': 1304, '평화': 1305, '씨티': 1306, '슈펙스': 1307, '루': 1308, '움': 1309, '지질': 1310, '프리미엄': 1311, '카메라': 1312, '가파른': 1313, '트론': 1314, '레고': 1315, '센': 1316, '일렉트릭': 1317, '삼보': 1318, '지트': 1319, '리비': 1320, '붕괴': 1321, '상어': 1322, '타': 1323, '웨어': 1324, '김정은': 1325, '처리': 1326, '환원': 1327, '연우': 1328, '조양호': 1329, '성분': 1330, '안국': 1331, '관심': 1332, '기능': 1333, '파크': 1334, '정밀': 1335, '준비': 1336, '액면': 1337, '대마': 1338, '제고': 1339, '조짐': 1340, '국보': 1341, '대응': 1342, '운영': 1343, '부장': 1344, '제외': 1345, '현대제철': 1346, '조기': 1347, '알톤스포츠': 1348, '가비아': 1349, '시진핑': 1350, '비엘': 1351, '질환': 1352, '파이프라인': 1353, '보령': 1354, '납입': 1355, '진통제': 1356, '던': 1357, '자원': 1358, '배합': 1359, '실업': 1360, '메탈': 1361, '철강': 1362, '해양': 1363, '세진': 1364, '까스': 1365, '림': 1366, '토': 1367, '남': 1368, '감산': 1369, '짐': 1370, '로저스': 1371, '엑세스': 1372, '피목': 1373, '국산': 1374, '불성실': 1375, '산불': 1376, '탄력': 1377, '럭': 1378, '연': 1379, '파워넷': 1380, '동국': 1381, '혈장': 1382, '페이': 1383, '내달': 1384, '분사': 1385, '가전': 1386, '웨': 1387, '로봇산업': 1388, '방사능': 1389, '너무': 1390, '취하': 1391, '반기': 1392, '블랙': 1393, '배출': 1394, '팬': 1395, '라파스': 1396, '컨': 1397, '영장': 1398, '파우': 1399, '왕': 1400, '판권': 1401, '전선': 1402, '형제': 1403, '초록': 1404, '디지탈': 1405, '현대산업개발': 1406, '부합': 1407, '특례': 1408, '결렬': 1409, '코어': 1410, '덕': 1411, '메리': 1412, '츠': 1413, '케이블': 1414, '비전': 1415, '국내외': 1416, '씨트리': 1417, '스토리': 1418, '기준': 1419, '백화점': 1420, '개성': 1421, '회동': 1422, '본업': 1423, '진원': 1424, '구간': 1425, '테라': 1426, '위세': 1427, '부상': 1428, '차익': 1429, '사유': 1430, '폴드': 1431, '재생': 1432, '쿠쿠': 1433, '현진': 1434, '영인': 1435, '프런티어': 1436, '유동': 1437, '완': 1438, '않': 1439, '증권사': 1440, '래': 1441, '엠아이': 1442, '부회장': 1443, '구매': 1444, '현금': 1445, '에어부산': 1446, '순매도': 1447, '종속': 1448, '전년': 1449, '방직': 1450, '판결': 1451, '클라우드': 1452, '보존': 1453, '정치': 1454, '움직임': 1455, '눔': 1456, '현산': 1457, '조건': 1458, '메가': 1459, '무상감': 1460, '테크놀러지': 1461, '키이스트': 1462, '채권': 1463, '표주': 1464, '비트': 1465, '밸런스': 1466, '러블': 1467, '웅진씽크빅': 1468, '다각화': 1469, '실무': 1470, '로스웰': 1471, '스트림': 1472, '외교': 1473, '마니커': 1474, '피임약': 1475, '방침': 1476, '아기': 1477, '줄': 1478, '티스': 1479, '커': 1480, '살균': 1481, '덕산': 1482, '샘': 1483, '변화': 1484, '대기': 1485, '탈': 1486, '유화': 1487, '부과': 1488, '한올': 1489, '누리': 1490, '깨끗': 1491, '쏘': 1492, '향': 1493, '크레마': 1494, '링크': 1495, '생체': 1496, '잉크': 1497, '개국': 1498, '정화': 1499, '몸값': 1500, '쟉': 1501, '논의': 1502, '공학': 1503, '까': 1504, '직접': 1505, '저감': 1506, '로스': 1507, '지역': 1508, '앞둔': 1509, '카바': 1510, '항': 1511, '경인': 1512, '양행': 1513, '속도': 1514, '채널': 1515, '축소': 1516, '성매매': 1517, '슬': 1518, '플랜트': 1519, '회복세': 1520, '거래소': 1521, '앞세워': 1522, '빙그레': 1523, '시노': 1524, '점진': 1525, '표준': 1526, '고서': 1527, '패널': 1528, '통운': 1529, '클리오': 1530, '프로덕트': 1531, '현대로템': 1532, '카페': 1533, '연장': 1534, '출발': 1535, '삼성제약': 1536, '대금': 1537, '대박': 1538, '어벤져스': 1539, '추세': 1540, '서진': 1541, '홍정욱': 1542, '뱀': 1543, '누스': 1544, '팩토리': 1545, '비대': 1546, '당': 1547, '포인트': 1548, '매수세': 1549, '합작': 1550, '지어': 1551, '운용': 1552, '해상': 1553, '구리': 1554, '매장': 1555, '투비': 1556, '기승': 1557, '주로': 1558, '대형': 1559, '신일': 1560, '위탁': 1561, '강조': 1562, '유입': 1563, '노': 1564, '골드': 1565, '고객': 1566, '급상승': 1567, '싸': 1568, '머큐리': 1569, '공약': 1570, '값': 1571, '토니': 1572, '모리': 1573, '실현': 1574, '명': 1575, '농업': 1576, '방송': 1577, '센서': 1578, '강력': 1579, '주요': 1580, '종양': 1581, '피해': 1582, '미래산업': 1583, '기사': 1584, '크': 1585, '전일': 1586, '조성': 1587, '당뇨병성': 1588, '유튜브': 1589, '민': 1590, '여력': 1591, '동화기업': 1592, '시점': 1593, '구속영장': 1594, '청구': 1595, '백광': 1596, '툴리': 1597, '강자': 1598, '여전히': 1599, '재택근무': 1600, '오르': 1601, '륭': 1602, '이월드': 1603, '토지': 1604, '순': 1605, '해명': 1606, '리스트': 1607, '선위': 1608, '개편': 1609, '항원': 1610, '출판사': 1611, '성실': 1612, '빅텍': 1613, '공격': 1614, '타결': 1615, '설치': 1616, '능력': 1617, '잠정': 1618, '도출': 1619, '오가': 1620, '박삼구': 1621, '파수': 1622, '사후': 1623, '무': 1624, '우성': 1625, '대입': 1626, '수산': 1627, '클': 1628, '악': 1629, '크론': 1630, '먼지': 1631, '롤': 1632, '기지국': 1633, '효율': 1634, '연간': 1635, '얼즈': 1636, '위지': 1637, '하츠': 1638, '단계': 1639, '학회': 1640, '한강': 1641, '임원': 1642, '영입': 1643, '한솔제지': 1644, '한화그룹': 1645, '터치': 1646, '주목표': 1647, '차폐': 1648, '유람선': 1649, '수생': 1650, '예비': 1651, '사내': 1652, '텔레': 1653, '봇': 1654, '조원태': 1655, '혈당': 1656, '질병': 1657, '분류': 1658, '주르륵': 1659, '프로젝트': 1660, '국면': 1661, '남화': 1662, '절차': 1663, '신차': 1664, '수직': 1665, '뮤': 1666, '여': 1667, '붉': 1668, '대화': 1669, '프라이즈': 1670, '한가': 1671, '필': 1672, '옵틱': 1673, '뚝': 1674, '아토피': 1675, '시큐리티': 1676, '이하': 1677, '여전': 1678, '현대건설': 1679, '데': 1680, '급여': 1681, '해태': 1682, '틱톡': 1683, '었': 1684, '통상': 1685, '플랙스': 1686, '스타': 1687, '협약': 1688, '고배': 1689, '극대': 1690, '체육': 1691, '화신': 1692, '한창': 1693, '도전': 1694, '막말': 1695, '탑': 1696, '교체': 1697, '핑크': 1698, '발사': 1699, '견고': 1700, '경동나비엔': 1701, '바탕': 1702, '브릭': 1703, '의무': 1704, '유력': 1705, '빠른': 1706, '합보': 1707, '홍콩': 1708, '생태': 1709, '발사체': 1710, '엔케': 1711, '이맥스': 1712, '시가총액': 1713, '밀반입': 1714, '소마': 1715, '화인텍': 1716, '점프': 1717, '육계': 1718, '디비': 1719, '체제': 1720, '노선': 1721, '사멸': 1722, '서브': 1723, '마린': 1724, '해저': 1725, '건': 1726, '강성부': 1727, '양도': 1728, '문제': 1729, '막': 1730, '공항': 1731, '랜드': 1732, '주력': 1733, '일양': 1734, '중국인': 1735, '공단': 1736, '중심': 1737, '개척': 1738, '라이센스': 1739, '빅뱅': 1740, '율촌': 1741, '이토': 1742, '상향': 1743, '윌': 1744, '포티': 1745, '기간': 1746, '후쿠시마': 1747, '극복': 1748, '기존': 1749, '상위': 1750, '매물': 1751, '금리': 1752, '인하': 1753, '방향': 1754, '올리': 1755, '완치': 1756, '나파': 1757, '인트론': 1758, '데일리': 1759, '화피': 1760, '흥구': 1761, '스킨': 1762, '독성': 1763, '공매도': 1764, '코아': 1765, '감': 1766, '증대': 1767, '들썩': 1768, '시티': 1769, '상태': 1770, '낸드': 1771, '키다리': 1772, '불가피': 1773, '삼바': 1774, '보급': 1775, '견목': 1776, '오른': 1777, '주사': 1778, '허위': 1779, '로한': 1780, '의지': 1781, '이중': 1782, '치료법': 1783, '제노': 1784, '경찰': 1785, '대출': 1786, '명령': 1787, '국세청': 1788, '퍼스텍': 1789, '예방': 1790, '마케팅': 1791, '판정': 1792, '슈퍼': 1793, '주연': 1794, '제시': 1795, '실질': 1796, '산소': 1797, '모티브': 1798, '우수': 1799, '원년': 1800, '벗어나': 1801, '강한': 1802, '에어컨': 1803, '현성': 1804, '바이탈': 1805, '대로': 1806, '가처분': 1807, '유데나필': 1808, '진양': 1809, '단위': 1810, '거론': 1811, '러브': 1812, '대선': 1813, '선호': 1814, '니아': 1815, '지스': 1816, '목': 1817, '부방': 1818, '머': 1819, '호스': 1820, '매직': 1821, '펌': 1822, '별세': 1823, '에이블': 1824, '결핵': 1825, '옴니텔': 1826, '퇴진': 1827, '화학주': 1828, '닷컴': 1829, '시간': 1830, '검증': 1831, '레이저': 1832, '제이준': 1833, '낙태죄': 1834, '각': 1835, '잔반': 1836, '제도': 1837, '수산물': 1838, '공정': 1839, '보수': 1840, '최종': 1841, '예스': 1842, '유전자': 1843, '최악': 1844, '디아이': 1845, '알티': 1846, '캐스트': 1847, '사모': 1848, '비티': 1849, '불법': 1850, '윅': 1851, '팬데': 1852, '유방암': 1853, '강원랜드': 1854, '상황': 1855, '따라': 1856, '메신저': 1857, '칭': 1858, '답변': 1859, '난소암': 1860, '화력': 1861, '베트남': 1862, '비핵화': 1863, '요법': 1864, '이달': 1865, '뇌': 1866, '너': 1867, '과점': 1868, '위주': 1869, '삼기': 1870, '마진': 1871, '코윈': 1872, '소속': 1873, '파운드리': 1874, '클러스터': 1875, '길': 1876, '품절': 1877, '리바트': 1878, '측정기': 1879, '인공지능': 1880, '손정': 1881, '탈피': 1882, '에듀 ': 1883, '발현': 1884, '지투알': 1885, '높여': 1886, '폐기': 1887, '한국전력': 1888, '탑스': 1889, '화승': 1890, '히트': 1891, '도이치': 1892, '건기': 1893, '해야': 1894, '로젠': 1895, '진화': 1896, '대사': 1897, '호흡기': 1898, '알선': 1899, '현실': 1900, '물류': 1901, '액체': 1902, '전문': 1903, '약물': 1904, '신성': 1905, '시청': 1906, '인공': 1907, '수술': 1908, '비스': 1909, '코인': 1910, '순항': 1911, '국토': 1912, '테마파크': 1913, '사이클': 1914, '요금제': 1915, '불안': 1916, '낮춰야': 1917, '폭발': 1918, '시큐어': 1919, '퇴출': 1920, '올랐': 1921, '코미': 1922, '삼립': 1923, '택배': 1924, '윙': 1925, '끌': 1926, '광역학': 1927, '낸': 1928, '성장주': 1929, '경창': 1930, '복합': 1931, '접근': 1932, '중입자': 1933, '로서': 1934, '룽': 1935, '전역': 1936, '클래시': 1937, '한솔케미칼': 1938, '피엠': 1939, '갤러리': 1940, '타임': 1941, '철수': 1942, '중대': 1943, '지바': 1944, '직행': 1945, '출마': 1946, '홀로': 1947, '발주': 1948, '이노션': 1949, '수급': 1950, '퀀텀': 1951, '해성': 1952, '철거': 1953, '저장': 1954, '광통': 1955, '아톤': 1956, '코스모': 1957, '룩스': 1958, '동력': 1959, '리거': 1960, '제자': 1961, '일축': 1962, '긴급사': 1963, '용승': 1964, '생활': 1965, '니콜라': 1966, '연이': 1967, '엠티': 1968, '릭스': 1969, '연료': 1970, '아이즈': 1971, '갈': 1972, '부정': 1973, '사자': 1974, '미포': 1975, '천': 1976, '스틸': 1977, '마취제': 1978, '에이비': 1979, '해결': 1980, '쎄미': 1981, '이센스': 1982, '시사': 1983, '인버스': 1984, '출원': 1985, '쌍방울': 1986, '불발': 1987, '노이드': 1988, '듯': 1989, '정의선': 1990, '소부': 1991, '다이아': 1992, '직후': 1993, '성수기': 1994, '독감': 1995, '링스': 1996, '조현범': 1997, '희석': 1998, '신속': 1999, '라이선스': 2000, '표적': 2001, '가까이': 2002, '파워': 2003, '키움증권': 2004, '단조': 2005, '손오공': 2006, '판문점': 2007, '비중': 2008, '침몰': 2009, '지문': 2010, '티지': 2011, '선임': 2012, '발병': 2013, '검출': 2014, '디자인': 2015, '아직': 2016, '스타트': 2017, '차질': 2018, '불구': 2019, '골프': 2020, '유니콘': 2021, '다수': 2022, '마시스': 2023, '총재': 2024, '접대': 2025, '이재명': 2026, '솔트': 2027, '운반선': 2028, '최선': 2029, '호주': 2030, '기전': 2031, '넷플릭스': 2032, '중지': 2033, '보해': 2034, '양조': 2035, '유시민': 2036, '자전거': 2037, '인공강우': 2038, '차기': 2039, '프랑스': 2040, '전파': 2041, '업계': 2042, '에스피': 2043, '펀': 2044, '털': 2045, '우주': 2046, '원대': 2047, '사망': 2048, '조이': 2049, '호조세': 2050, '남선': 2051, '알미늄': 2052, '선두': 2053, '베': 2054, '디피씨': 2055, '인한': 2056, '추락': 2057, '강원': 2058, '중외': 2059, '바이옴': 2060, '방지': 2061, '대호': 2062, '관광객': 2063, '주사제': 2064, '마켓': 2065, '디바이스': 2066, '사전': 2067, '잡': 2068, '시판': 2069, '모면': 2070, '법무부': 2071, '다변': 2072, '호평': 2073, '뷰': 2074, '배상': 2075, '심화': 2076, '실리콘': 2077, '사업자': 2078, '셈': 2079, '라이브': 2080, '한온': 2081, '한섬': 2082, '통해': 2083, '방안': 2084, '전력': 2085, '하이': 2086, '부족': 2087, '말라리아': 2088, '아니': 2089, '휴대폰': 2090, '골든': 2091, '츄': 2092, '니켈': 2093, '손소': 2094, '독제': 2095, '키위': 2096, '북주': 2097, '인스': 2098, '한국가스공사': 2099, '대죄': 2100, '신기록': 2101, '키': 2102, '파산': 2103, '쿠': 2104, '뒤': 2105, '웰빙': 2106, '컴': 2107, '방사선': 2108, '인지': 2109, '마비': 2110, '근접': 2111, '통화': 2112, '지금': 2113, '포커스': 2114, '항균': 2115, '도로': 2116, '딛': 2117, '한컴': 2118, '엿새': 2119, '부지': 2120, '크로스': 2121, '이웨': 2122, '중앙': 2123, '스코리아': 2124, '빌보드': 2125, '염증': 2126, '필수': 2127, '이노스': 2128, '리더': 2129, '희귀': 2130, '출렁': 2131, '통보': 2132, '카톡': 2133, '극동': 2134, '대장': 2135, '인니': 2136, '발전소': 2137, '이건': 2138, '어치': 2139, '비피도': 2140, '류': 2141, '관절염': 2142, '방어': 2143, '간염': 2144, '포트폴리오': 2145, '백산': 2146, '위닉스': 2147, '초미세': 2148, '했': 2149, '멕': 2150, '충격': 2151, '구리광': 2152, '건전': 2153, '결합': 2154, '인간': 2155, '키즈': 2156, '조현아': 2157, '측': 2158, '고체': 2159, '광학': 2160, '일동': 2161, '연내': 2162, '매출액': 2163, '반응': 2164, '파스': 2165, '청신호': 2166, '관': 2167, '모터스': 2168, '경방': 2169, '쎌': 2170, '불출마': 2171, '로비스': 2172, '안트': 2173, '재난': 2174, '이어질': 2175, '미르': 2176, '거부': 2177, '풍선': 2178, '빌': 2179, '멤': 2180, '아이폰': 2181, '고영': 2182, '시비르': 2183, '상사': 2184, '감안': 2185, '폐기물': 2186, '전면': 2187, '대봉': 2188, '생물': 2189, '반격': 2190, '인적분할': 2191, '부양': 2192, '렉': 2193, '근무': 2194, '선목표': 2195, '후성': 2196, '터주': 2197, '대모': 2198, '완성': 2199, '출국': 2200, '포토레지스트': 2201, '모더': 2202, '추': 2203, '지능': 2204, '김태한': 2205, '최소': 2206, '망목': 2207, '덱사메타손': 2208, '무선': 2209, '한프': 2210, '여당': 2211, '락앤락': 2212, '승공': 2213, '조회': 2214, '영상': 2215, '연관': 2216, '다는': 2217, '스러운': 2218, '대두': 2219, '둘째': 2220, '메카': 2221, '조선주': 2222, '속기': 2223, '앞': 2224, '공략': 2225, '이수': 2226, '페타': 2227, '리언': 2228, '다음': 2229, '레벨': 2230, '아스트': 2231, '개인': 2232, '롯데카드': 2233, '센서스': 2234, '음원': 2235, '널러': 2236, '온제': 2237, '상역': 2238, '대장암': 2239, '투심': 2240, '초읽기': 2241, '이니': 2242, '급부상': 2243, '족부': 2244, '궤양': 2245, '딸': 2246, '인포': 2247, '네트워크': 2248, '코리': 2249, '안리': 2250, '치사율': 2251, '데뷔': 2252, '등공': 2253, '웨이': 2254, '왜': 2255, '찾': 2256, '재차': 2257, '커지': 2258, '자회': 2259, '채택': 2260, '빠르': 2261, '비디아': 2262, '카타르': 2263, '오아시스': 2264, '충전': 2265, '마무리': 2266, '젠시': 2267, '특화': 2268, '광섬유': 2269, '싱가포르': 2270, '루미': 2271, '넵튠': 2272, '이수화학': 2273, '선제': 2274, '밸브': 2275, '차별': 2276, '조아제약': 2277, '어린이': 2278, '괴질': 2279, '소진': 2280, '카풀': 2281, '통합': 2282, '히터': 2283, '대용량': 2284, '패스트': 2285, '트랙': 2286, '대림산업': 2287, '자본': 2288, '방법': 2289, '입국': 2290, '자석': 2291, '분야': 2292, '밀러': 2293, '장치': 2294, '텐센트': 2295, '주총': 2296, '이루': 2297, '유엔': 2298, '검': 2299, '사막': 2300, '약주': 2301, '대주': 2302, '항응고제': 2303, '광림': 2304, '생존': 2305, '주당': 2306, '개화': 2307, '비오': 2308, '이력': 2309, '대법': 2310, '문화': 2311, '농심': 2312, '항공사': 2313, '시스코': 2314, '덴티': 2315, '윤석열': 2316, '형성': 2317, '암세포': 2318, '경고': 2319, '러': 2320, '의류': 2321, '권리': 2322, '반환': 2323, '와이파이': 2324, '비즈니스': 2325, '비율': 2326, '돈육': 2327, '자진': 2328, '상업': 2329, '미팅': 2330, '추징금': 2331, '등급': 2332, '간편': 2333, '맥널티': 2334, '황교안': 2335, '중재': 2336, '디알': 2337, '발암': 2338, '임명': 2339, '등장': 2340, '탓': 2341, '민주당': 2342, '우협': 2343, '아리온': 2344, '쉬': 2345, '마이스터': 2346, '안전': 2347, '투명': 2348, '품': 2349, '레드': 2350, '니스': 2351, '퓨쳐켐': 2352, '물적분할': 2353, '발송': 2354, '진흥기업': 2355, '강경': 2356, '양극': 2357, '용역': 2358, '보타': 2359, '선물': 2360, '통증': 2361, '재료': 2362, '대면': 2363, '홀딩': 2364, '무더기': 2365, '금': 2366, '재정': 2367, '합작사': 2368, '유충': 2369, '베이스': 2370, '조억': 2371, '무관': 2372, '선박': 2373, '덤': 2374, '군': 2375, '연구소': 2376, '새내기': 2377, '식물': 2378, '전용': 2379, '독자': 2380, '클로로퀸': 2381, '혈액': 2382, '았': 2383, '대동기어': 2384, '연골': 2385, '다우기술': 2386, '에오스': 2387, '개막': 2388, '합성': 2389, '국회': 2390, '강소': 2391, '엔에스': 2392, '친서': 2393, '피의자': 2394, '북': 2395, '동맹': 2396, '위즈': 2397, '디에이': 2398, '파동': 2399, '대우건설': 2400, '향후': 2401, '위축': 2402, '어서': 2403, '제이': 2404, '시스템스': 2405, '본계약': 2406, '가속기': 2407, '디안': 2408, '미치': 2409, '펩타이드': 2410, '정경': 2411, '해도': 2412, '파괴': 2413, '방류': 2414, '미스터피자': 2415, '룩': 2416, '고공': 2417, '에이스': 2418, '고무': 2419, '의원': 2420, '무분규': 2421, '이식': 2422, '록': 2423, '지방': 2424, '팝': 2425, '독일': 2426, '잔고': 2427, '장악': 2428, '체력': 2429, '탱크': 2430, '방문': 2431, '발': 2432, '공포': 2433, '예약': 2434, '재팬': 2435, '신한': 2436, '티엠': 2437, '엠스': 2438, '광산': 2439, '제일': 2440, '조비': 2441, '특사': 2442, '경': 2443, '청': 2444, '피스': 2445, '버추얼': 2446, '삼성생명': 2447, '도박': 2448, '대책': 2449, '유도': 2450, '스텍': 2451, '인텔리': 2452, '위성': 2453, '낙': 2454, '이씨': 2455, '로지': 2456, '체리': 2457, '유리': 2458, '휴대': 2459, '뇌종양': 2460, '엠씨': 2461, '숨겨진': 2462, '전자서명': 2463, '품귀': 2464, '예선': 2465, '도시': 2466, '모회사': 2467, '어가': 2468, '새로운': 2469, '재편': 2470, '왕국': 2471, '디오스': 2472, '화이트': 2473, '배제': 2474, '코비': 2475, '승기': 2476, '모건': 2477, '제치': 2478, '파생': 2479, '법원': 2480, '합': 2481, '첸': 2482, '자동': 2483, '검색': 2484, '증익': 2485, '본토': 2486, '탈환': 2487, '반변': 2488, '이나': 2489, '박테리아': 2490, '내성': 2491, '효소': 2492, '블랙리스트': 2493, '체질': 2494, '지위': 2495, '포기': 2496, '닉': 2497, '세정제': 2498, '개발비': 2499, '외': 2500, '집회': 2501, '명회': 2502, '우정': 2503, '료': 2504, '회의': 2505, '엘리베이터': 2506, '적합': 2507, '이용': 2508, '미세': 2509, '실망감': 2510, '토박': 2511, '차트': 2512, '베셀': 2513, '사이토카인': 2514, '폭풍': 2515, '친화': 2516, '감지': 2517, '지주사': 2518, '티센': 2519, '접수': 2520, '빛': 2521, '알로이스': 2522, '온스': 2523, '연대기': 2524, '총리': 2525, '광동': 2526, '췌장': 2527, '전립선': 2528, '코드': 2529, '중립': 2530, '엘컴텍': 2531, '이수앱지스': 2532, '백연': 2533, '유예': 2534, '신제품': 2535, '종금': 2536, '인터내셔널': 2537, '동구': 2538, '급감': 2539, '제니': 2540, '시큐브': 2541, '기대주': 2542, '복구': 2543, '감주': 2544, '총상': 2545, '프라임': 2546, '향상': 2547, '미달': 2548, '오염': 2549, '완전': 2550, '시멘트': 2551, '한송': 2552, '제주': 2553, '부광': 2554, '폴란드': 2555, '우려감': 2556, '사장': 2557, '삼본': 2558, '근본': 2559, '착륙': 2560, '에이아이': 2561, '접촉': 2562, '조치': 2563, '주강': 2564, '방식': 2565, '용기': 2566, '맥주': 2567, '막바지': 2568, '파트너십': 2569, '프': 2570, '리온': 2571, '지대': 2572, '황금종려상': 2573, '안랩': 2574, '각설': 2575, '휴업': 2576, '저작': 2577, '노랑': 2578, '티즈': 2579, '판매량': 2580, '선도': 2581, '체내': 2582, '한라': 2583, '출신': 2584, '심리': 2585, '원텍': 2586, '성장기': 2587, '달연': 2588, '발모': 2589, '고순': 2590, '이웅열': 2591, '쇄도': 2592, '필링크': 2593, '호텔': 2594, '기습': 2595, '버': 2596, '아진': 2597, '중간재': 2598, '유출': 2599, '무제': 2600, '정황': 2601, '배당락': 2602, '화일': 2603, '체': 2604, '풍국': 2605, '주정': 2606, '로드맵': 2607, '유비': 2608, '압승': 2609, '한전': 2610, '가맹점': 2611, '미래형': 2612, '활동': 2613, '블러': 2614, '준공': 2615, '미니': 2616, '주철관': 2617, '해체': 2618, '대원미디어': 2619, '집': 2620, '돌풍': 2621, '차전': 2622, '자구': 2623, '인선': 2624, '숨': 2625, '단거리': 2626, '미사일': 2627, '고통': 2628, '호전': 2629, '밥캣': 2630, '의약': 2631, '흔들': 2632, '본사': 2633, '플립': 2634, '위로': 2635, '관문': 2636, '억제제': 2637, '상영': 2638, '보일러': 2639, '착시': 2640, '신경': 2641, '중간': 2642, '엔진': 2643, '소차': 2644, '패키지': 2645, '겹치': 2646, '풀': 2647, '윈스': 2648, '메타': 2649, '행사': 2650, '군사': 2651, '진료': 2652, '작업': 2653, '곳': 2654, '유니클로': 2655, '무한': 2656, '영역': 2657, '노이즈': 2658, '액션': 2659, '스퀘어': 2660, '고려개발': 2661, '오리엔트': 2662, '유진': 2663, '중증': 2664, '무마': 2665, '아래': 2666, '요구': 2667, '소액': 2668, '주인': 2669, '창사': 2670, '이모': 2671, '어음': 2672, '아모텍': 2673, '교보': 2674, '사실': 2675, '위아': 2676, '생태관광': 2677, '어려워': 2678, '액트': 2679, '경영난': 2680, '방위': 2681, '교실': 2682, '결론': 2683, '논문': 2684, '단가': 2685, '스포츠': 2686, '토비스': 2687, '엠게임': 2688, '루시드': 2689, '압도': 2690, '자릿수': 2691, '이어지': 2692, '피팅': 2693, '인도': 2694, '현대홈쇼핑': 2695, '테미': 2696, '재고': 2697, '폭염': 2698, '직격탄': 2699, '제이티': 2700, '핸들러': 2701, '모빌리티': 2702, '칩': 2703, '개봉': 2704, '제이엔': 2705, '운송': 2706, '이스트소프트': 2707, '오케이': 2708, '기술료': 2709, '됐': 2710, '단락': 2711, '견인': 2712, '방호복': 2713, '무궁무진': 2714, '력사': 2715, '신축': 2716, '탐내': 2717, '비난': 2718, '현장': 2719, '주성': 2720, '옐로': 2721, '변동': 2722, '엠마우스': 2723, '력': 2724, '대행': 2725, '넨': 2726, '연임': 2727, '보호': 2728, '목록': 2729, '척': 2730, '여부': 2731, '사임': 2732, '임금': 2733, '아시아종묘': 2734, '종자': 2735, '비비': 2736, '코퍼레이션': 2737, '평택': 2738, '전방': 2739, '애': 2740, '기저': 2741, '여객': 2742, '대항마': 2743, '부여': 2744, '속도전': 2745, '주류': 2746, '바닷물': 2747, '코이': 2748, '선세': 2749, '일반': 2750, '통신사': 2751, '난제': 2752, '쓰리': 2753, '우대': 2754, '뉴욕': 2755, '현': 2756, '큐릭스': 2757, '학술지': 2758, '물망': 2759, '끝': 2760, '노스': 2761, '가입자': 2762, '전국': 2763, '대란': 2764, '반전': 2765, '신용': 2766, '이글벳': 2767, '오로라': 2768, '나스': 2769, '전극': 2770, '승': 2771, '방사성': 2772, '시트': 2773, '꿈꾸': 2774, '파킨슨': 2775, '골': 2776, '준': 2777, '근': 2778, '개장': 2779, '아미': 2780, '코젠': 2781, '탁': 2782, '휴비스': 2783, '인정': 2784, '급물살': 2785, '라이다': 2786, '꾸준': 2787, '모트': 2788, '테스': 2789, '화이': 2790, '아람': 2791, '랠리': 2792, '무인': 2793, '제공': 2794, '바꾸': 2795, '잠재': 2796, '두산건설': 2797, '여행사': 2798, '글라스': 2799, '지주회사': 2800, '고성': 2801, '이라크': 2802, '환송': 2803, '창투': 2804, '자안': 2805, '영국': 2806, '유나이티': 2807, '특구': 2808, '뜨': 2809, '크루셜': 2810, '플렉시블': 2811, '방열': 2812, '소장': 2813, '썬텍': 2814, '매': 2815, '쉽': 2816, '하림': 2817, '브라질': 2818, '위해': 2819, '과자': 2820, '요': 2821, '석권': 2822, '니': 2823, '이주열': 2824, '한글': 2825, '바닥': 2826, '센트럴': 2827, '장남': 2828, '과열': 2829, '음': 2830, '내츄럴': 2831, '엔도': 2832, '보라': 2833, '이튿날': 2834, '에스아이': 2835, '농화': 2836, '추천': 2837, '프티': 2838, '카티스': 2839, '비씨': 2840, '세라믹': 2841, '수행': 2842, '반등': 2843, '화물차': 2844, '따라잡': 2845, '신도': 2846, '수입품': 2847, '절감': 2848, '콘서트': 2849, '개방': 2850, '작': 2851, '배임': 2852, '상선': 2853, '가입': 2854, '영장류': 2855, '이란': 2856, '촉구': 2857, '시황': 2858, '대유': 2859, '운수': 2860, '에탄올': 2861, '퀘스트': 2862, '전임': 2863, '정공': 2864, '삽입': 2865, '프로브': 2866, '플렉서블': 2867, '위더스': 2868, '보통주': 2869, '속출': 2870, '성능': 2871, '잭': 2872, '팟': 2873, '골드만': 2874, '딘': 2875, '융합': 2876, '대법원': 2877, '백혈병': 2878, '오프라인': 2879, '출하': 2880, '국민': 2881, '소멸': 2882, '협의': 2883, '항공기': 2884, '테러': 2885, '무더위': 2886, '예산': 2887, '방북': 2888, '메트리': 2889, '카지노': 2890, '즉시': 2891, '라정찬': 2892, '선고': 2893, '발급': 2894, '챗': 2895, '포비스': 2896, '고무벨트': 2897, '투여': 2898, '레버리지': 2899, '배송': 2900, '필두': 2901, '석회': 2902, '세에': 2903, '세대': 2904, '리바': 2905, '쌍': 2906, '눈앞': 2907, '제네시스': 2908, '정수': 2909, '이랜텍': 2910, '제이앤': 2911, '틴': 2912, '서연': 2913, '집행정지': 2914, '대보': 2915, '마그네': 2916, '먹거리': 2917, '아이엘': 2918, '첨': 2919, '감익': 2920, '삼화': 2921, '송중기': 2922, '당뇨': 2923, '우호': 2924, '아주': 2925, '화학제품': 2926, '문재': 2927, '증강현실': 2928, '세종': 2929, '공작': 2930, '소형': 2931, '날개': 2932, '이뮨': 2933, '목적': 2934, '택시': 2935, '금강공업': 2936, '보안법': 2937, '채굴장': 2938, '이앤이': 2939, '정용진': 2940, '한네트': 2941, '투자주': 2942, '내수': 2943, '휴켐스': 2944, '이번': 2945, '추출': 2946, '장갑': 2947, '소프트웨어': 2948, '전립선암': 2949, '야후': 2950, '볼': 2951, '경질': 2952, '만지작': 2953, '승주': 2954, '오버행': 2955, '혈관': 2956, '교수': 2957, '운전': 2958, '티에스': 2959, '우회': 2960, '렌탈': 2961, '버즈': 2962, '오젠': 2963, '탈락': 2964, '뇌물': 2965, '발목': 2966, '출하량': 2967, '목설': 2968, '휴비츠': 2969, '변신': 2970, '신증': 2971, '출자': 2972, '구체': 2973, '세하': 2974, '원정': 2975, '내사': 2976, '신곡': 2977, '단시간': 2978, '범용': 2979, '제동': 2980, '저궤도': 2981, '제너': 2982, '초대': 2983, '진성': 2984, '생석회': 2985, '스틱스': 2986, '바다': 2987, '방출': 2988, '에타': 2989, '전화': 2990, '전자파': 2991, '엑스': 2992, '자비스': 2993, '기구': 2994, '권강': 2995, '구본호': 2996, '링': 2997, '생산량': 2998, '코팅': 2999, '편광판': 3000, '신신': 3001, '출발선': 3002, '약효': 3003, '모발': 3004, '사회': 3005, '산액': 3006, '파세코': 3007, '매진': 3008, '행렬': 3009, '조현민': 3010, '스탠리': 3011, '노린다': 3012, '접목': 3013, '패': 3014, '지코': 3015, '채권자': 3016, '동생': 3017, '오법': 3018, '유안': 3019, '인더': 3020, '우양': 3021, '제이엘': 3022, '피에스': 3023, '결단': 3024, '이원': 3025, '포텍': 3026, '아이씨': 3027, '량': 3028, '노인': 3029, '국영': 3030, '어느': 3031, '편도': 3032, '아냐': 3033, '재앙': 3034, '쏠리': 3035, '결의': 3036, '위태': 3037, '체외': 3038, '티코': 3039, '소액결제': 3040, '앞설': 3041, '코르셋': 3042, '책임': 3043, '유가상승': 3044, '헌법': 3045, '합치': 3046, '상증': 3047, '삼양': 3048, '지엘': 3049, '개정': 3050, '엘리엇': 3051, '페어': 3052, '파버': 3053, '나인': 3054, '순위': 3055, '찍': 3056, '보조금': 3057, '다중': 3058, '열화상': 3059, '쏠': 3060, '커버리지': 3061, '테코': 3062, '피아': 3063, '평균': 3064, '배저': 3065, '앞선': 3066, '식재': 3067, '새만금': 3068, '애니': 3069, '송원': 3070, '삼천리자전거': 3071, '증명': 3072, '역': 3073, '내용': 3074, '보류': 3075, '풀무원': 3076, '편식': 3077, '리메': 3078, '조성물': 3079, '에이즈': 3080, '무리': 3081, '우상': 3082, '서명': 3083, '서머': 3084, '워': 3085, '가시성': 3086, '워런': 3087, '장내': 3088, '의안': 3089, '상정': 3090, '인용': 3091, '소충': 3092, '전소': 3093, '전날': 3094, '짐로저스': 3095, '폐질환': 3096, '재부': 3097, '목표치': 3098, '총수': 3099, '입법': 3100, '열린다': 3101, '유의성': 3102, '중독': 3103, '군침': 3104, '신물': 3105, '제이씨': 3106, '수도': 3107, '인근': 3108, '별도': 3109, '그리드': 3110, '모나리자': 3111, '성장률': 3112, '방': 3113, '싸이': 3114, '교환': 3115, '복합제': 3116, '한빛': 3117, '미쳐': 3118, '알피': 3119, '아크': 3120, '보건': 3121, '엇갈려': 3122, '트립': 3123, '단체': 3124, '의향': 3125, '플라': 3126, '잉카': 3127, '계약자': 3128, '필드': 3129, '감정': 3130, '을까': 3131, '핵폐기물': 3132, '수백': 3133, '감목': 3134, '포함': 3135, '웰스': 3136, '렌터카': 3137, '럼': 3138, '광': 3139, '강제': 3140, '첨가제': 3141, '전성시대': 3142, '라이': 3143, '린': 3144, '동남아': 3145, '칸': 3146, '고평': 3147, '모다': 3148, '쓰': 3149, '용인': 3150, '화물선': 3151, '전도': 3152, '소방위': 3153, '소화탄': 3154, '격차': 3155, '자이': 3156, '버사': 3157, '비수기': 3158, '면역력': 3159, '초과': 3160, '공유': 3161, '통': 3162, '건설사': 3163, '더해져': 3164, '행보': 3165, '자급': 3166, '일반인': 3167, '양식': 3168, '코다코': 3169, '훈풍': 3170, '대행권': 3171, '다크호스': 3172, '혼': 3173, '무릎': 3174, '관절': 3175, '엑소': 3176, '규명': 3177, '선재': 3178, '내놔': 3179, '비만': 3180, '유니슨': 3181, '프로모션': 3182, '형태': 3183, '포착': 3184, '돈': 3185, '살': 3186, '선택': 3187, '푸른': 3188, '일류': 3189, '황실': 3190, '공고': 3191, '해져': 3192, '적격': 3193, '배당금': 3194, '더리': 3195, '가온': 3196, '회생': 3197, '소자': 3198, '실용화': 3199, '앞당길': 3200, '화삼': 3201, '역사': 3202, '지배력': 3203, '마힌드라': 3204, '직원': 3205, '로텍': 3206, '병원': 3207, '겨냥': 3208, '캐': 3209, '호기': 3210, '마사회': 3211, '성적': 3212, '스택': 3213, '외국산': 3214, '빙산': 3215, '일각': 3216, '장목': 3217, '원유정': 3218, '유주': 3219, '밑도': 3220, '가수': 3221, '란산': 3222, '레이크': 3223, '태양': 3224, '가스보일러': 3225, '만능': 3226, '정준영': 3227, '위험': 3228, '우월': 3229, '훼손': 3230, '눈높이': 3231, '차이나': 3232, '맞춰': 3233, '크래프트': 3234, '위변': 3235, '본느': 3236, '진출로': 3237, '전담': 3238, '구성': 3239, '병증': 3240, '진척': 3241, '박': 3242, '끝판': 3243, '예매': 3244, '폭주': 3245, '발굴': 3246, '신주인수권': 3247, '굿': 3248, '닥': 3249, '안구건조증': 3250, '위조': 3251, '무학': 3252, '다국적': 3253, '속옷': 3254, '절대': 3255, '별': 3256, '감염병': 3257, '복용': 3258, '체중': 3259, '감량': 3260, '카테고리': 3261, '화려': 3262, '의료기': 3263, '프레시': 3264, '인류': 3265, '윈': 3266, '노후': 3267, '이래': 3268, '유아': 3269, '앞서': 3270, '중목': 3271, '코위버': 3272, '군산': 3273, '폐쇄': 3274, '원가': 3275, '데코': 3276, '피격': 3277, '김정': 3278, '카리스': 3279, '킹': 3280, '한양': 3281, '선행': 3282, '이구': 3283, '도용': 3284, '심각': 3285, '빌리': 3286, '잃': 3287, '대륙': 3288, '제관': 3289, '캔': 3290, '극성': 3291, '산하이': 3292, '양회': 3293, '관점': 3294, '일정': 3295, '거침없': 3296, '순익': 3297, '쎈': 3298, '광복절': 3299, '파이낸셜': 3300, '출퇴근': 3301, '강판': 3302, '책': 3303, '엘리슨': 3304, '계약금': 3305, '쇼박스': 3306, '봉오동': 3307, '전투': 3308, '하우': 3309, '사활': 3310, '펠리': 3311, '용평': 3312, '리조트': 3313, '보따리': 3314, '탄탄': 3315, '대덕': 3316, '대림': 3317, '커뮤니티': 3318, '대안': 3319, '코스모신소재': 3320, '형강': 3321, '돌아온': 3322, '단독': 3323, '케이프': 3324, '전화위복': 3325, '우려서': 3326, '포석': 3327, '훈련': 3328, '자료': 3329, '태영': 3330, '서남': 3331, '골판지': 3332, '업무': 3333, '스프린트': 3334, '주문': 3335, '저하': 3336, '다케다': 3337, '아태': 3338, '촉매': 3339, '용지': 3340, '강의': 3341, '플라스틱': 3342, '신체': 3343, '엠앤디': 3344, '트랜지스터': 3345, '풍부': 3346, '망간강': 3347, '초기': 3348, '뻗': 3349, '회': 3350, '최장': 3351, '이익성': 3352, '동원': 3353, '확': 3354, '포': 3355, '의존': 3356, '파루': 3357, '전염': 3358, '신설': 3359, '자기': 3360, '자성': 3361, '전설': 3362, '메르스': 3363, '판별': 3364, '업소': 3365, '관사': 3366, '한때': 3367, '구감': 3368, '소증': 3369, '코미코': 3370, '살아난': 3371, '불씨': 3372, '곤': 3373, '불스': 3374, '인건비': 3375, '호황': 3376, '원장': 3377, '코앞': 3378, '브': 3379, '필러': 3380, '재진': 3381, '지나치': 3382, '머신': 3383, '노출': 3384, '무료': 3385, '로열티': 3386, '화합물': 3387, '화물': 3388, '기초': 3389, '우위': 3390, '국동': 3391, '불참': 3392, '오히려': 3393, '원인': 3394, '이동': 3395, '중요': 3396, '중화': 3397, '가종': 3398, '스위치': 3399, '가동률': 3400, '콩': 3401, '와의': 3402, '디램': 3403, '아웃': 3404, '상하': 3405, '실탄': 3406, '엑스레이': 3407, '거품': 3408, '모듈러': 3409, '병동': 3410, '라임': 3411, '자산운용': 3412, '엔피': 3413, '서울대': 3414, '세균': 3415, '번식': 3416, '게재': 3417, '트래픽': 3418, '소문': 3419, '노신': 3420, '경리': 3421, '오를': 3422, '산전': 3423, '또는': 3424, '자신': 3425, '멥신': 3426, '서린': 3427, '일가': 3428, '퐁': 3429, '수원': 3430, '계측기': 3431, '암종': 3432, '서희': 3433, '써': 3434, '제로': 3435, '세븐': 3436, '동서': 3437, '터미널': 3438, '약보합': 3439, '소리바다': 3440, '갤': 3441, '신뢰': 3442, '블록버스터': 3443, '어렵': 3444, '베터': 3445, '촉진제': 3446, '광자': 3447, '펄스': 3448, '회전': 3449, '파열': 3450, '유휴': 3451, '대양금속': 3452, '잉글우드': 3453, '지엔코': 3454, '삼지': 3455, '계기': 3456, '전격': 3457, '주전자': 3458, '성적표': 3459, '하한': 3460, '가주': 3461, '아이콘': 3462, '멤버': 3463, '프레': 3464, '떠오른': 3465, '신호탄': 3466, '연합': 3467, '리퍼블릭': 3468, '알리바바': 3469, '법인세': 3470, '서원': 3471, '상보': 3472, '구': 3473, '배양액': 3474, '억불': 3475, '업사': 3476, '차원': 3477, '매우': 3478, '바람': 3479, '단순': 3480, '삶': 3481, '오피스': 3482, '감축': 3483, '출처': 3484, '항고': 3485, '스마': 3486, '포지': 3487, '오션': 3488, '브릿지': 3489, '생검': 3490, '법제': 3491, '화경': 3492, '남제': 3493, '완제': 3494, '메이저': 3495, '오크': 3496, '밸리': 3497, '황금연휴': 3498, '진엑스': 3499, '제조업': 3500, '르네상스': 3501, '케이스': 3502, '바꾼': 3503, '정산': 3504, '정기': 3505, '장사': 3506, '많': 3507, '출범': 3508, '뷰티': 3509, '강관': 3510, '중소형': 3511, '크리스': 3512, '겹': 3513, '조인트': 3514, '붐': 3515, '손익': 3516, '신인': 3517, '음식료품': 3518, '존슨': 3519, '연중': 3520, '건보': 3521, '개별': 3522, '전후': 3523, '스토어': 3524, '중형': 3525, '가열': 3526, '페이스북': 3527, '범': 3528, '식자재': 3529, '검역': 3530, '재계약': 3531, '대국민': 3532, '사과': 3533, '공개매수': 3534, '변모': 3535, '향서': 3536, '알콜': 3537, '약발': 3538, '물꼬': 3539, '코센': 3540, '수십조': 3541, '폭스바겐': 3542, '디와이': 3543, '전기수': 3544, '퍼스널': 3545, '오스카': 3546, '국향': 3547, '관측': 3548, '국무총리': 3549, '인테리어': 3550, '일부': 3551, '절반': 3552, '전동': 3553, '킥': 3554, '보드': 3555, '디엔에이': 3556, '유전체': 3557, '증후군': 3558, '남성': 3559, '미생물': 3560, '지멘스': 3561, '상지': 3562, '일룸': 3563, '가림막': 3564, '잇': 3565, '반등세': 3566, '코딩': 3567, '보좌관': 3568, '통일교': 3569, '이중장부': 3570, '김범수': 3571, '주간': 3572, '정복': 3573, '이유': 3574, '트럭': 3575, '황우석': 3576, '활약': 3577, '부재': 3578, '정회원': 3579, '핸디': 3580, '대행사': 3581, '물색': 3582, '카르텔': 3583, '웸블리': 3584, '랜': 3585, '레이더': 3586, '제조사': 3587, '경농': 3588, '청와대': 3589, '전용차': 3590, '내림세': 3591, '로고스': 3592, '지혈': 3593, '쥬': 3594, '봤': 3595, '파전': 3596, '금맥': 3597, '조선사': 3598, '상생': 3599, '벤치마킹': 3600, '바이오산업': 3601, '이온': 3602, '제친': 3603, '더니': 3604, '대아': 3605, '티아이': 3606, '지하철': 3607, '전세': 3608, '에게': 3609, '먹이': 3610, '사향': 3611, '집진': 3612, '검진': 3613, '적저': 3614, '거래량': 3615, '이미지': 3616, '삭스': 3617, '코그': 3618, '종로': 3619, '나이지리아': 3620, '참존': 3621, '유산균': 3622, '고조': 3623, '용차': 3624, '이어': 3625, '승계': 3626, '뉴로스': 3627, '한화투자증권': 3628, '파라다이스': 3629, '제정': 3630, '잔': 3631, '카티': 3632, '라유': 3633, '연동': 3634, '리아': 3635, '시즌': 3636, '연금': 3637, '보잉': 3638, '통제': 3639, '담도': 3640, '세슘': 3641, '괴리': 3642, '외주': 3643, '지나': 3644, '경보': 3645, '가구': 3646, '때': 3647, '작용': 3648, '기원': 3649, '당정': 3650, '이웅렬': 3651, '미투': 3652, '널뛰': 3653, '뽀로로': 3654, '자궁경': 3655, '피이': 3656, '공공': 3657, '박차': 3658, '드릴': 3659, '십': 3660, '실시간': 3661, '개최': 3662, '실시': 3663, '제호': 3664, '티오': 3665, '채팅': 3666, '늘': 3667, '인공호흡기': 3668, '초입': 3669, '용품': 3670, '민간': 3671, '듀': 3672, '힘': 3673, '요인': 3674, '휘청': 3675, '요금': 3676, '스냅': 3677, '톤': 3678, '공업': 3679, '척추': 3680, '이연제': 3681, '김세연': 3682, '토필': 3683, '아우': 3684, '인바디': 3685, '성삼': 3686, '도네': 3687, '페질': 3688, '우리넷': 3689, '사채': 3690, '착공': 3691, '역할': 3692, '였': 3693, '만장': 3694, '컨소시엄': 3695, '관건': 3696, '주르르': 3697, '치열': 3698, '전달': 3699, '웹젠': 3700, '틈새': 3701, '온기': 3702, '천식': 3703, '정체': 3704, '신흥': 3705, '발동': 3706, '채취': 3707, '겨울': 3708, '씨씨': 3709, '시도': 3710, '더욱': 3711, '청산': 3712, '켄': 3713, '아쉽': 3714, '입시': 3715, '덕양': 3716, '할까': 3717, '이종': 3718, '이용자': 3719, '분양': 3720, '불안감': 3721, '동남': 3722, '풍산': 3723, '랄': 3724, '펜': 3725, '화인': 3726, '버티': 3727, '아카데미': 3728, '뮤직': 3729, '재활': 3730, '장서': 3731, '사물': 3732, '엘리': 3733, '베이': 3734, '민원': 3735, '패권': 3736, '산화물': 3737, '인체': 3738, '이스타': 3739, '고정비': 3740, '편의점': 3741, '한솔개발': 3742, '차지': 3743, '불린': 3744, '이엠씨': 3745, '에이티': 3746, '소설': 3747, '대회': 3748, '예수': 3749, '방긋': 3750, '주우': 3751, '최근': 3752, '상아': 3753, '핀': 3754, '부활': 3755, '지하자원': 3756, '채': 3757, '이끌': 3758, '편두': 3759, '통약': 3760, '로부터': 3761, '렌즈': 3762, '엔바': 3763, '이오니아': 3764, '맥쿼리': 3765, '단말기': 3766, '환기': 3767, '대거': 3768, '잠식': 3769, '우수수': 3770, '노벨': 3771, '파킨슨병': 3772, '제강': 3773, '판타지오': 3774, '전투기': 3775, '때문': 3776, '바디': 3777, '시의적절': 3778, '애경그룹': 3779, '증폭': 3780, '침해': 3781, '지지': 3782, '보여': 3783, '비피': 3784, '힘스': 3785, '인가': 3786, '의심': 3787, '나아질': 3788, '지진': 3789, '걸음': 3790, '현저': 3791, '하만': 3792, '선데이': 3793, '측정': 3794, '나오': 3795, '대형주': 3796, '시현': 3797, '힌지': 3798, '증발': 3799, '엘비': 3800, '목재': 3801, '기점': 3802, '킹스': 3803, '레이드': 3804, '픽': 3805, '웍': 3806, '지란지교': 3807, '배양': 3808, '기조': 3809, '웅진그룹': 3810, '전체': 3811, '태경': 3812, '신격호': 3813, '운임': 3814, '결손': 3815, '안도': 3816, '입지': 3817, '최저임금': 3818, '침체': 3819, '결함': 3820, '통폐합': 3821, '계란': 3822, '재조명': 3823, '측면': 3824, '얼라이언스': 3825, '형지': 3826, '엘리트': 3827, '현재': 3828, '정확': 3829, '삼우': 3830, '하이즈': 3831, '정제': 3832, '대동공업': 3833, '강경파': 3834, '신호': 3835, '살아나': 3836, '야': 3837, '당분간': 3838, '프린터': 3839, '동부건설': 3840, '자동화': 3841, '깜작': 3842, '취항': 3843, '이에스브이': 3844, '아스트라': 3845, '위원장': 3846, '위중': 3847, '닭': 3848, '플렉스': 3849, '아파트': 3850, '거래처': 3851, '재협의': 3852, '알코올': 3853, '이옥': 3854, '위치': 3855, '중유': 3856, '핵산': 3857, '검체': 3858, '바나듐': 3859, '네오플': 3860, '증권업': 3861, '학습': 3862, '마지막': 3863, '허혈': 3864, '주관': 3865, '후폭풍': 3866, '스텐': 3867, '백색': 3868, '개정안': 3869, '메디아': 3870, '합자': 3871, '풀렸': 3872, '중반': 3873, '나진': 3874, '유니셈': 3875, '심장': 3876, '모바일게임': 3877, '송혜교': 3878, '이혼': 3879, '키움': 3880, '원풍': 3881, '소실': 3882, '탈일': 3883, '확약': 3884, '관광지': 3885, '고질': 3886, '피바디': 3887, '호컴': 3888, '알짜': 3889, '할인점': 3890, '헝': 3891, '파타': 3892, '펩트론': 3893, '변이체': 3894, '스판덱스': 3895, '고수익': 3896, '독주': 3897, '운명': 3898, '전해액': 3899, '방계': 3900, '희성': 3901, '마그나': 3902, '커져': 3903, '폭탄': 3904, '산재': 3905, '멀티': 3906, '부적합': 3907, '개미': 3908, '우즈': 3909, '세공인': 3910, '모호': 3911, '뉴보텍': 3912, '확장세': 3913, '공법': 3914, '비젼': 3915, '모아도': 3916, '커질수록': 3917, '독식': 3918, '깰': 3919, '예방약': 3920, '비아': 3921, '손주': 3922, '볼펜': 3923, '특별': 3924, '신스': 3925, '터널': 3926, '전향': 3927, '제감': 3928, '강화목': 3929, '두피': 3930, '창문': 3931, '허브': 3932, '김수현': 3933, '자마자': 3934, '떠나': 3935, '일곱': 3936, '깬': 3937, '씨엘': 3938, '징': 3939, '기판': 3940, '의한': 3941, '가족': 3942, '인기주': 3943, '밑돈': 3944, '맞춤': 3945, '로이터': 3946, '리스': 3947, '스펙': 3948, '셰일가스': 3949, '열사': 3950, '무정': 3951, '교두보': 3952, '계단식': 3953, '시엔': 3954, '링거': 3955, '워터': 3956, '주유소': 3957, '온다': 3958, '항생제': 3959, '재선': 3960, '과시': 3961, '발돋움': 3962, '유신': 3963, '이디스': 3964, '삼계탕': 3965, '고교': 3966, '문구': 3967, '개도국': 3968, '컴즈': 3969, '희미': 3970, '대산': 3971, '가이던스': 3972, '서부': 3973, '신정동': 3974, '수령': 3975, '준비금': 3976, '적립': 3977, '한숨': 3978, '돌려': 3979, '오찬': 3980, '등교': 3981, '자주': 3982, '식소': 3983, '기부': 3984, '전인장': 3985, '탈세': 3986, '시각': 3987, '도서': 3988, '로슈': 3989, '윤리': 3990, '리빙': 3991, '인더스': 3992, '표현': 3993, '키드': 3994, '기염': 3995, '속단': 3996, '이르': 3997, '초음파': 3998, '공언': 3999, '한금': 4000, '최장기간': 4001, '시의': 4002, '절목': 4003, '환경부': 4004, '돋보여': 4005, '체열': 4006, '빔포밍': 4007, '이지스': 4008, '휴맥스': 4009, '자랑': 4010, '근디스트로피증': 4011, '중첨': 4012, '기체': 4013, '조립': 4014, '불기소': 4015, '패러다임': 4016, '원선': 4017, '덕우': 4018, '바이크': 4019, '나빠': 4020, '농도': 4021, '토탈': 4022, '태국': 4023, '탐지': 4024, '냉동': 4025, '태도': 4026, '미확정': 4027, '합판': 4028, '머천트': 4029, '석': 4030, '인터페론': 4031, '걸려': 4032, '네이티브': 4033, '데브': 4034, '옵스': 4035, '장서도': 4036, '마티스': 4037, '오랜만': 4038, '담당': 4039, '가스전': 4040, '대증': 4041, '다양': 4042, '보락': 4043, '수기': 4044, '유명': 4045, '오스코': 4046, '저해제': 4047, '걷힌': 4048, '만지': 4049, '작관': 4050, '련주': 4051, '육박': 4052, '경유': 4053, '노력': 4054, '지민': 4055, '동료': 4056, '괴롭힘': 4057, '고차': 4058, '단성': 4059, '수순': 4060, '원단': 4061, '연말': 4062, '지오': 4063, '인증서': 4064, '인공위성': 4065, '제지업': 4066, '여의도': 4067, '농장': 4068, '사와': 4069, '조달청': 4070, '네이블': 4071, '커뮤니케이션': 4072, '반출': 4073, '예외': 4074, '정조준': 4075, '지식': 4076, '수율': 4077, '까진': 4078, '인내': 4079, '충': 4080, '그린벨트': 4081, '선회': 4082, '덕성': 4083, '포괄': 4084, '오디': 4085, '재조합': 4086, '강보': 4087, '합공': 4088, '고엔카': 4089, '동신': 4090, '고속도': 4091, '반일': 4092, '트라우마': 4093, '애드': 4094, '판매로': 4095, '전략산업': 4096, '매대': 4097, '사라지': 4098, '점입가경': 4099, '알베스': 4100, '파스트': 4101, '진윈': 4102, '회수': 4103, '우뚝': 4104, '고부': 4105, '최고가': 4106, '뛴다': 4107, '고율': 4108, '늘리': 4109, '전속': 4110, '접경': 4111, '브리': 4112, '땅': 4113, '폐주': 4114, '사키': 4115, '영진': 4116, '지앤': 4117, '난치병': 4118, '샨': 4119, '낭보': 4120, '현물출자': 4121, '이미드': 4122, '재허': 4123, '연계': 4124, '페루': 4125, '광구': 4126, '음식': 4127, '감범': 4128, '설립자': 4129, '광폭': 4130, '수정': 4131, '한남': 4132, '구역': 4133, '시공사': 4134, '다이노': 4135, '재택': 4136, '퇴원': 4137, '증식': 4138, '조세': 4139, '수송': 4140, '트라': 4141, '미비': 4142, '델': 4143, '루나': 4144, '특별법': 4145, '진년': 4146, '데이': 4147, '어도': 4148, '조차': 4149, '당주': 4150, '점쳐': 4151, '맞물려': 4152, '윤곽': 4153, '녹원': 4154, '원형': 4155, '편광': 4156, '상방': 4157, '가벼워진': 4158, '터빈': 4159, '셰': 4160, '쩐의': 4161, '늘어난': 4162, '증강': 4163, '압력': 4164, '만명': 4165, '이어폰': 4166, '내부자': 4167, '지역난방': 4168, '김준일': 4169, '프로세스': 4170, '털썩': 4171, '맞불': 4172, '휴지': 4173, '공급량': 4174, '이탈': 4175, '중계': 4176, '피앤텔': 4177, '바작': 4178, '쥬얼': 4179, '재용': 4180, '장소': 4181, '높여야': 4182, '문래동': 4183, '송배': 4184, '수관': 4185, '고리': 4186, '초안': 4187, '부역': 4188, '여자': 4189, '검정': 4190, '급한': 4191, '레이팅': 4192, '시급': 4193, '고르': 4194, '파이': 4195, '대다수': 4196, '제작비': 4197, '오해': 4198, '융': 4199, '오펙': 4200, '고강': 4201, '수은': 4202, '동영상': 4203, '루머': 4204, '기획사': 4205, '염천': 4206, '기한': 4207, '세이퍼': 4208, '등년': 4209, '팀': 4210, '말초': 4211, '마커': 4212, '상당': 4213, '보상': 4214, '차수': 4215, '장부': 4216, '자극': 4217, '죽': 4218, '꿈틀': 4219, '수지': 4220, '시드': 4221, '펀딩': 4222, '만료': 4223, '국민주': 4224, '보호구역': 4225, '보이콧': 4226, '로그인': 4227, '배럴': 4228, '서정진': 4229, '동국제강': 4230, '실내': 4231, '동반성': 4232, '무너져': 4233, '종양학': 4234, '회서': 4235, '블루칩': 4236, '청문': 4237, '편차': 4238, '적대': 4239, '적설': 4240, '점화': 4241, '코프': 4242, '산와': 4243, '머니': 4244, '대부': 4245, '무주공산': 4246, '패혈증': 4247, '인허가': 4248, '적기': 4249, '키워': 4250, '기업체': 4251, '휴마': 4252, '동반자': 4253, '메이슨': 4254, '수년': 4255, '시내': 4256, '니클': 4257, '로사': 4258, '마이드': 4259, '유성': 4260, '벽산': 4261, '모델링': 4262, '지디': 4263, '쓴': 4264, '만큼': 4265, '돌려받': 4266, '메시징': 4267, '이벤트': 4268, '블랭크': 4269, '현직': 4270, '전량': 4271, '한국식': 4272, '무근': 4273, '스카이': 4274, '캐처': 4275, '차주': 4276, '이광재': 4277, '청사진': 4278, '성향': 4279, '스카': 4280, '이문': 4281, '브레': 4282, '인콘텐츠': 4283, '강세호': 4284, '폭등': 4285, '굳건': 4286, '분내': 4287, '저성장': 4288, '메토': 4289, '전폭': 4290, '황산': 4291, '코발트': 4292, '신일산': 4293, '업위': 4294, '씩': 4295, '엑': 4296, '사이': 4297, '모터쇼': 4298, '세주': 4299, '열혈': 4300, '강호': 4301, '격상': 4302, '노트': 4303, '단일': 4304, '주방': 4305, '산주': 4306, '법언': 4307, '저조': 4308, '광명': 4309, '배당주': 4310, '격화': 4311, '외대': 4312, '스와프': 4313, '훌쩍': 4314, '린저': 4315, '부자': 4316, '싼': 4317, '학생': 4318, '학용품': 4319, '규탄': 4320, '비엔': 4321, '에스테': 4322, '희망': 4323, '걸': 4324, '아스피린': 4325, '삼부': 4326, '옮겨간': 4327, '속사': 4328, '모스': 4329, '모로코': 4330, '이스': 4331, '정의': 4332, '맹점': 4333, '코퍼': 4334, '버섯': 4335, '균사체': 4336, '동부인': 4337, '시찰': 4338, '펄펄': 4339, '끓': 4340, '인방': 4341, '성창': 4342, '삼전': 4343, '팅크': 4344, '무자본': 4345, '판단': 4346, '남양주': 4347, '줄일': 4348, '삼천당': 4349, '자동자': 4350, '킹덤': 4351, '유망': 4352, '아콘': 4353, '분자': 4354, '보완': 4355, '마찰': 4356, '난항': 4357, '크라운': 4358, '상승국': 4359, '내외': 4360, '륙': 4361, '일감': 4362, '몰아주': 4363, '동진': 4364, '쇼트': 4365, '주인공': 4366, '신대': 4367, '양제': 4368, '통지': 4369, '방제': 4370, '촬영': 4371, '아들': 4372, '우선권': 4373, '브로드밴드': 4374, '티브로드': 4375, '트램': 4376, '음압': 4377, '구급차': 4378, '탈질': 4379, '이룬다': 4380, '콤': 4381, '걷혔': 4382, '한도': 4383, '스펙트럼': 4384, '익스프레스': 4385, '구상권': 4386, '부결': 4387, '리베': 4388, '순이익': 4389, '몸집': 4390, '불리': 4391, '나서': 4392, '구광모': 4393, '니켈강': 4394, '박근혜': 4395, '예견': 4396, '캐나다': 4397, '트리플': 4398, '복': 4399, '국방': 4400, '물자': 4401, '블린': 4402, '색': 4403, '가변': 4404, '삼성그룹': 4405, '시세': 4406, '자화': 4407, '시추선': 4408, '배상금': 4409, '서프': 4410, '증가세': 4411, '냄새': 4412, '사스': 4413, '독과점': 4414, '하이엔드': 4415, '내준다': 4416, '대구': 4417, '액면가': 4418, '호중': 4419, '지났': 4420, '고도': 4421, '의료비': 4422, '가로': 4423, '나타내': 4424, '맞설': 4425, '정수기': 4426, '수정목': 4427, '혈중': 4428, '독점권': 4429, '신원': 4430, '앨': 4431, '없이': 4432, '입목': 4433, '별개': 4434, '패한': 4435, '확장자': 4436, '편의': 4437, '덱스': 4438, '에칭': 4439, '담보': 4440, '반대': 4441, '사이트': 4442, '치매증': 4443, '멈출': 4444, '줄자': 4445, '친구': 4446, '줄어든': 4447, '전사체': 4448, '수계': 4449, '박리': 4450, '저력': 4451, '빌게이츠': 4452, '재단': 4453, '콜레라': 4454, '압박': 4455, '음료': 4456, '균': 4457, '서호': 4458, '크레인': 4459, '총력전': 4460, '디아': 4461, '투기': 4462, '닌텐도': 4463, '토종': 4464, '냉전': 4465, '퀄컴': 4466, '제당': 4467, '노려': 4468, '사교육': 4469, '신영': 4470, '폐섬유증': 4471, '양돈업': 4472, '혼자': 4473, '겠': 4474, '소계': 4475, '새길': 4476, '민정': 4477, '수석': 4478, '총판': 4479, '생성': 4480, '신장': 4481, '용량': 4482, '교통': 4483, '이치엔': 4484, '빠샤': 4485, '메카드': 4486, '한성': 4487, '바이든': 4488, '식량난': 4489, '여지': 4490, '산단': 4491, '전수': 4492, '특혜': 4493, '점안제': 4494, '미뤄': 4495, '티셔츠': 4496, '말': 4497, '오너': 4498, '나와': 4499, '여성': 4500, '아그라': 4501, '떨어진': 4502, '불편': 4503, '배급': 4504, '소모품': 4505, '토목': 4506, '큘레': 4507, '이터': 4508, '되살아난': 4509, '불신': 4510, '궁중': 4511, '비책': 4512, '이스라엘': 4513, '울': 4514, '웃도': 4515, '독과': 4516, '스포티파이': 4517, '자유상': 4518, '주저앉': 4519, '정전식': 4520, '직간접': 4521, '났': 4522, '꼽힌': 4523, '신화': 4524, '인터텍': 4525, '포털': 4526, '곡선': 4527, '징조': 4528, '윤동': 4529, '과세': 4530, '쩜상': 4531, '양구': 4532, '조체': 4533, '연락': 4534, '사무소': 4535, '폭파': 4536, '시스템즈': 4537, '김남정': 4538, '자폭': 4539, '무인기': 4540, '대목': 4541, '비상사태': 4542, '선포': 4543, '대교': 4544, '학습지': 4545, '판매처': 4546, '특허청': 4547, '강행': 4548, '장암': 4549, '광중': 4550, '원점': 4551, '상품명': 4552, '무럭무럭': 4553, '하이크': 4554, '토이': 4555, '비스트': 4556, '초라': 4557, '월래': 4558, '사드': 4559, '원영': 4560, '실버': 4561, '면허': 4562, '가닥': 4563, '아카데미상': 4564, '우방국': 4565, '지피': 4566, '카트리지': 4567, '예술': 4568, '우연': 4569, '동': 4570, '먹구름': 4571, '임신': 4572, '트기': 4573, '탄생': 4574, '번복': 4575, '항일': 4576, '브라더스': 4577, '양돈': 4578, '주초': 4579, '안내서': 4580, '배포': 4581, '팔': 4582, '자세': 4583, '유통망': 4584, '앰': 4585, '동사': 4586, '넘기': 4587, '주춤': 4588, '반락': 4589, '동맥': 4590, '경화': 4591, '조동': 4592, '아원': 4593, '인도적': 4594, '전통': 4595, '굴기': 4596, '싹': 4597, '자른다': 4598, '분진': 4599, '성남': 4600, '국방부': 4601, '우버': 4602, '댁': 4603, '삼광': 4604, '보상금': 4605, '이어져': 4606, '신분당선': 4607, '진공': 4608, '재원': 4609, '흔들림': 4610, '신기원': 4611, '의사': 4612, '조종': 4613, '편집': 4614, '숍': 4615, '민자': 4616, '대정': 4617, '화금': 4618, '셔틀버스': 4619, '운행': 4620, '주인수': 4621, '비대증': 4622, '이름': 4623, '소방': 4624, '관자재': 4625, '동우': 4626, '테이블': 4627, '현명': 4628, '총회': 4629, '건조': 4630, '췌': 4631, '장식': 4632, '가려진': 4633, '춘천시': 4634, '기산': 4635, '토스': 4636, '올린': 4637, '메디컬': 4638, '미용': 4639, '종결': 4640, '적절': 4641, '메소': 4642, '종식': 4643, '철광석': 4644, '유연': 4645, '아닌': 4646, '격성': 4647, '주석': 4648, '갖춘': 4649, '참패': 4650, '만기': 4651, '카스': 4652, '아오': 4653, '코퍼스': 4654, '피부': 4655, '마사': 4656, '지기': 4657, '절실': 4658, '몰릴': 4659, '부실': 4660, '한데': 4661, '소주': 4662, '올라탄': 4663, '오프': 4664, '내려가': 4665, '상영관': 4666, '해킹': 4667, '아울렛': 4668, '유선': 4669, '산하': 4670, '선장': 4671, '이선호': 4672, '밀수': 4673, '쓴다': 4674, '도화': 4675, '농촌': 4676, '연구원': 4677, '듀스': 4678, '입점': 4679, '맞교환': 4680, '정설': 4681, '이록': 4682, '센티': 4683, '줄여': 4684, '승장': 4685, '도주': 4686, '진주': 4687, '탄핵': 4688, '할증': 4689, '송금': 4690, '실생활': 4691, '금액': 4692, '플란': 4693, '집전': 4694, '헤': 4695, '거시': 4696, '정례화': 4697, '계면': 4698, '활성제': 4699, '뜨거운': 4700, '동방': 4701, '쿠팡': 4702, '쑥': 4703, '허니문': 4704, '떨어졌': 4705, '최단기간': 4706, '방탄': 4707, '이아이': 4708, '유커': 4709, '모션': 4710, '혜택': 4711, '대원': 4712, '연마': 4713, '패드': 4714, '소체': 4715, '일시': 4716, '신원종합개발': 4717, '빌라': 4718, '칸막이': 4719, '발령': 4720, '참이슬': 4721, '채무': 4722, '보증': 4723, '혈': 4724, '안조': 4725, '대권': 4726, '잠룡': 4727, '잔혹사': 4728, '불황': 4729, '계양': 4730, '하이텍': 4731, '헌터': 4732, '얼리': 4733, '현미': 4734, '담합': 4735, '적발': 4736, '따돌리': 4737, '중대기': 4738, '페이퍼': 4739, '쌓인': 4740, '온의': 4741, '들여': 4742, '정세균': 4743, '지명': 4744, '볼륨': 4745, '섭취': 4746, '메벤다졸': 4747, '좌절': 4748, '안기': 4749, '나장': 4750, '현역': 4751, '군대': 4752, '다와': 4753, '서밋': 4754, '라이징': 4755, '새내': 4756, '기주': 4757, '체면': 4758, '구긴': 4759, '상용차': 4760, '지에': 4761, '팡': 4762, '주유': 4763, '할인': 4764, '박스': 4765, '밑': 4766, '지지부진': 4767, '비말': 4768, '비욘': 4769, '드미': 4770, '열풍': 4771, '다대': 4772, '너지': 4773, '도시바': 4774, '정전': 4775, '비에이': 4776, '치아': 4777, '룡': 4778, '전력망': 4779, '전문가': 4780, '퍼시스': 4781, '우량': 4782, '한학자': 4783, '초청': 4784, '고소': 4785, '의장': 4786, '키워드': 4787, '일자리': 4788, '아픔': 4789, '회복기': 4790, '콜라': 4791, '캄보디아': 4792, '항만': 4793, '마중물': 4794, '재판': 4795, '이수건설': 4796, '경영진': 4797, '고발장': 4798, '겸비': 4799, '부자재': 4800, '상저': 4801, '모이': 4802, '성황': 4803, '정통부': 4804, '통장': 4805, '당부': 4806, '아서': 4807, '난기류': 4808, '내리': 4809, '합산': 4810, '손보사': 4811, '다발': 4812, '창구': 4813, '전무': 4814, '깨져': 4815, '간섭': 4816, '캠프': 4817, '마라톤': 4818, '장마': 4819, '약화': 4820, '에틸렌': 4821, '건도': 4822, '공유기': 4823, '유무': 4824, '대심': 4825, '전이': 4826, '파이버': 4827, '이피': 4828, '비판': 4829, '한중': 4830, '빼': 4831, '진정': 4832, '이끈': 4833, '상륙': 4834, '봉쇄': 4835, '야스': 4836, '늦': 4837, '져': 4838, '혁': 4839, '신방안': 4840, '가소': 4841, '떠나간': 4842, '성장통': 4843, '진전': 4844, '크레파스': 4845, '음반': 4846, '핵융합': 4847, '광가': 4848, '용도': 4849, '투자처': 4850, '청담러닝': 4851, '단디': 4852, '해라': 4853, '차선': 4854, '몰이': 4855, '쥬라기': 4856, '공원': 4857, '만드': 4858, '밀': 4859, '엠브레인': 4860, '함': 4861, '최선호': 4862, '누가': 4863, '샀': 4864, '이익제': 4865, '항말라리아제': 4866, '지정상': 4867, '전해질': 4868, '파리': 4869, '게이츠': 4870, '조제분유': 4871, '주재': 4872, '영솔': 4873, '삼국지': 4874, '인사이드': 4875, '워크아웃': 4876, '걸러': 4877, '벤트': 4878, '쉬완': 4879, '스와': 4880, '하목': 4881, '루킨': 4882, '케시': 4883, '그루': 4884, '제형': 4885, '변환': 4886, '매크로': 4887, '전환주': 4888, '고점': 4889, '다원': 4890, '일신': 4891, '냉장고': 4892, '익장': 4893, '고르기': 4894, '그래도': 4895, '금형': 4896, '방사광': 4897, '첨병': 4898, '밀접': 4899, '배분': 4900, '승자': 4901, '반박': 4902, '사례': 4903, '깨': 4904, '펴': 4905, '무르익': 4906, '타깃': 4907, '전력화': 4908, '캐스': 4909, '릴': 4910, '중순': 4911, '확신': 4912, '포럼': 4913, '크루즈': 4914, '직항': 4915, '특징': 4916, '로수': 4917, '복권': 4918, '인쇄': 4919, '화학사': 4920, '페달': 4921, '밟': 4922, '진제': 4923, '포시': 4924, '한국인': 4925, '도쿄': 4926, '올림픽': 4927, '마리화나': 4928, '마스터': 4929, '환담': 4930, '외진': 4931, '학회지': 4932, '소개': 4933, '승률': 4934, '아나': 4935, '비주': 4936, '예': 4937, '상목': 4938, '소시': 4939, '퍼스트': 4940, '몰': 4941, '쇼핑몰': 4942, '해법': 4943, '스타디움': 4944, '조식': 4945, '실태': 4946, '이재현': 4947, '규정': 4948, '퓨처': 4949, '메디신': 4950, '버진': 4951, '플랫폼': 4952, '포부': 4953, '아쉬운': 4954, '베토': 4955, '퀴놀사': 4956, '투자자': 4957, '범위': 4958, '김상재': 4959, '스턴': 4960, '복지부': 4961, '펜타닐': 4962, '엄격': 4963, '방조림': 4964, '돼도': 4965, '더딜': 4966, '제염': 4967, '소시지': 4968, '뚫려': 4969, '불변': 4970, '덩달': 4971, '언어': 4972, '천정부지': 4973, '아크레': 4974, '이향': 4975, '리브': 4976, '나우': 4977, '아이비': 4978, '앨라배마': 4979, '다스': 4980, '빨리': 4981, '능': 4982, '빚': 4983, '갚': 4984, '프로토콜': 4985, '갱신': 4986, '고속': 4987, '개상': 4988, '명성': 4989, '추출기': 4990, '항목': 4991, '무상교': 4992, '디텍터': 4993, '오주': 4994, '중부': 4995, '중합효소': 4996, '풀하우스': 4997, '호소': 4998, '간암': 4999, '지게차': 5000, '치약': 5001, '처방': 5002, '박테리오파지': 5003, '방위력': 5004, '카피': 5005, '켐온': 5006, '청시': 5007, '회사채': 5008, '예측': 5009, '디노미네이션': 5010, '두드러질': 5011, '스트리밍': 5012, '환인': 5013, '할로페리돌': 5014, '트루먼': 5015, '선스': 5016, '주기': 5017, '짧': 5018, '얼굴': 5019, '파라': 5020, '세균성': 5021, '미뤄질': 5022, '개중': 5023, '외자': 5024, '지사': 5025, '나강': 5026, '세장': 5027, '자유': 5028, '문재인': 5029, '후끈': 5030, '유치원': 5031, '설왕설래': 5032, '삼성증권': 5033, '체계': 5034, '긴': 5035, '호흡': 5036, '위폐': 5037, '세상': 5038, '정다운': 5039, '차입금': 5040, '반발': 5041, '비료': 5042, '태풍': 5043, '수확량': 5044, '걱정': 5045, '풀릴까': 5046, '제의': 5047, '교섭': 5048, '모른다는데': 5049, '선별': 5050, '핵': 5051, '단기간': 5052, '전력난': 5053, '잠재울': 5054, '리타': 5055, '흡수성': 5056, '지혈제': 5057, '학원': 5058, '덴': 5059, '불확실성': 5060, '비어': 5061, '포자': 5062, '합법': 5063, '판관': 5064, '진드기': 5065, '기피제': 5066, '비접': 5067, '촉식': 5068, '온도계': 5069, '튜브': 5070, '억장': 5071, '일회성': 5072, '박사': 5073, '전환점': 5074, '변함': 5075, '옵션': 5076, '생수': 5077, '승부': 5078, '삼성카드': 5079, '신용판매': 5080, '안팎': 5081, '쓱': 5082, '시술': 5083, '전한': 5084, '청정에너지': 5085, '보름새': 5086, '언제': 5087, '참전': 5088, '워치': 5089, '채집': 5090, '쿼츠': 5091, '임사': 5092, '다고': 5093, '판명': 5094, '지적': 5095, '재산': 5096, '무선망': 5097, '부분': 5098, '증주': 5099, '경축사': 5100, '불똥': 5101, '잇츠': 5102, '한불': 5103, '텔루스': 5104, '운모': 5105, '강봉': 5106, '강대': 5107, '형단조': 5108, '항설': 5109, '퓨어': 5110, '바라티': 5111, '대출금': 5112, '연체': 5113, '멸균': 5114, '질라': 5115, '한계': 5116, '듀오': 5117, '인기몰이': 5118, '나선다': 5119, '신탁': 5120, '전자동': 5121, '화설': 5122, '하노이': 5123, '신선': 5124, '현저히': 5125, '돌파구': 5126, '팅': 5127, '규격': 5128, '후관': 5129, '오거돈': 5130, '장착': 5131, '학연': 5132, '발견자': 5133, '재발': 5134, '인스트': 5135, '파기': 5136, '모도': 5137, '부당': 5138, '몰려': 5139, '궤도': 5140, '불공정': 5141, '행위': 5142, '바로': 5143, '뼈': 5144, '더딘': 5145, '누르': 5146, '대체재': 5147, '우군': 5148, '출전': 5149, '세기': 5150, '금호석': 5151, '유우': 5152, '로보스': 5153, '가성': 5154, '소다': 5155, '최대치': 5156, '위장': 5157, '답방': 5158, '열려': 5159, '한국은행': 5160, '선구자': 5161, '마주': 5162, '히': 5163, '폐간': 5164, '상후': 5165, '가진': 5166, '아낌없': 5167, '정도': 5168, '출회': 5169, '원수': 5170, '고의': 5171, '은폐': 5172, '플래시': 5173, '산설': 5174, '능선': 5175, '원원': 5176, '그리스': 5177, '다른': 5178, '광전자': 5179, '요소': 5180, '벤': 5181, '트리거': 5182, '유니스': 5183, '스프리': 5184, '국무': 5185, '위원': 5186, '대어': 5187, '파경': 5188, '임상주': 5189, '삼진': 5190, '샤오펑': 5191, '원통형': 5192, '촉진': 5193, '아스타': 5194, '행주': 5195, '글러브': 5196, '실증': 5197, '가까운': 5198, '자폐': 5199, '범주': 5200, '장애': 5201, '우두산': 5202, '콘택트렌즈': 5203, '이탈리아': 5204, '육군': 5205, '덜': 5206, '어목': 5207, '컸': 5208, '일관': 5209, '올라간다': 5210, '크기': 5211, '딱지': 5212, '뗀': 5213, '점차': 5214, '한신공영': 5215, '타개': 5216, '캄': 5217, '렐': 5218, '리주': 5219, '맙': 5220, '경쟁국': 5221, '센스': 5222, '고혈압': 5223, '카나': 5224, '패밀리': 5225, '으뜸': 5226, '즉석밥': 5227, '이거': 5228, '우와': 5229, '마리': 5230, '토끼': 5231, '넥센타이어': 5232, '체코': 5233, '앙': 5234, '주변': 5235, '경대': 5236, '샌드박스': 5237, '파업': 5238, '거래법': 5239, '굴삭기': 5240, '폼페이': 5241, '매거진': 5242, '공연': 5243, '구상': 5244, '디스커버리': 5245, '엠투엠': 5246, '미충': 5247, '족': 5248, '미친': 5249, '전당': 5250, '대세': 5251, '양증': 5252, '권우': 5253, '핸드셋': 5254, '엠플러스': 5255, '유사': 5256, '학계': 5257, '소아마비': 5258, '자메': 5259, '로자': 5260, '킹킹': 5261, '곧': 5262, '모처럼': 5263, '지향': 5264, '등시': 5265, '지도부': 5266, '신규수': 5267, '동종': 5268, '연기자': 5269, '동차': 5270, '마이크로': 5271, '호목': 5272, '매장량': 5273, '예심': 5274, '수액': 5275, '박스터': 5276, '오상': 5277, '아지': 5278, '스트로마': 5279, '맑': 5280, '보단': 5281, '재투자': 5282, '유흥업소': 5283, '벅스': 5284, '관계자': 5285, '손잡': 5286, '비급': 5287, '롱': 5288, '패딩': 5289, '충분히': 5290, '아난': 5291, '동북': 5292, '박목': 5293, '붙': 5294, '주일': 5295, '정현호': 5296, '설계': 5297, '루게릭': 5298, '남측': 5299, '수부': 5300, '양의지': 5301, '중징계': 5302, '유승민': 5303, '삼익': 5304, '악기': 5305, '신분': 5306, '뛰': 5307, '셀룰로오스': 5308, '라이백': 5309, '스주': 5310, '하이패스': 5311, '땐': 5312, '범일동': 5313, '위탁생': 5314, '유기': 5315, '불소': 5316, '숙원': 5317, '첫발': 5318, '약속': 5319, '녹조': 5320, '소방차': 5321, '요목': 5322, '쏘나타': 5323, '만족': 5324, '시킬': 5325, '내달렸': 5326, '배틀': 5327, '업데이트': 5328, '그레이트': 5329, '예약자': 5330, '대작': 5331, '지카': 5332, '적응증': 5333, '파우더': 5334, '그래': 5335, '개념': 5336, '고기능성': 5337, '개발자': 5338, '인턴사원': 5339, '모집': 5340, '월일': 5341, '헐리우드': 5342, '빨라질': 5343, '작전': 5344, '폭격기': 5345, '배치': 5346, '여론': 5347, '코크': 5348, '렙': 5349, '추월': 5350, '수상자': 5351, '격려': 5352, '암울': 5353, '부생': 5354, '금속분': 5355, '리판': 5356, '관설': 5357, '오후': 5358, '맺': 5359, '상것': 5360, '미세화': 5361, '행대': 5362, '이미': 5363, '진보': 5364, '진영': 5365, '지도자': 5366, '상화': 5367, '완제품': 5368, '승부수': 5369, '겟': 5370, '화아': 5371, '가스공사': 5372, '입출력': 5373, '스토리지': 5374, '출': 5375, '성인': 5376, '넘어서': 5377, '로맨스': 5378, '장력': 5379, '트랜': 5380, '시버': 5381, '천문학': 5382, '최다': 5383, '튼튼': 5384, '스타드': 5385, '과기부': 5386, '클린': 5387, '룸': 5388, '채비': 5389, '피력': 5390, '찬성': 5391, '실적실적': 5392, '편': 5393, '대여금': 5394, '콜레스테롤': 5395, '코프라': 5396, '다공성': 5397, '이명희': 5398, '두드러져': 5399, '노릴': 5400, '타이밍': 5401, '취급': 5402, '에도': 5403, '쟁탈전': 5404, '조건부': 5405, '재감': 5406, '사실무근': 5407, '스페코': 5408, '나쁘': 5409, '주모': 5410, '빈': 5411, '자주국방': 5412, '나쁜': 5413, '기대선': 5414, '당국': 5415, '음성': 5416, '해마': 5417, '하단': 5418, '급성장': 5419, '상신': 5420, '대양': 5421, '안보': 5422, '영향력': 5423, '플라이': 5424, '남양유업': 5425, '명문': 5426, '프로테아제': 5427, '피인': 5428, '수설': 5429, '백금': 5430, '극월': 5431, '칸나비스': 5432, '말레이시아': 5433, '메탄올': 5434, '기공식': 5435, '서흥': 5436, '없애': 5437, '여름철': 5438, '선풍기': 5439, '겸': 5440, '충돌': 5441, '강보합': 5442, '삼영': 5443, '도미노': 5444, '대지진': 5445, '쇼': 5446, '구매제': 5447, '향한': 5448, '내디뎌': 5449, '장외': 5450, '발매소': 5451, '레저': 5452, '굳': 5453, '동박': 5454, '전장': 5455, '콘덴서': 5456, '슈마커': 5457, '갈수록': 5458, '사로': 5459, '상당히': 5460, '엠브라에르': 5461, '전염병': 5462, '매트리스': 5463, '반덤핑': 5464, '제소': 5465, '분당': 5466, '티시스': 5467, '램프': 5468, '약진': 5469, '기상': 5470, '열전도율': 5471, '내장': 5472, '아바스': 5473, '해질': 5474, '임상종': 5475, '엇갈린': 5476, '여권': 5477, '정시': 5478, '자외선': 5479, '살균력': 5480, '이변': 5481, '참가': 5482, '라우터': 5483, '터스': 5484, '물동량': 5485, '설훈': 5486, '만나': 5487, '이관': 5488, '줘도': 5489, '안사': 5490, '재성장': 5491, '식음료': 5492, '소형주': 5493, '범죄': 5494, '수단': 5495, '엔시': 5496, '전액': 5497, '강국': 5498, '스톱': 5499, '김치훈': 5500, '슬랙': 5501, '메일': 5502, '송수신': 5503, '단축': 5504, '즌에': 5505, '부족분': 5506, '이연': 5507, '팔자': 5508, '다북': 5509, '샤': 5510, '멈추': 5511, '활물질': 5512, '국방비': 5513, '입대': 5514, '켐바': 5515, '명예': 5516, '피티': 5517, '포드': 5518, '패시브': 5519, '대체로': 5520, '삼양사': 5521, '수대': 5522, '네온': 5523, '교모': 5524, '김정돈': 5525, '미원': 5526, '혁파': 5527, '현지': 5528, '매립장': 5529, '모레': 5530, '원로': 5531, '간담회': 5532, '셧다운': 5533, '그칠': 5534, '유진기업': 5535, '만평': 5536, '종시': 5537, '주서': 5538, '매달': 5539, '새벽': 5540, '손쉬운': 5541, '황우': 5542, '려': 5543, '강보합세': 5544, '통신망': 5545, '과산화수소': 5546, '부산물': 5547, '부가': 5548, '경징계': 5549, '혜인': 5550, '디지': 5551, '캡': 5552, '지상파': 5553, '방송국': 5554, '위니': 5555, '삼킨': 5556, '산테': 5557, '코피': 5558, '남해화학': 5559, '통일부': 5560, '지표': 5561, '순환': 5562, '극장가': 5563, '확전': 5564, '삼총사': 5565, '화평': 5566, '퍼니': 5567, '싱': 5568, '퓨전': 5569, '침상': 5570, '코크스': 5571, '충족': 5572, '루프트한자': 5573, '티몰': 5574, '스크린': 5575, '구설수': 5576, '밥': 5577, '음식료': 5578, '정수장': 5579, '적수': 5580, '현상': 5581, '소석회': 5582, '산지': 5583, '근로자': 5584, '신재': 5585, '화목': 5586, '바운드': 5587, '진짜': 5588, '산다': 5589, '감대': 5590, '광산업': 5591, '역전': 5592, '질주': 5593, '로선': 5594, '긴장': 5595, '나선': 5596, '청약률': 5597, '공신력': 5598, '코리아나': 5599, '콩제비꽃': 5600, '제비꽃': 5601, '불티': 5602, '차입': 5603, '일신동': 5604, '본회': 5605, '한다는': 5606, '터닝': 5607, '수혈': 5608, '주래': 5609, '저유': 5610, '서해': 5611, '가운데': 5612, '제차': 5613, '북정': 5614, '농기계': 5615, '박원순': 5616, '청전': 5617, '무너진': 5618, '동원금속': 5619, '베드': 5620, '담관': 5621, '글래스': 5622, '셀라': 5623, '호응': 5624, '비리': 5625, '흑': 5626, '싱크': 5627, '본드': 5628, '해역': 5629, '바비': 5630, '놀': 5631, '동참': 5632, '백혈구': 5633, '기술이전': 5634, '윤순길': 5635, '학술': 5636, '이진': 5637, '분기점': 5638, '바라카': 5639, '충당': 5640, '환입': 5641, '리베이트': 5642, '소모': 5643, '에스에스': 5644, '이어졌': 5645, '목전': 5646, '마친': 5647, '녹록': 5648, '대외': 5649, '추징': 5650, '닷': 5651, '따': 5652, '혈우병': 5653, '테바': 5654, '노노': 5655, '기저귀': 5656, '솜': 5657, '써니': 5658, '소매': 5659, '마트': 5660, '일회용': 5661, '비닐봉투': 5662, '접종': 5663, '간다': 5664, '행비': 5665, '중추': 5666, '아쿠시': 5667, '교통카드': 5668, '벌꿀': 5669, '톨': 5670, '식별': 5671, '화색': 5672, '활짝': 5673, '카길': 5674, '리어드': 5675, '게임빌': 5676, '가정': 5677, '풍경': 5678, '심의': 5679, '최강': 5680, '진단장': 5681, '영리': 5682, '황기': 5683, '앨범': 5684, '막연': 5685, '두려움': 5686, '으며': 5687, '튼': 5688, '다운로드': 5689, '선광': 5690, '중환자': 5691, '넘봐': 5692, '서암': 5693, '내부': 5694, '고발': 5695, '광촉매': 5696, '아끼': 5697, '려던': 5698, '철퇴': 5699, '생선': 5700, '당뇨병': 5701, '충남': 5702, '당진': 5703, '객사': 5704, '회계감사': 5705, '러시': 5706, '자립': 5707, '감광제': 5708, '컬러': 5709, '웅': 5710, '진북': 5711, '딜리': 5712, '부영': 5713, '을지': 5714, '빌딩': 5715, '부근': 5716, '커머스': 5717, '창궐': 5718, '빠져': 5719, '택': 5720, '무슨': 5721, '빗겨': 5722, '동의': 5723, '사망자': 5724, '에스원': 5725, '무인화': 5726, '맞': 5727, '이앙기': 5728, '육류': 5729, '슈펙': 5730, '성유': 5731, '검사기': 5732, '불확실': 5733, '콕': 5734, '더디': 5735, '마제': 5736, '릭': 5737, '내내': 5738, '대만원': 5739, '법정': 5740, '이착륙': 5741, '발판': 5742, '기금': 5743, '명단': 5744, '등재': 5745, '독립': 5746, '입장': 5747, '태웅': 5748, '중갈': 5749, '리그': 5750, '강타': 5751, '조류': 5752, '최우선': 5753, '아티스트': 5754, '철': 5755, '강주': 5756, '루트': 5757, '코트': 5758, '열렸': 5759, '행동주의': 5760, '라인업': 5761, '데즈': 5762, '바인': 5763, '금수': 5764, '치유': 5765, '그리티': 5766, '예방법': 5767, '억병': 5768, '내화': 5769, '반색': 5770, '철폐': 5771, '폐암': 5772, '징역': 5773, '구형': 5774, '파죽지세': 5775, '유형': 5776, '유치에': 5777, '레미마': 5778, '졸': 5779, '람': 5780, '진흥': 5781, '과방': 5782, '쾌거': 5783, '베어링': 5784, '부스타': 5785, '질소': 5786, '스탠다드': 5787, '피지': 5788, '가슴살': 5789, '수립': 5790, '재생법': 5791, '만원': 5792, '각막': 5793, '리쥬': 5794, '심한': 5795, '재판부': 5796, '보조': 5797, '스럽': 5798, '지설': 5799, '잇따른': 5800, '인텔': 5801, '뽑': 5802, '쎄': 5803, '초소형': 5804, '비드': 5805, '물고기': 5806, '놀자': 5807, '한테': 5808, '쌀': 5809, '헌': 5810, '제조원': 5811, '정정': 5812, '노동자': 5813, '단주': 5814, '당저': 5815, '롤스로이스': 5816, '벗어날': 5817, '뉴트': 5818, '리바이': 5819, '노루': 5820, '페인트': 5821, '이겨': 5822, '섹': 5823, '할인율': 5824, '육계주': 5825, '연천': 5826, '흥국': 5827, '식이': 5828, '운전자': 5829, '흑사병': 5830, '페니실린': 5831, '브라운': 5832, '더스트': 5833, '라이프사이클': 5834, '가위': 5835, '메릴랜드': 5836, '한공': 5837, '부흥': 5838, '미공개': 5839, '감내': 5840, '행정': 5841, '브라더': 5842, '진가': 5843, '불과': 5844, '붙이': 5845, '매약': 5846, '봉준호': 5847, '앵글': 5848, '의미': 5849, '힘들': 5850, '전장용': 5851, '영화관': 5852, '대남': 5853, '전반': 5854, '무증': 5855, '췌장염': 5856, '수반': 5857, '발부': 5858, '의결권': 5859, '라이온': 5860, '오프닝': 5861, '활로': 5862, '유유': 5863, '악영향': 5864, '피케': 5865, '어기': 5866, '통사': 5867, '불명': 5868, '대명': 5869, '침구': 5870, '응용': 5871, '블리': 5872, '축적': 5873, '차향': 5874, '미원상사': 5875, '심부전': 5876, '에이지': 5877, '체온계': 5878, '깃': 5879, '취득지': 5880, '유수': 5881, '프라': 5882, '더플': 5883, '패닉': 5884, '창업주': 5885, '다를까': 5886, '지방분': 5887, '어려운': 5888, '시기': 5889, '톡톡': 5890, '결판': 5891, '비밀': 5892, '롤러코스터': 5893, '탄': 5894, '강아지': 5895, '주장': 5896, '감상': 5897, '반납': 5898, '단소': 5899, '근막': 5900, '인산가': 5901, '죽염': 5902, '세트': 5903, '창출': 5904, '감종': 5905, '연설': 5906, '이자': 5907, '수수료': 5908, '매립': 5909, '연준': 5910, '기법': 5911, '돔': 5912, '깼': 5913, '닙옵디보': 5914, '고문': 5915, '지급': 5916, '떠오르': 5917, '철우': 5918, '포장재': 5919, '그': 5920, '고축': 5921, '비행기': 5922, '잠깐': 5923, '신수': 5924, '유압': 5925, '브레이커': 5926, '에이코': 5927, '넬': 5928, '임직원': 5929, '꼿꼿': 5930, '초전': 5931, '근심거리': 5932, '사라져': 5933, '고기': 5934, '스테로이드제': 5935, '경북': 5936, '인천': 5937, '남포': 5938, '개통': 5939, '마쳐': 5940, '회우': 5941, '자리': 5942, '번호판': 5943, '화물창': 5944, '칫솔': 5945, '리뷰': 5946, '화우': 5947, '컬리': 5948, '연초': 5949, '더뎌': 5950, '재확인': 5951, '피피': 5952, '회복실': 5953, '클레이튼': 5954, '관계': 5955, '세이버': 5956, '나아지': 5957, '침대': 5958, '시안': 5959, '고삐': 5960, '둔감': 5961, '민감': 5962, '군불': 5963, '때기': 5964, '지배권': 5965, '되살리': 5966, '일천': 5967, '소비재': 5968, '율호': 5969, '레인': 5970, '완료상': 5971, '면허증': 5972, '폴크스': 5973, '바겐': 5974, '환율': 5975, '플라잉': 5976, '사케': 5977, '옵티머스': 5978, '화투': 5979, '존재': 5980, '솔트룩스': 5981, '근거': 5982, '고바': 5983, '고정': 5984, '멘탈': 5985, '신비': 5986, '안면': 5987, '용시': 5988, '도산대로': 5989, '테헤란': 5990, '로로': 5991, '둥지': 5992, '옮기': 5993, '마테': 5994, '스캔들': 5995, '급격': 5996, '서울시': 5997, '농수산물': 5998, '금속': 5999, '영흥': 6000, '망': 6001, '의결': 6002, '상하수도': 6003, '개량': 6004, '배관': 6005, '오뚜기': 6006, '곡주': 6007, '단백질': 6008, '높인': 6009, '앞당기': 6010, '정맥': 6011, '피하': 6012, '체조': 6013, '바이오센서': 6014, '라텍스': 6015, '악조건': 6016, '계열': 6017, '한스': 6018, '라즈': 6019, '마장': 6020, '비서': 6021, '뜬다': 6022, '경우': 6023, '점찍': 6024, '색조': 6025, '아이템': 6026, '차액': 6027, '공방': 6028, '내년도': 6029, '웰컴': 6030, '레모': 6031, '비싸': 6032, '경쟁심': 6033, '록히드': 6034, '마틴': 6035, '정비': 6036, '딥': 6037, '러닝': 6038, '식각': 6039, '사인': 6040, '특': 6041, '소용': 6042, '초고압': 6043, '변': 6044, '경장': 6045, '주식회사': 6046, '테이': 6047, '팩스': 6048, '데카론': 6049}\n"
          ],
          "name": "stdout"
        }
      ]
    },
    {
      "cell_type": "code",
      "metadata": {
        "id": "TNCEBvX8tB1U",
        "colab": {
          "base_uri": "https://localhost:8080/"
        },
        "outputId": "3f48574d-54ab-4d31-b1eb-0f1ec5bbf411"
      },
      "source": [
        "threshold = 2\n",
        "words_cnt = len(tokenizer.word_index)\n",
        "rare_cnt = 0\n",
        "words_freq = 0\n",
        "rare_freq = 0\n",
        "\n",
        "for key, value in tokenizer.word_counts.items():\n",
        "  words_freq = words_freq + value\n",
        "\n",
        "  if value < threshold:\n",
        "    rare_cnt += 1\n",
        "    rare_freq = rare_freq + value\n",
        "\n",
        "print('전체 단어 수:', words_cnt)\n",
        "print('빈도가 {} 이하인 희귀 단어수  : {}'.format(threshold-1, rare_cnt))\n",
        "print('희귀 단어 비율: {}'.format((rare_cnt / words_cnt)*100))\n",
        "print('희귀 단어 등장 빈도비율: {}'.format((rare_freq / words_freq)*100))"
      ],
      "execution_count": 85,
      "outputs": [
        {
          "output_type": "stream",
          "text": [
            "전체 단어 수: 6049\n",
            "빈도가 1 이하인 희귀 단어수  : 2169\n",
            "희귀 단어 비율: 35.85716647379732\n",
            "희귀 단어 등장 빈도비율: 3.072934376062564\n"
          ],
          "name": "stdout"
        }
      ]
    },
    {
      "cell_type": "code",
      "metadata": {
        "id": "jDdSf1NljDA5",
        "colab": {
          "base_uri": "https://localhost:8080/"
        },
        "outputId": "84ee55df-e26e-4820-a6f3-63462645640c"
      },
      "source": [
        "vocab_size = words_cnt-rare_cnt+2\n",
        "print(vocab_size)"
      ],
      "execution_count": 86,
      "outputs": [
        {
          "output_type": "stream",
          "text": [
            "3882\n"
          ],
          "name": "stdout"
        }
      ]
    },
    {
      "cell_type": "code",
      "metadata": {
        "id": "foxHJayJkLxA"
      },
      "source": [
        "tokenizer = Tokenizer(vocab_size, oov_token='OOV')\n",
        "tokenizer.fit_on_texts(X_train)\n",
        "X_train = tokenizer.texts_to_sequences(X_train)\n",
        "X_test = tokenizer.texts_to_sequences(X_test)"
      ],
      "execution_count": 87,
      "outputs": []
    },
    {
      "cell_type": "code",
      "metadata": {
        "id": "grR5IU4XlJen",
        "colab": {
          "base_uri": "https://localhost:8080/"
        },
        "outputId": "4cd8c32d-7c30-4bdb-cd45-ab37ae790fbe"
      },
      "source": [
        "y_train = np.array(train_data['posi_nega'])\n",
        "y_test = np.array(test_data['posi_nega'])\n",
        "y_train"
      ],
      "execution_count": 88,
      "outputs": [
        {
          "output_type": "execute_result",
          "data": {
            "text/plain": [
              "array([1, 0, 1, ..., 1, 1, 1])"
            ]
          },
          "metadata": {
            "tags": []
          },
          "execution_count": 88
        }
      ]
    },
    {
      "cell_type": "code",
      "metadata": {
        "id": "9OdMjJMCmHWv",
        "colab": {
          "base_uri": "https://localhost:8080/"
        },
        "outputId": "2c50449d-ffb7-4c44-9133-b852153d8ddb"
      },
      "source": [
        "print('리뷰 최대 길이:', max(len(l) for l in X_train))\n",
        "print('리뷰 평균 길이: ', sum(map(len, X_train))/len(X_train))"
      ],
      "execution_count": 89,
      "outputs": [
        {
          "output_type": "stream",
          "text": [
            "리뷰 최대 길이: 19\n",
            "리뷰 평균 길이:  8.719456454601605\n"
          ],
          "name": "stdout"
        }
      ]
    },
    {
      "cell_type": "code",
      "metadata": {
        "id": "HZlT35-5mt3y",
        "colab": {
          "base_uri": "https://localhost:8080/",
          "height": 276
        },
        "outputId": "2b027ac4-e5e8-4fd8-fda1-ae18eed15dd4"
      },
      "source": [
        "plt.hist([len(s) for s in X_train], bins=50)\n",
        "plt.xlabel('Length of Samples')\n",
        "plt.ylabel('Number of Samples')\n",
        "plt.show()"
      ],
      "execution_count": 90,
      "outputs": [
        {
          "output_type": "display_data",
          "data": {
            "image/png": "[encoded data removed]",
            "text/plain": [
              "<Figure size 432x288 with 1 Axes>"
            ]
          },
          "metadata": {
            "tags": []
          }
        }
      ]
    },
    {
      "cell_type": "code",
      "metadata": {
        "id": "f4FO7r69nBoo"
      },
      "source": [
        "max_len = 20"
      ],
      "execution_count": 91,
      "outputs": []
    },
    {
      "cell_type": "code",
      "metadata": {
        "id": "LF6ETD_KqP4h"
      },
      "source": [
        "X_train = pad_sequences(X_train, maxlen=max_len)\n",
        "X_test = pad_sequences(X_test, maxlen=max_len)"
      ],
      "execution_count": 92,
      "outputs": []
    },
    {
      "cell_type": "code",
      "metadata": {
        "id": "T3poZw_iWSDx",
        "colab": {
          "base_uri": "https://localhost:8080/"
        },
        "outputId": "e6506940-99ba-422c-a035-43e221ac217c"
      },
      "source": [
        "np.unique(y_train)"
      ],
      "execution_count": 93,
      "outputs": [
        {
          "output_type": "execute_result",
          "data": {
            "text/plain": [
              "array([0, 1])"
            ]
          },
          "metadata": {
            "tags": []
          },
          "execution_count": 93
        }
      ]
    },
    {
      "cell_type": "code",
      "metadata": {
        "id": "-1s2ZXO2qbgS"
      },
      "source": [
        "from tensorflow.keras.layers import Embedding, Dense, LSTM\n",
        "from tensorflow.keras.models import Sequential"
      ],
      "execution_count": 106,
      "outputs": []
    },
    {
      "cell_type": "code",
      "metadata": {
        "id": "w_6vhzeWqmZ5",
        "colab": {
          "base_uri": "https://localhost:8080/"
        },
        "outputId": "a3e951a1-306a-44b3-a8df-acee51cb19e5"
      },
      "source": [
        "model = Sequential()\n",
        "model.add(Embedding(vocab_size, 100))\n",
        "model.add(LSTM(128))\n",
        "model.add(Dense(1, activation='sigmoid'))\n",
        "\n",
        "model.compile(optimizer='rmsprop', loss='binary_crossentropy', metrics=['acc'])\n",
        "model.summary()"
      ],
      "execution_count": 109,
      "outputs": [
        {
          "output_type": "stream",
          "text": [
            "Model: \"sequential_4\"\n",
            "_________________________________________________________________\n",
            "Layer (type)                 Output Shape              Param #   \n",
            "=================================================================\n",
            "embedding_4 (Embedding)      (None, None, 100)         388200    \n",
            "_________________________________________________________________\n",
            "lstm_4 (LSTM)                (None, 128)               117248    \n",
            "_________________________________________________________________\n",
            "dense_4 (Dense)              (None, 1)                 129       \n",
            "=================================================================\n",
            "Total params: 505,577\n",
            "Trainable params: 505,577\n",
            "Non-trainable params: 0\n",
            "_________________________________________________________________\n"
          ],
          "name": "stdout"
        }
      ]
    },
    {
      "cell_type": "code",
      "metadata": {
        "id": "WvhmPTMWqyP5",
        "colab": {
          "base_uri": "https://localhost:8080/"
        },
        "outputId": "596faf3b-85d2-49e3-8113-2deefc801985"
      },
      "source": [
        "history = model.fit(X_train, y_train, epochs=15, batch_size=60, validation_split=0.3)"
      ],
      "execution_count": 110,
      "outputs": [
        {
          "output_type": "stream",
          "text": [
            "Epoch 1/15\n",
            "95/95 [==============================] - 7s 52ms/step - loss: 0.2520 - acc: 0.8962 - val_loss: 0.0494 - val_acc: 0.9852\n",
            "Epoch 2/15\n",
            "95/95 [==============================] - 4s 47ms/step - loss: 0.0465 - acc: 0.9848 - val_loss: 0.0332 - val_acc: 0.9881\n",
            "Epoch 3/15\n",
            "95/95 [==============================] - 5s 47ms/step - loss: 0.0296 - acc: 0.9915 - val_loss: 0.0401 - val_acc: 0.9872\n",
            "Epoch 4/15\n",
            "95/95 [==============================] - 4s 47ms/step - loss: 0.0255 - acc: 0.9936 - val_loss: 0.0350 - val_acc: 0.9872\n",
            "Epoch 5/15\n",
            "95/95 [==============================] - 5s 48ms/step - loss: 0.0210 - acc: 0.9949 - val_loss: 0.0506 - val_acc: 0.9852\n",
            "Epoch 6/15\n",
            "95/95 [==============================] - 4s 47ms/step - loss: 0.0154 - acc: 0.9958 - val_loss: 0.0441 - val_acc: 0.9856\n",
            "Epoch 7/15\n",
            "95/95 [==============================] - 4s 47ms/step - loss: 0.0141 - acc: 0.9959 - val_loss: 0.0530 - val_acc: 0.9844\n",
            "Epoch 8/15\n",
            "95/95 [==============================] - 4s 47ms/step - loss: 0.0107 - acc: 0.9970 - val_loss: 0.0618 - val_acc: 0.9831\n",
            "Epoch 9/15\n",
            "95/95 [==============================] - 4s 47ms/step - loss: 0.0084 - acc: 0.9981 - val_loss: 0.0563 - val_acc: 0.9852\n",
            "Epoch 10/15\n",
            "95/95 [==============================] - 4s 47ms/step - loss: 0.0063 - acc: 0.9981 - val_loss: 0.0525 - val_acc: 0.9839\n",
            "Epoch 11/15\n",
            "95/95 [==============================] - 4s 47ms/step - loss: 0.0052 - acc: 0.9988 - val_loss: 0.0611 - val_acc: 0.9839\n",
            "Epoch 12/15\n",
            "95/95 [==============================] - 5s 48ms/step - loss: 0.0049 - acc: 0.9986 - val_loss: 0.0701 - val_acc: 0.9819\n",
            "Epoch 13/15\n",
            "95/95 [==============================] - 4s 47ms/step - loss: 0.0034 - acc: 0.9986 - val_loss: 0.0701 - val_acc: 0.9827\n",
            "Epoch 14/15\n",
            "95/95 [==============================] - 4s 47ms/step - loss: 0.0034 - acc: 0.9986 - val_loss: 0.1054 - val_acc: 0.9790\n",
            "Epoch 15/15\n",
            "95/95 [==============================] - 4s 47ms/step - loss: 0.0019 - acc: 0.9991 - val_loss: 0.1301 - val_acc: 0.9753\n"
          ],
          "name": "stdout"
        }
      ]
    },
    {
      "cell_type": "code",
      "metadata": {
        "id": "CQg9GlJYro9p",
        "colab": {
          "base_uri": "https://localhost:8080/"
        },
        "outputId": "e3be9bdc-dc24-4568-f152-d37bea8f0bb2"
      },
      "source": [
        "model.evaluate(X_test, y_test)"
      ],
      "execution_count": 111,
      "outputs": [
        {
          "output_type": "stream",
          "text": [
            "85/85 [==============================] - 1s 6ms/step - loss: 0.1639 - acc: 0.9763\n"
          ],
          "name": "stdout"
        },
        {
          "output_type": "execute_result",
          "data": {
            "text/plain": [
              "[0.16392582654953003, 0.9762874841690063]"
            ]
          },
          "metadata": {
            "tags": []
          },
          "execution_count": 111
        }
      ]
    },
    {
      "cell_type": "code",
      "metadata": {
        "id": "YHjdgxo8sbOa",
        "colab": {
          "base_uri": "https://localhost:8080/",
          "height": 507
        },
        "outputId": "97f0c7e7-feec-4080-a0c6-daea3dd5f3a1"
      },
      "source": [
        "hist_dict = history.history\n",
        "loss = hist_dict['loss']\n",
        "val_loss = hist_dict['val_loss']\n",
        "acc = hist_dict['acc']\n",
        "val_acc = hist_dict['val_acc']\n",
        "\n",
        "plt.plot(loss, 'b--', label='training loss')\n",
        "plt.plot(val_loss, 'r:', label='validation loss')\n",
        "plt.legend()\n",
        "plt.grid()\n",
        "\n",
        "plt.figure()\n",
        "plt.plot(acc, 'b--', label='training accuracy')\n",
        "plt.plot(val_acc, 'r:', label='validation accuracy')\n",
        "plt.legend()\n",
        "plt.grid()\n",
        "\n",
        "plt.show()"
      ],
      "execution_count": 112,
      "outputs": [
        {
          "output_type": "display_data",
          "data": {
            "image/png": "[encoded data removed]",
            "text/plain": [
              "<Figure size 432x288 with 1 Axes>"
            ]
          },
          "metadata": {
            "tags": []
          }
        },
        {
          "output_type": "display_data",
          "data": {
            "image/png": "[encoded data removed]",
            "text/plain": [
              "<Figure size 432x288 with 1 Axes>"
            ]
          },
          "metadata": {
            "tags": []
          }
        }
      ]
    },
    {
      "cell_type": "code",
      "metadata": {
        "id": "1h06voJycakv"
      },
      "source": [
        "  # mecab = Mecab()\n",
        "  # new_token = [word for word in mecab.morphs(\"북한 한미연합훈련 맹비난에 경협주 하락(종합)\") if not word in stopwords]\n",
        "  # new_sequences = tokenizer.texts_to_sequences([new_token])\n",
        "  # new_pad = pad_sequences(new_sequences, maxlen=max_len)\n",
        "  # score = model.predict(new_pad)"
      ],
      "execution_count": null,
      "outputs": []
    },
    {
      "cell_type": "code",
      "metadata": {
        "id": "vW32yA8idr27"
      },
      "source": [
        "# score"
      ],
      "execution_count": null,
      "outputs": []
    },
    {
      "cell_type": "code",
      "metadata": {
        "id": "drRU9sL7tpxJ"
      },
      "source": [
        "def sentiment_predict(new_sentence):\n",
        "  new_token = [word for word in mecab.morphs(new_sentence) if not word in stopwords]\n",
        "  new_sequences = tokenizer.texts_to_sequences([new_token])\n",
        "  new_pad = pad_sequences(new_sequences, maxlen=max_len)\n",
        "  score = float(model.predict(new_pad))\n",
        "\n",
        "  if score > 0.5:\n",
        "    print('{} -> 긍정({:.2f}%)'.format(new_sentence, score*100))\n",
        "  else:\n",
        "    print('{} -> 부정({:.2f}%)'.format(new_sentence, (1-score)*100))"
      ],
      "execution_count": 115,
      "outputs": []
    },
    {
      "cell_type": "code",
      "metadata": {
        "id": "eoIcE8QQu5MM",
        "colab": {
          "base_uri": "https://localhost:8080/"
        },
        "outputId": "b7cad9af-31e2-4936-a82b-27e66c184c61"
      },
      "source": [
        "sentiment_predict('정말 재미있고 흥미진진했어요.')\n",
        "sentiment_predict('어떻게 이렇게 지루하고 재미없죠?')\n",
        "sentiment_predict('배우 연기력이 대박입니다.')\n",
        "sentiment_predict('분위기가 어둡고 스토리가 복잡해요.')"
      ],
      "execution_count": 116,
      "outputs": [
        {
          "output_type": "stream",
          "text": [
            "정말 재미있고 흥미진진했어요. -> 부정(98.45%)\n",
            "어떻게 이렇게 지루하고 재미없죠? -> 긍정(77.05%)\n",
            "배우 연기력이 대박입니다. -> 긍정(67.76%)\n",
            "분위기가 어둡고 스토리가 복잡해요. -> 긍정(99.27%)\n"
          ],
          "name": "stdout"
        }
      ]
    },
    {
      "cell_type": "code",
      "metadata": {
        "id": "jtjQGRwHuVq6",
        "colab": {
          "base_uri": "https://localhost:8080/"
        },
        "outputId": "f6fd415b-dc86-4c61-b562-4140210fd36d"
      },
      "source": [
        "sentiment_predict('갤럭시 신작 폴더블폰 부품주 강세…증권가 호평')\n",
        "sentiment_predict('한화시스템, 9% 급등…원웹 3450억 투자 이사회 합류')\n",
        "sentiment_predict(\"나노씨엠에스 '투자 경고'에도 연일 강세\")\n",
        "sentiment_predict('애니젠, 신약 개발 기대감에 급등')\n",
        "sentiment_predict('SKIET, MSCI 편입 소식에 급등세')\n",
        "sentiment_predict('카카오뱅크, 하루 만에 반등…20일 MSCI 조기편입')\n",
        "sentiment_predict(\"삼성전자-SK하이닉스, D램 가격 하락 우려에 1~2%하락 출발\")\n",
        "sentiment_predict('강원랜드, 실적 회복 지속 전망에 4%↑')\n",
        "sentiment_predict('러시아 백신 관련주 이트론 강세')\n",
        "sentiment_predict('크래프톤, 공모가 보다 낮은 시초가 형성 후 오락가락')\n",
        "sentiment_predict(\"네오위즈 상한가‥신작 게임 동시접속자 7만 돌파\")\n",
        "sentiment_predict('PI첨단소재, 코스피 이전 첫날 강세')\n",
        "sentiment_predict('한컴라이프케어, 코스피 입성 첫날 오전 약세')\n",
        "sentiment_predict(\"SK하이닉스, 장중 10만원 붕괴…코스피 시총 2위 '위태'\")\n",
        "sentiment_predict('크래프톤, 공모가 보다 낮은 시초가 형성 후 오락가락')\n",
        "sentiment_predict(\"삼성전자-SK하이닉스, D램 가격 하락 우려에 1~2%하락 출발\")\n",
        "sentiment_predict('팍스넷, 정리매매 절차 돌입에 62.8%↓')\n",
        "sentiment_predict('카카오뱅크, 셋째날 하락 반전…5%대↓')\n",
        "sentiment_predict('삼성중공업, 무상감자 후 거래재개…3%대 약세')"
      ],
      "execution_count": 121,
      "outputs": [
        {
          "output_type": "stream",
          "text": [
            "갤럭시 신작 폴더블폰 부품주 강세…증권가 호평 -> 긍정(100.00%)\n",
            "한화시스템, 9% 급등…원웹 3450억 투자 이사회 합류 -> 긍정(100.00%)\n",
            "나노씨엠에스 '투자 경고'에도 연일 강세 -> 긍정(100.00%)\n",
            "애니젠, 신약 개발 기대감에 급등 -> 긍정(100.00%)\n",
            "SKIET, MSCI 편입 소식에 급등세 -> 긍정(100.00%)\n",
            "카카오뱅크, 하루 만에 반등…20일 MSCI 조기편입 -> 긍정(98.68%)\n",
            "삼성전자-SK하이닉스, D램 가격 하락 우려에 1~2%하락 출발 -> 부정(100.00%)\n",
            "강원랜드, 실적 회복 지속 전망에 4%↑ -> 긍정(99.99%)\n",
            "러시아 백신 관련주 이트론 강세 -> 긍정(100.00%)\n",
            "크래프톤, 공모가 보다 낮은 시초가 형성 후 오락가락 -> 긍정(97.27%)\n",
            "네오위즈 상한가‥신작 게임 동시접속자 7만 돌파 -> 긍정(100.00%)\n",
            "PI첨단소재, 코스피 이전 첫날 강세 -> 긍정(100.00%)\n",
            "한컴라이프케어, 코스피 입성 첫날 오전 약세 -> 부정(100.00%)\n",
            "SK하이닉스, 장중 10만원 붕괴…코스피 시총 2위 '위태' -> 부정(100.00%)\n",
            "크래프톤, 공모가 보다 낮은 시초가 형성 후 오락가락 -> 긍정(97.27%)\n",
            "삼성전자-SK하이닉스, D램 가격 하락 우려에 1~2%하락 출발 -> 부정(100.00%)\n",
            "팍스넷, 정리매매 절차 돌입에 62.8%↓ -> 부정(99.69%)\n",
            "카카오뱅크, 셋째날 하락 반전…5%대↓ -> 부정(100.00%)\n",
            "삼성중공업, 무상감자 후 거래재개…3%대 약세 -> 부정(100.00%)\n"
          ],
          "name": "stdout"
        }
      ]
    },
    {
      "cell_type": "code",
      "metadata": {
        "id": "5Hz13T_iTRu0"
      },
      "source": [
        ""
      ],
      "execution_count": null,
      "outputs": []
    }
  ]
}