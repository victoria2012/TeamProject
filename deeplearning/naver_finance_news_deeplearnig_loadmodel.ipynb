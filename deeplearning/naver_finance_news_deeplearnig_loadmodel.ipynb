{
  "nbformat": 4,
  "nbformat_minor": 0,
  "metadata": {
    "colab": {
      "name": "naver_finance_news_deeplearnig_loadmodel",
      "provenance": [],
      "collapsed_sections": [],
      "authorship_tag": "ABX9TyOsmHEuiHgu9Q6ybqkr6dQM",
      "include_colab_link": true
    },
    "kernelspec": {
      "name": "python3",
      "display_name": "Python 3"
    },
    "language_info": {
      "name": "python"
    }
  },
  "cells": [
    {
      "cell_type": "markdown",
      "metadata": {
        "id": "view-in-github",
        "colab_type": "text"
      },
      "source": [
        "<a href=\"https://colab.research.google.com/github/victoria2012/TeamProject/blob/master/deeplearning/naver_finance_news_deeplearnig_loadmodel.ipynb\" target=\"_parent\"><img src=\"https://colab.research.google.com/assets/colab-badge.svg\" alt=\"Open In Colab\"/></a>"
      ]
    },
    {
      "cell_type": "code",
      "metadata": {
        "id": "xR_shKZXdJQY"
      },
      "source": [
        "import tensorflow as tf"
      ],
      "execution_count": 5,
      "outputs": []
    },
    {
      "cell_type": "code",
      "metadata": {
        "colab": {
          "base_uri": "https://localhost:8080/"
        },
        "id": "SMejGshjgdKD",
        "outputId": "adebf2b5-daa8-4620-f7b6-257dc51e0ab7"
      },
      "source": [
        "!python -m pip install konlpy"
      ],
      "execution_count": 6,
      "outputs": [
        {
          "output_type": "stream",
          "text": [
            "Requirement already satisfied: konlpy in /usr/local/lib/python3.7/dist-packages (0.5.2)\n",
            "Requirement already satisfied: lxml>=4.1.0 in /usr/local/lib/python3.7/dist-packages (from konlpy) (4.2.6)\n",
            "Requirement already satisfied: numpy>=1.6 in /usr/local/lib/python3.7/dist-packages (from konlpy) (1.19.5)\n",
            "Requirement already satisfied: colorama in /usr/local/lib/python3.7/dist-packages (from konlpy) (0.4.4)\n",
            "Requirement already satisfied: JPype1>=0.7.0 in /usr/local/lib/python3.7/dist-packages (from konlpy) (1.3.0)\n",
            "Requirement already satisfied: beautifulsoup4==4.6.0 in /usr/local/lib/python3.7/dist-packages (from konlpy) (4.6.0)\n",
            "Requirement already satisfied: tweepy>=3.7.0 in /usr/local/lib/python3.7/dist-packages (from konlpy) (3.10.0)\n",
            "Requirement already satisfied: typing-extensions in /usr/local/lib/python3.7/dist-packages (from JPype1>=0.7.0->konlpy) (3.7.4.3)\n",
            "Requirement already satisfied: six>=1.10.0 in /usr/local/lib/python3.7/dist-packages (from tweepy>=3.7.0->konlpy) (1.15.0)\n",
            "Requirement already satisfied: requests-oauthlib>=0.7.0 in /usr/local/lib/python3.7/dist-packages (from tweepy>=3.7.0->konlpy) (1.3.0)\n",
            "Requirement already satisfied: requests[socks]>=2.11.1 in /usr/local/lib/python3.7/dist-packages (from tweepy>=3.7.0->konlpy) (2.23.0)\n",
            "Requirement already satisfied: oauthlib>=3.0.0 in /usr/local/lib/python3.7/dist-packages (from requests-oauthlib>=0.7.0->tweepy>=3.7.0->konlpy) (3.1.1)\n",
            "Requirement already satisfied: chardet<4,>=3.0.2 in /usr/local/lib/python3.7/dist-packages (from requests[socks]>=2.11.1->tweepy>=3.7.0->konlpy) (3.0.4)\n",
            "Requirement already satisfied: urllib3!=1.25.0,!=1.25.1,<1.26,>=1.21.1 in /usr/local/lib/python3.7/dist-packages (from requests[socks]>=2.11.1->tweepy>=3.7.0->konlpy) (1.24.3)\n",
            "Requirement already satisfied: idna<3,>=2.5 in /usr/local/lib/python3.7/dist-packages (from requests[socks]>=2.11.1->tweepy>=3.7.0->konlpy) (2.10)\n",
            "Requirement already satisfied: certifi>=2017.4.17 in /usr/local/lib/python3.7/dist-packages (from requests[socks]>=2.11.1->tweepy>=3.7.0->konlpy) (2021.5.30)\n",
            "Requirement already satisfied: PySocks!=1.5.7,>=1.5.6 in /usr/local/lib/python3.7/dist-packages (from requests[socks]>=2.11.1->tweepy>=3.7.0->konlpy) (1.7.1)\n"
          ],
          "name": "stdout"
        }
      ]
    },
    {
      "cell_type": "code",
      "metadata": {
        "colab": {
          "base_uri": "https://localhost:8080/"
        },
        "id": "tNu0SJ9jd793",
        "outputId": "24b0577b-6cfd-423d-9cb3-64b87b65d887"
      },
      "source": [
        "loaded_model = tf.keras.models.load_model('./naver_finance_news_deeplearnig.h5')\n",
        "loaded_model"
      ],
      "execution_count": 7,
      "outputs": [
        {
          "output_type": "execute_result",
          "data": {
            "text/plain": [
              "<keras.engine.sequential.Sequential at 0x7fecb8bdea90>"
            ]
          },
          "metadata": {
            "tags": []
          },
          "execution_count": 7
        }
      ]
    },
    {
      "cell_type": "markdown",
      "metadata": {
        "id": "cZ7-WI9Mfwce"
      },
      "source": [
        "##### 과정 : 분류기 --> 불용어 제거(stopwords) --> 사전을 근거로 숫자화 --> padding --> predict"
      ]
    },
    {
      "cell_type": "code",
      "metadata": {
        "id": "fxYhYFCEfKPW"
      },
      "source": [
        "import konlpy"
      ],
      "execution_count": 8,
      "outputs": []
    },
    {
      "cell_type": "code",
      "metadata": {
        "id": "deo3aDStgk_F"
      },
      "source": [
        "okt = konlpy.tag.Okt()"
      ],
      "execution_count": 9,
      "outputs": []
    },
    {
      "cell_type": "code",
      "metadata": {
        "id": "Sl4JFXQknj_M"
      },
      "source": [
        "import pickle"
      ],
      "execution_count": 10,
      "outputs": []
    },
    {
      "cell_type": "code",
      "metadata": {
        "colab": {
          "base_uri": "https://localhost:8080/"
        },
        "id": "pX1B-h1Jnm-p",
        "outputId": "8e3ce8d7-332b-469c-e83c-1bb69eb0ddc5"
      },
      "source": [
        "stopwords = pickle.load(open('./stopwords.pkl','rb'))\n",
        "print(stopwords)"
      ],
      "execution_count": 12,
      "outputs": [
        {
          "output_type": "stream",
          "text": [
            "['의', '가', '이', '은', '들', '는', '좀', '잘', '걍', '과', '도', '를', '으로', '자', '에', '와', '한', '하다']\n"
          ],
          "name": "stdout"
        }
      ]
    },
    {
      "cell_type": "code",
      "metadata": {
        "colab": {
          "base_uri": "https://localhost:8080/"
        },
        "id": "7ve_-wOYg2pc",
        "outputId": "da63a836-ee71-4737-b272-2b6337dfcd5e"
      },
      "source": [
        "new_sentence = okt.morphs('아이원스, 상폐 위기 벗어나자 급등…52주 신고가', stem=True)\n",
        "new_sentence = [tok for tok in new_sentence if tok not in stopwords]\n",
        "type(new_sentence)"
      ],
      "execution_count": 14,
      "outputs": [
        {
          "output_type": "execute_result",
          "data": {
            "text/plain": [
              "list"
            ]
          },
          "metadata": {
            "tags": []
          },
          "execution_count": 14
        }
      ]
    },
    {
      "cell_type": "code",
      "metadata": {
        "colab": {
          "base_uri": "https://localhost:8080/"
        },
        "id": "RXSG3IVcmQ68",
        "outputId": "d773416a-425b-41ea-cc5c-37a1982d12c3"
      },
      "source": [
        "tokenizer = pickle.load(open('./tokenizer.pkl','rb'))\n",
        "tokenizer"
      ],
      "execution_count": 15,
      "outputs": [
        {
          "output_type": "execute_result",
          "data": {
            "text/plain": [
              "<keras_preprocessing.text.Tokenizer at 0x7fecb82d34d0>"
            ]
          },
          "metadata": {
            "tags": []
          },
          "execution_count": 15
        }
      ]
    },
    {
      "cell_type": "code",
      "metadata": {
        "colab": {
          "base_uri": "https://localhost:8080/"
        },
        "id": "UK3TenXipXt1",
        "outputId": "9c0898da-492b-4c9e-f708-c746e769e3c1"
      },
      "source": [
        "vob_size = len(tokenizer.word_index)\n",
        "vob_size"
      ],
      "execution_count": 16,
      "outputs": [
        {
          "output_type": "execute_result",
          "data": {
            "text/plain": [
              "6095"
            ]
          },
          "metadata": {
            "tags": []
          },
          "execution_count": 16
        }
      ]
    },
    {
      "cell_type": "code",
      "metadata": {
        "colab": {
          "base_uri": "https://localhost:8080/"
        },
        "id": "sLEhG1hxp-uN",
        "outputId": "ab96b492-7ed4-45a3-a63d-e33b460ab1b6"
      },
      "source": [
        "encoded = tokenizer.texts_to_sequences([new_sentence])\n",
        "encoded"
      ],
      "execution_count": 17,
      "outputs": [
        {
          "output_type": "execute_result",
          "data": {
            "text/plain": [
              "[[110, 1, 1, 1, 662, 1, 5, 1, 1, 10, 45]]"
            ]
          },
          "metadata": {
            "tags": []
          },
          "execution_count": 17
        }
      ]
    },
    {
      "cell_type": "code",
      "metadata": {
        "colab": {
          "base_uri": "https://localhost:8080/"
        },
        "id": "lvg9U-LnqVTT",
        "outputId": "13a226b1-0c9c-4bea-ad22-e3163ef09b8d"
      },
      "source": [
        "pad_new = tf.keras.preprocessing.sequence.pad_sequences(encoded, maxlen=20)\n",
        "pad_new"
      ],
      "execution_count": 19,
      "outputs": [
        {
          "output_type": "execute_result",
          "data": {
            "text/plain": [
              "array([[  0,   0,   0,   0,   0,   0,   0,   0,   0, 110,   1,   1,   1,\n",
              "        662,   1,   5,   1,   1,  10,  45]], dtype=int32)"
            ]
          },
          "metadata": {
            "tags": []
          },
          "execution_count": 19
        }
      ]
    },
    {
      "cell_type": "code",
      "metadata": {
        "id": "NlZmwb75eQhc"
      },
      "source": [
        "score = loaded_model.predict(pad_new)"
      ],
      "execution_count": 20,
      "outputs": []
    },
    {
      "cell_type": "code",
      "metadata": {
        "colab": {
          "base_uri": "https://localhost:8080/"
        },
        "id": "wqR04AS7riqc",
        "outputId": "b57f2c5b-c60c-4461-afb9-ef5a75ffd9f0"
      },
      "source": [
        "if(score > 0.5):\n",
        "  print('긍정', score*100)\n",
        "else:\n",
        "  print('부정', score*100)"
      ],
      "execution_count": 21,
      "outputs": [
        {
          "output_type": "stream",
          "text": [
            "긍정 [[100.]]\n"
          ],
          "name": "stdout"
        }
      ]
    },
    {
      "cell_type": "code",
      "metadata": {
        "id": "M47po75Zrzar"
      },
      "source": [
        "okt = konlpy.tag.Okt()\n",
        "new_sentence = okt.morphs('아이원스, 상폐 위기 벗어나자 급등…52주 신고가', stem=True)\n",
        "new_sentence = [ tok for tok in new_sentence if tok not in stopwords ]\n",
        "encoded = tokenizer.texts_to_sequences([new_sentence])\n",
        "pad_new = tf.keras.preprocessing.sequence.pad_sequences(encoded, maxlen=50)\n",
        "score = loaded_model.predict(pad_new)"
      ],
      "execution_count": 22,
      "outputs": []
    },
    {
      "cell_type": "code",
      "metadata": {
        "colab": {
          "base_uri": "https://localhost:8080/"
        },
        "id": "opZP2CChcxu3",
        "outputId": "a25e19f2-775c-4a43-a6d2-1d65e6407083"
      },
      "source": [
        "score"
      ],
      "execution_count": 23,
      "outputs": [
        {
          "output_type": "execute_result",
          "data": {
            "text/plain": [
              "array([[1.]], dtype=float32)"
            ]
          },
          "metadata": {
            "tags": []
          },
          "execution_count": 23
        }
      ]
    },
    {
      "cell_type": "code",
      "metadata": {
        "id": "YQfqEWe6tkgc"
      },
      "source": [
        "def sentiment_predict(sentence):\n",
        "  okt = konlpy.tag.Okt()\n",
        "  new_sentence = okt.morphs(sentence, stem=True)\n",
        "  new_sentence = [ tok for tok in new_sentence if tok not in stopwords ]\n",
        "  encoded = tokenizer.texts_to_sequences([new_sentence])\n",
        "  pad_new = tf.keras.preprocessing.sequence.pad_sequences(encoded, maxlen=50)\n",
        "  score = loaded_model.predict(pad_new)\n",
        "  if(score > 0.5):\n",
        "    print('긍정', score*100)\n",
        "  else:\n",
        "    print('부정', score*100)"
      ],
      "execution_count": 26,
      "outputs": []
    },
    {
      "cell_type": "code",
      "metadata": {
        "id": "_zZZXyUou_Aq",
        "colab": {
          "base_uri": "https://localhost:8080/"
        },
        "outputId": "32b1f64e-0747-432a-dd52-ed7b0f00075a"
      },
      "source": [
        "words = '네오위즈, 신작 동시접속자 기록 갱신…미출시 중화권 관심 ↑'\n",
        "sentiment_predict(words)"
      ],
      "execution_count": 27,
      "outputs": [
        {
          "output_type": "stream",
          "text": [
            "긍정 [[100.]]\n"
          ],
          "name": "stdout"
        }
      ]
    },
    {
      "cell_type": "code",
      "metadata": {
        "id": "zM3VfCiRvGCi",
        "colab": {
          "base_uri": "https://localhost:8080/"
        },
        "outputId": "efb5291c-ae75-48a8-ef5d-017da3c28ca6"
      },
      "source": [
        "words = '북한 한미연합훈련 맹비난에 경협주 약세'\n",
        "sentiment_predict(words)"
      ],
      "execution_count": 28,
      "outputs": [
        {
          "output_type": "stream",
          "text": [
            "부정 [[0.06507039]]\n"
          ],
          "name": "stdout"
        }
      ]
    },
    {
      "cell_type": "code",
      "metadata": {
        "id": "0mGptroYvsYz",
        "colab": {
          "base_uri": "https://localhost:8080/"
        },
        "outputId": "8744f693-fe01-4f0f-ecd1-a115cb5008cf"
      },
      "source": [
        "words = '원티드랩, 상장 첫 날 ‘따상’ 성공'\n",
        "sentiment_predict(words)"
      ],
      "execution_count": 29,
      "outputs": [
        {
          "output_type": "stream",
          "text": [
            "긍정 [[99.76421]]\n"
          ],
          "name": "stdout"
        }
      ]
    },
    {
      "cell_type": "code",
      "metadata": {
        "colab": {
          "base_uri": "https://localhost:8080/"
        },
        "id": "NGyng7nW5TUz",
        "outputId": "e435ae24-8e18-425f-bf74-7894d90744a7"
      },
      "source": [
        "words = '삼성바이오 장중 100만원 돌파…모더나 백신 생산 임박'\n",
        "sentiment_predict(words)"
      ],
      "execution_count": 30,
      "outputs": [
        {
          "output_type": "stream",
          "text": [
            "긍정 [[100.]]\n"
          ],
          "name": "stdout"
        }
      ]
    },
    {
      "cell_type": "code",
      "metadata": {
        "id": "LTj9eTe25dyj"
      },
      "source": [
        ""
      ],
      "execution_count": null,
      "outputs": []
    }
  ]
}