{
  "nbformat": 4,
  "nbformat_minor": 0,
  "metadata": {
    "colab": {
      "name": "deep_learn.ipynb",
      "provenance": [],
      "collapsed_sections": []
    },
    "kernelspec": {
      "name": "python3",
      "display_name": "Python 3"
    },
    "language_info": {
      "name": "python"
    }
  },
  "cells": [
    {
      "cell_type": "code",
      "metadata": {
        "id": "VSLuLqYJzNGm",
        "colab": {
          "base_uri": "https://localhost:8080/"
        },
        "outputId": "17130410-119e-49d5-b5d4-0d10f1bbd754"
      },
      "source": [
        "!python -m pip install konlpy"
      ],
      "execution_count": null,
      "outputs": [
        {
          "output_type": "stream",
          "text": [
            "Requirement already satisfied: konlpy in /usr/local/lib/python3.7/dist-packages (0.5.2)\n",
            "Requirement already satisfied: tweepy>=3.7.0 in /usr/local/lib/python3.7/dist-packages (from konlpy) (3.10.0)\n",
            "Requirement already satisfied: beautifulsoup4==4.6.0 in /usr/local/lib/python3.7/dist-packages (from konlpy) (4.6.0)\n",
            "Requirement already satisfied: colorama in /usr/local/lib/python3.7/dist-packages (from konlpy) (0.4.4)\n",
            "Requirement already satisfied: lxml>=4.1.0 in /usr/local/lib/python3.7/dist-packages (from konlpy) (4.2.6)\n",
            "Requirement already satisfied: JPype1>=0.7.0 in /usr/local/lib/python3.7/dist-packages (from konlpy) (1.3.0)\n",
            "Requirement already satisfied: numpy>=1.6 in /usr/local/lib/python3.7/dist-packages (from konlpy) (1.19.5)\n",
            "Requirement already satisfied: typing-extensions in /usr/local/lib/python3.7/dist-packages (from JPype1>=0.7.0->konlpy) (3.7.4.3)\n",
            "Requirement already satisfied: requests-oauthlib>=0.7.0 in /usr/local/lib/python3.7/dist-packages (from tweepy>=3.7.0->konlpy) (1.3.0)\n",
            "Requirement already satisfied: six>=1.10.0 in /usr/local/lib/python3.7/dist-packages (from tweepy>=3.7.0->konlpy) (1.15.0)\n",
            "Requirement already satisfied: requests[socks]>=2.11.1 in /usr/local/lib/python3.7/dist-packages (from tweepy>=3.7.0->konlpy) (2.23.0)\n",
            "Requirement already satisfied: oauthlib>=3.0.0 in /usr/local/lib/python3.7/dist-packages (from requests-oauthlib>=0.7.0->tweepy>=3.7.0->konlpy) (3.1.1)\n",
            "Requirement already satisfied: idna<3,>=2.5 in /usr/local/lib/python3.7/dist-packages (from requests[socks]>=2.11.1->tweepy>=3.7.0->konlpy) (2.10)\n",
            "Requirement already satisfied: chardet<4,>=3.0.2 in /usr/local/lib/python3.7/dist-packages (from requests[socks]>=2.11.1->tweepy>=3.7.0->konlpy) (3.0.4)\n",
            "Requirement already satisfied: certifi>=2017.4.17 in /usr/local/lib/python3.7/dist-packages (from requests[socks]>=2.11.1->tweepy>=3.7.0->konlpy) (2021.5.30)\n",
            "Requirement already satisfied: urllib3!=1.25.0,!=1.25.1,<1.26,>=1.21.1 in /usr/local/lib/python3.7/dist-packages (from requests[socks]>=2.11.1->tweepy>=3.7.0->konlpy) (1.24.3)\n",
            "Requirement already satisfied: PySocks!=1.5.7,>=1.5.6 in /usr/local/lib/python3.7/dist-packages (from requests[socks]>=2.11.1->tweepy>=3.7.0->konlpy) (1.7.1)\n"
          ],
          "name": "stdout"
        }
      ]
    },
    {
      "cell_type": "code",
      "metadata": {
        "colab": {
          "base_uri": "https://localhost:8080/"
        },
        "id": "KCQ_4gZPzYUL",
        "outputId": "be6df2dd-4946-488d-cdb1-f686a8da0c40"
      },
      "source": [
        "!curl -O https://raw.githubusercontent.com/konlpy/konlpy/master/scripts/mecab.sh"
      ],
      "execution_count": null,
      "outputs": [
        {
          "output_type": "stream",
          "text": [
            "  % Total    % Received % Xferd  Average Speed   Time    Time     Time  Current\n",
            "                                 Dload  Upload   Total   Spent    Left  Speed\n",
            "\r  0     0    0     0    0     0      0      0 --:--:-- --:--:-- --:--:--     0\r100  5064  100  5064    0     0   190k      0 --:--:-- --:--:-- --:--:--  197k\n"
          ],
          "name": "stdout"
        }
      ]
    },
    {
      "cell_type": "code",
      "metadata": {
        "id": "6axukId9zeGr",
        "colab": {
          "base_uri": "https://localhost:8080/"
        },
        "outputId": "846b096d-c65d-430a-ca01-5a92015be5fc"
      },
      "source": [
        "!bash ./mecab.sh"
      ],
      "execution_count": null,
      "outputs": [
        {
          "output_type": "stream",
          "text": [
            "mecab-ko is already installed\n",
            "mecab-ko-dic is already installed\n",
            "mecab-python is already installed\n",
            "Done.\n"
          ],
          "name": "stdout"
        }
      ]
    },
    {
      "cell_type": "code",
      "metadata": {
        "colab": {
          "base_uri": "https://localhost:8080/"
        },
        "id": "oIElQr0Tz8UK",
        "outputId": "50d0f640-3dbc-421d-b216-045e47e9cbd3"
      },
      "source": [
        "!curl -O https://raw.githubusercontent.com/bab2min/corpus/master/sentiment/naver_shopping.txt"
      ],
      "execution_count": null,
      "outputs": [
        {
          "output_type": "stream",
          "text": [
            "  % Total    % Received % Xferd  Average Speed   Time    Time     Time  Current\n",
            "                                 Dload  Upload   Total   Spent    Left  Speed\n",
            "100 19.6M  100 19.6M    0     0  63.4M      0 --:--:-- --:--:-- --:--:-- 63.4M\n"
          ],
          "name": "stdout"
        }
      ]
    },
    {
      "cell_type": "code",
      "metadata": {
        "id": "0Y8Wz4wE3v7d"
      },
      "source": [
        "import sqlite3\n",
        "import pandas as pd\n",
        "import konlpy\n",
        "import pickle"
      ],
      "execution_count": null,
      "outputs": []
    },
    {
      "cell_type": "code",
      "metadata": {
        "colab": {
          "base_uri": "https://localhost:8080/",
          "height": 759
        },
        "id": "jDz47jr_0mBJ",
        "outputId": "4672b13a-338e-4d8b-92a0-34237d05fa5d"
      },
      "source": [
        "conn = sqlite3.connect('./label_db.sqlite3')\n",
        "c = conn.cursor()\n",
        "label_data = pd.read_sql('SELECT * FROM article', con=conn)\n",
        "c.close()\n",
        "\n",
        "label_data"
      ],
      "execution_count": null,
      "outputs": [
        {
          "output_type": "execute_result",
          "data": {
            "text/html": [
              "<div>\n",
              "<style scoped>\n",
              "    .dataframe tbody tr th:only-of-type {\n",
              "        vertical-align: middle;\n",
              "    }\n",
              "\n",
              "    .dataframe tbody tr th {\n",
              "        vertical-align: top;\n",
              "    }\n",
              "\n",
              "    .dataframe thead th {\n",
              "        text-align: right;\n",
              "    }\n",
              "</style>\n",
              "<table border=\"1\" class=\"dataframe\">\n",
              "  <thead>\n",
              "    <tr style=\"text-align: right;\">\n",
              "      <th></th>\n",
              "      <th>id</th>\n",
              "      <th>date</th>\n",
              "      <th>time</th>\n",
              "      <th>title</th>\n",
              "      <th>content</th>\n",
              "      <th>press</th>\n",
              "      <th>posi_nega</th>\n",
              "      <th>stock</th>\n",
              "      <th>label</th>\n",
              "    </tr>\n",
              "  </thead>\n",
              "  <tbody>\n",
              "    <tr>\n",
              "      <th>0</th>\n",
              "      <td>1</td>\n",
              "      <td>2021-08-11</td>\n",
              "      <td>15:39</td>\n",
              "      <td>북한 한미연합훈련 맹비난에 경협주 하락(종합)</td>\n",
              "      <td>[그래픽] 최근 남북관계 주요 일지(서울=연합뉴스) 이재윤 기자 = 김영철 노동당 ...</td>\n",
              "      <td>연합뉴스</td>\n",
              "      <td>posi_nega</td>\n",
              "      <td>stock</td>\n",
              "      <td>0</td>\n",
              "    </tr>\n",
              "    <tr>\n",
              "      <th>1</th>\n",
              "      <td>2</td>\n",
              "      <td>2021-08-11</td>\n",
              "      <td>15:36</td>\n",
              "      <td>원티드랩, 코스닥 상장 첫날 '따상' 성공(종합)</td>\n",
              "      <td>원티드랩[프레인키웨스트 제공. 재판매 및 DB금지](서울=연합뉴스) 이미령 기자 =...</td>\n",
              "      <td>연합뉴스</td>\n",
              "      <td>posi_nega</td>\n",
              "      <td>원티드랩</td>\n",
              "      <td>2</td>\n",
              "    </tr>\n",
              "    <tr>\n",
              "      <th>2</th>\n",
              "      <td>3</td>\n",
              "      <td>2021-08-11</td>\n",
              "      <td>14:38</td>\n",
              "      <td>가비아 COM 도메인 다년 연장 이벤트</td>\n",
              "      <td>9월 1일부터 .com 도메인 7% 인상향후 8년에 걸쳐 인상 예정[가비아 제공][...</td>\n",
              "      <td>헤럴드경제</td>\n",
              "      <td>posi_nega</td>\n",
              "      <td>가비아</td>\n",
              "      <td>1</td>\n",
              "    </tr>\n",
              "    <tr>\n",
              "      <th>3</th>\n",
              "      <td>4</td>\n",
              "      <td>2021-08-11</td>\n",
              "      <td>14:37</td>\n",
              "      <td>한솔로지스틱스, 해상운임 급등에 순익 8배…재평가 기대</td>\n",
              "      <td>한솔로지스틱스가 강세다. 2분기 실적 개선 소식이 주가에 영향을 준 것으로 보인다....</td>\n",
              "      <td>아시아경제</td>\n",
              "      <td>posi_nega</td>\n",
              "      <td>한솔로지스틱스</td>\n",
              "      <td>2</td>\n",
              "    </tr>\n",
              "    <tr>\n",
              "      <th>4</th>\n",
              "      <td>5</td>\n",
              "      <td>2021-08-11</td>\n",
              "      <td>14:19</td>\n",
              "      <td>엔지켐생명과학, 경구형 코로나 치료제 호주서 상용화 첫발 소식에 강세</td>\n",
              "      <td>[파이낸셜뉴스]코로나19 4차 대유행 속 게임체인저로 꼽히는 머크의 코로나19 치료...</td>\n",
              "      <td>파이낸셜뉴스</td>\n",
              "      <td>posi_nega</td>\n",
              "      <td>엔지켐생명과학</td>\n",
              "      <td>1</td>\n",
              "    </tr>\n",
              "    <tr>\n",
              "      <th>...</th>\n",
              "      <td>...</td>\n",
              "      <td>...</td>\n",
              "      <td>...</td>\n",
              "      <td>...</td>\n",
              "      <td>...</td>\n",
              "      <td>...</td>\n",
              "      <td>...</td>\n",
              "      <td>...</td>\n",
              "      <td>...</td>\n",
              "    </tr>\n",
              "    <tr>\n",
              "      <th>16164</th>\n",
              "      <td>7990</td>\n",
              "      <td>2019-02-27</td>\n",
              "      <td>09:14</td>\n",
              "      <td>막 오르는 2차 북미 정상회담 …경협주도 연일 들썩</td>\n",
              "      <td>[머니투데이 진경진 기자] 2차 북·미 정상회담을 맞아 남북 경협 관련 주식들이 연...</td>\n",
              "      <td>머니투데이</td>\n",
              "      <td>posi_nega</td>\n",
              "      <td>stock</td>\n",
              "      <td>1</td>\n",
              "    </tr>\n",
              "    <tr>\n",
              "      <th>16165</th>\n",
              "      <td>7991</td>\n",
              "      <td>2019-02-27</td>\n",
              "      <td>09:14</td>\n",
              "      <td>바이로메드, 임상결과 지연 소식에 하락세</td>\n",
              "      <td>[이데일리 이광수 기자] 바이로메드(084990)가 주력 파이프라인인 VM202-D...</td>\n",
              "      <td>이데일리</td>\n",
              "      <td>posi_nega</td>\n",
              "      <td>stock</td>\n",
              "      <td>0</td>\n",
              "    </tr>\n",
              "    <tr>\n",
              "      <th>16166</th>\n",
              "      <td>7992</td>\n",
              "      <td>2019-02-27</td>\n",
              "      <td>09:13</td>\n",
              "      <td>에이치엔티, 300억원 투자유치 소식에 상한가</td>\n",
              "      <td>[머니투데이 김사무엘 기자] 에이치엔티가 총 300억원 규모의 전환사채 발생과 유상...</td>\n",
              "      <td>머니투데이</td>\n",
              "      <td>posi_nega</td>\n",
              "      <td>에이치엔티</td>\n",
              "      <td>2</td>\n",
              "    </tr>\n",
              "    <tr>\n",
              "      <th>16167</th>\n",
              "      <td>7993</td>\n",
              "      <td>2019-02-27</td>\n",
              "      <td>09:13</td>\n",
              "      <td>에이치엔티, 300억 CB·유증 발행 소식에 상한가</td>\n",
              "      <td>[이데일리 이명철 기자] 최대주주 변경 계약을 맺은 에이치엔티(176440)가 대규...</td>\n",
              "      <td>이데일리</td>\n",
              "      <td>posi_nega</td>\n",
              "      <td>에이치엔티</td>\n",
              "      <td>2</td>\n",
              "    </tr>\n",
              "    <tr>\n",
              "      <th>16168</th>\n",
              "      <td>11899</td>\n",
              "      <td>2019-02-27</td>\n",
              "      <td>09:12</td>\n",
              "      <td>현대차그룹, 주주환원 정책 강화 기대감에 상승세</td>\n",
              "      <td>[이데일리 이슬기 기자] 현대차그룹 종목들이 주주환원 정책 강화 기대감에 주가가 일...</td>\n",
              "      <td>이데일리</td>\n",
              "      <td>posi_nega</td>\n",
              "      <td>현대차</td>\n",
              "      <td>2</td>\n",
              "    </tr>\n",
              "  </tbody>\n",
              "</table>\n",
              "<p>16169 rows × 9 columns</p>\n",
              "</div>"
            ],
            "text/plain": [
              "          id        date   time  ...  posi_nega    stock label\n",
              "0          1  2021-08-11  15:39  ...  posi_nega    stock     0\n",
              "1          2  2021-08-11  15:36  ...  posi_nega     원티드랩     2\n",
              "2          3  2021-08-11  14:38  ...  posi_nega      가비아     1\n",
              "3          4  2021-08-11  14:37  ...  posi_nega  한솔로지스틱스     2\n",
              "4          5  2021-08-11  14:19  ...  posi_nega  엔지켐생명과학     1\n",
              "...      ...         ...    ...  ...        ...      ...   ...\n",
              "16164   7990  2019-02-27  09:14  ...  posi_nega    stock     1\n",
              "16165   7991  2019-02-27  09:14  ...  posi_nega    stock     0\n",
              "16166   7992  2019-02-27  09:13  ...  posi_nega    에이치엔티     2\n",
              "16167   7993  2019-02-27  09:13  ...  posi_nega    에이치엔티     2\n",
              "16168  11899  2019-02-27  09:12  ...  posi_nega      현대차     2\n",
              "\n",
              "[16169 rows x 9 columns]"
            ]
          },
          "metadata": {
            "tags": []
          },
          "execution_count": 6
        }
      ]
    },
    {
      "cell_type": "code",
      "metadata": {
        "id": "iFzUvGrw24jv"
      },
      "source": [
        "from sklearn.model_selection import train_test_split"
      ],
      "execution_count": null,
      "outputs": []
    },
    {
      "cell_type": "code",
      "metadata": {
        "id": "-vmIjTb736Hu"
      },
      "source": [
        "x_data = label_data['title']\n",
        "y_data = label_data['label']"
      ],
      "execution_count": null,
      "outputs": []
    },
    {
      "cell_type": "code",
      "metadata": {
        "id": "OwdbaVwk3evS",
        "colab": {
          "base_uri": "https://localhost:8080/"
        },
        "outputId": "32b43a93-16df-4cce-d44a-f4833928d207"
      },
      "source": [
        "x_train, x_test, y_train, y_test = train_test_split(x_data, y_data)\n",
        "x_train.shape, y_train.shape, x_test.shape, y_test.shape"
      ],
      "execution_count": null,
      "outputs": [
        {
          "output_type": "execute_result",
          "data": {
            "text/plain": [
              "((12126,), (12126,), (4043,), (4043,))"
            ]
          },
          "metadata": {
            "tags": []
          },
          "execution_count": 9
        }
      ]
    },
    {
      "cell_type": "code",
      "metadata": {
        "id": "6mAexFLk4hFB",
        "colab": {
          "base_uri": "https://localhost:8080/",
          "height": 280
        },
        "outputId": "931eb8c4-ccdb-4d9e-bd25-b3326e02d23a"
      },
      "source": [
        "y_data.value_counts().plot(kind='bar')"
      ],
      "execution_count": null,
      "outputs": [
        {
          "output_type": "execute_result",
          "data": {
            "text/plain": [
              "<matplotlib.axes._subplots.AxesSubplot at 0x7fe6c58653d0>"
            ]
          },
          "metadata": {
            "tags": []
          },
          "execution_count": 10
        },
        {
          "output_type": "display_data",
          "data": {
            "image/png": "[encoded data removed]",
            "text/plain": [
              "<Figure size 432x288 with 1 Axes>"
            ]
          },
          "metadata": {
            "tags": [],
            "needs_background": "light"
          }
        }
      ]
    },
    {
      "cell_type": "markdown",
      "metadata": {
        "id": "dkO2d-Lc6tJf"
      },
      "source": [
        "# NLP"
      ]
    },
    {
      "cell_type": "code",
      "metadata": {
        "id": "OZKA3gibi_Hr"
      },
      "source": [
        "x_temp = x_train\n",
        "x_temp.str.replace('[가-힣ㄱ-ㅎㅠ ]','')"
      ],
      "execution_count": null,
      "outputs": []
    },
    {
      "cell_type": "code",
      "metadata": {
        "id": "kigDBUNC5fm6"
      },
      "source": [
        "x_temp"
      ],
      "execution_count": null,
      "outputs": []
    },
    {
      "cell_type": "code",
      "metadata": {
        "id": "9t9gHcVBO-VW"
      },
      "source": [
        "from konlpy.tag import Mecab"
      ],
      "execution_count": null,
      "outputs": []
    },
    {
      "cell_type": "code",
      "metadata": {
        "id": "s0uWCwGRPjXI",
        "colab": {
          "base_uri": "https://localhost:8080/"
        },
        "outputId": "412a6a4e-b089-4dfe-8c77-64ec0c72e7a7"
      },
      "source": [
        "mecab = Mecab()\n",
        "print(mecab.morphs('와 이런 것도 상품이라고 차라리 내가 만드는게 나을 것 같다'))"
      ],
      "execution_count": null,
      "outputs": [
        {
          "output_type": "stream",
          "text": [
            "['와', '이런', '것', '도', '상품', '이', '라고', '차라리', '내', '가', '만드', '는', '게', '나을', '것', '같', '다']\n"
          ],
          "name": "stdout"
        }
      ]
    },
    {
      "cell_type": "code",
      "metadata": {
        "id": "fwb0SqUPWdTm"
      },
      "source": [
        "x_train_small = x_train[0:5000]"
      ],
      "execution_count": null,
      "outputs": []
    },
    {
      "cell_type": "code",
      "metadata": {
        "id": "4wMRT95DP6Mm"
      },
      "source": [
        "sentance = list()\n",
        "stopwords = ['도','는','다','의','가','이','은','한','에','하','고','을','를','인','듯','과','와','네','들','듯','지','임','게',',','.',\"'\",'↑','↓','\"', '美','中','…','·','%','[',']']\n",
        "\n",
        "for tok in x_train_small:\n",
        "  encoded = mecab.morphs(tok)\n",
        "  sentance.append([item for item in encoded if item not in stopwords])"
      ],
      "execution_count": null,
      "outputs": []
    },
    {
      "cell_type": "markdown",
      "metadata": {
        "id": "bvsU21N1Tl02"
      },
      "source": [
        "# Tokenizer"
      ]
    },
    {
      "cell_type": "code",
      "metadata": {
        "id": "gwO0an1qW8If"
      },
      "source": [
        "print(sentance)"
      ],
      "execution_count": null,
      "outputs": []
    },
    {
      "cell_type": "code",
      "metadata": {
        "id": "mfyWCUsGRBZo"
      },
      "source": [
        "import tensorflow as tf"
      ],
      "execution_count": null,
      "outputs": []
    },
    {
      "cell_type": "code",
      "metadata": {
        "id": "eaL3Iq6wTtVl"
      },
      "source": [
        "tokenizer = tf.keras.preprocessing.text.Tokenizer()\n",
        "tokenizer.fit_on_texts(sentance)"
      ],
      "execution_count": null,
      "outputs": []
    },
    {
      "cell_type": "code",
      "metadata": {
        "id": "XlB8JuEcT9_F"
      },
      "source": [
        "tokenizer.word_index"
      ],
      "execution_count": null,
      "outputs": []
    },
    {
      "cell_type": "code",
      "metadata": {
        "id": "G8M5AGGyU176"
      },
      "source": [
        "tokenizer.word_counts"
      ],
      "execution_count": null,
      "outputs": []
    },
    {
      "cell_type": "code",
      "metadata": {
        "id": "f_H35w_1U47E"
      },
      "source": [
        "total_cnt = len(tokenizer.word_index)\n",
        "\n",
        "rare_cnt = 0\n",
        "total_freq, rare_freq = 0, 0\n",
        "\n",
        "for key, value in tokenizer.word_counts.items():\n",
        "  total_freq = total_freq + value # 전체 단어의 수\n",
        "  if(value <= 2):\n",
        "    rare_cnt = rare_cnt + 1\n",
        "    rare_freq = rare_freq + value # 2미만인 단어의 수"
      ],
      "execution_count": null,
      "outputs": []
    },
    {
      "cell_type": "code",
      "metadata": {
        "id": "IxowuB-TX3J6",
        "colab": {
          "base_uri": "https://localhost:8080/"
        },
        "outputId": "19e9e16a-561d-4d61-8883-755faa9d489f"
      },
      "source": [
        "total_cnt, rare_cnt, (rare_cnt/total_cnt)*100, (rare_freq/total_freq)*100"
      ],
      "execution_count": null,
      "outputs": [
        {
          "output_type": "execute_result",
          "data": {
            "text/plain": [
              "(5901, 3388, 57.413997627520764, 8.645642293278048)"
            ]
          },
          "metadata": {
            "tags": []
          },
          "execution_count": 23
        }
      ]
    },
    {
      "cell_type": "code",
      "metadata": {
        "id": "kufL0daaYKAc"
      },
      "source": [
        "vocab_size = total_cnt - rare_cnt"
      ],
      "execution_count": null,
      "outputs": []
    },
    {
      "cell_type": "code",
      "metadata": {
        "id": "gAPtIQ0pZOxE"
      },
      "source": [
        "tokenizer = tf.keras.preprocessing.text.Tokenizer(vocab_size, oov_token='OOV')\n",
        "tokenizer.fit_on_texts(sentance)"
      ],
      "execution_count": null,
      "outputs": []
    },
    {
      "cell_type": "code",
      "metadata": {
        "id": "hOcxx8mkaYyy"
      },
      "source": [
        "tokenizer.index_word"
      ],
      "execution_count": null,
      "outputs": []
    },
    {
      "cell_type": "code",
      "metadata": {
        "id": "fRzuQhqJdaJC"
      },
      "source": [
        "x_train_small = tokenizer.texts_to_sequences(sentance)"
      ],
      "execution_count": null,
      "outputs": []
    },
    {
      "cell_type": "code",
      "metadata": {
        "id": "YDp-4Ac8eFWJ",
        "colab": {
          "base_uri": "https://localhost:8080/"
        },
        "outputId": "d6529e9b-5017-4f76-aced-53ad9d1a0763"
      },
      "source": [
        "len(x_train_small[0]), len(x_train_small[30]), len(x_train_small[40])"
      ],
      "execution_count": null,
      "outputs": [
        {
          "output_type": "execute_result",
          "data": {
            "text/plain": [
              "(10, 5, 7)"
            ]
          },
          "metadata": {
            "tags": []
          },
          "execution_count": 28
        }
      ]
    },
    {
      "cell_type": "code",
      "metadata": {
        "id": "zNJwJSN1emaR"
      },
      "source": [
        "hist_len = [len(words) for words in x_train_small]"
      ],
      "execution_count": null,
      "outputs": []
    },
    {
      "cell_type": "code",
      "metadata": {
        "id": "DHrms2IbgIlX",
        "colab": {
          "base_uri": "https://localhost:8080/",
          "height": 481
        },
        "outputId": "9aaf9cd8-c860-4a6a-b5fb-508b6f05992c"
      },
      "source": [
        "import matplotlib.pyplot as plt\n",
        "plt.hist(hist_len, bins=50)"
      ],
      "execution_count": null,
      "outputs": [
        {
          "output_type": "execute_result",
          "data": {
            "text/plain": [
              "(array([ 10.,   0.,  74.,   0.,   0., 217.,   0.,   0., 493.,   0.,   0.,\n",
              "        687.,   0.,   0., 788.,   0.,   0., 736.,   0.,   0., 632.,   0.,\n",
              "          0., 512.,   0.,   0., 408.,   0.,   0., 201.,   0.,   0., 122.,\n",
              "          0.,   0.,  68.,   0.,   0.,  28.,   0.,   0.,  15.,   0.,   0.,\n",
              "          6.,   0.,   0.,   2.,   0.,   1.]),\n",
              " array([ 4.  ,  4.34,  4.68,  5.02,  5.36,  5.7 ,  6.04,  6.38,  6.72,\n",
              "         7.06,  7.4 ,  7.74,  8.08,  8.42,  8.76,  9.1 ,  9.44,  9.78,\n",
              "        10.12, 10.46, 10.8 , 11.14, 11.48, 11.82, 12.16, 12.5 , 12.84,\n",
              "        13.18, 13.52, 13.86, 14.2 , 14.54, 14.88, 15.22, 15.56, 15.9 ,\n",
              "        16.24, 16.58, 16.92, 17.26, 17.6 , 17.94, 18.28, 18.62, 18.96,\n",
              "        19.3 , 19.64, 19.98, 20.32, 20.66, 21.  ]),\n",
              " <a list of 50 Patch objects>)"
            ]
          },
          "metadata": {
            "tags": []
          },
          "execution_count": 30
        },
        {
          "output_type": "display_data",
          "data": {
            "image/png": "[encoded data removed]",
            "text/plain": [
              "<Figure size 432x288 with 1 Axes>"
            ]
          },
          "metadata": {
            "tags": [],
            "needs_background": "light"
          }
        }
      ]
    },
    {
      "cell_type": "code",
      "metadata": {
        "id": "JXKVGzgEgPUX",
        "colab": {
          "base_uri": "https://localhost:8080/"
        },
        "outputId": "b05bdc1f-ebdc-4fc0-d021-890397fc10f4"
      },
      "source": [
        "sum(hist_len) / len(x_train_small)"
      ],
      "execution_count": null,
      "outputs": [
        {
          "output_type": "execute_result",
          "data": {
            "text/plain": [
              "10.0328"
            ]
          },
          "metadata": {
            "tags": []
          },
          "execution_count": 31
        }
      ]
    },
    {
      "cell_type": "code",
      "metadata": {
        "id": "HprAY_VTgTq3"
      },
      "source": [
        "x_train_small = tf.keras.preprocessing.sequence.pad_sequences(x_train_small, maxlen=50)"
      ],
      "execution_count": null,
      "outputs": []
    },
    {
      "cell_type": "code",
      "metadata": {
        "id": "9ICLHGyQjSKl"
      },
      "source": [
        "y_train_small = y_train[0:5000]"
      ],
      "execution_count": null,
      "outputs": []
    },
    {
      "cell_type": "code",
      "metadata": {
        "id": "wRsHSAiLjMyO",
        "colab": {
          "base_uri": "https://localhost:8080/"
        },
        "outputId": "6c76210b-2831-4f30-f0db-c27d94a44c50"
      },
      "source": [
        "import numpy as np\n",
        "np.unique(y_train_small)"
      ],
      "execution_count": null,
      "outputs": [
        {
          "output_type": "execute_result",
          "data": {
            "text/plain": [
              "array([0, 1, 2])"
            ]
          },
          "metadata": {
            "tags": []
          },
          "execution_count": 34
        }
      ]
    },
    {
      "cell_type": "code",
      "metadata": {
        "id": "9msLtsVTndBf",
        "colab": {
          "base_uri": "https://localhost:8080/"
        },
        "outputId": "7cdfdb26-28b0-427c-e155-3b37cd8185e9"
      },
      "source": [
        "y_train_small = np.array(y_train_small)\n",
        "np.unique(y_train_small)"
      ],
      "execution_count": null,
      "outputs": [
        {
          "output_type": "execute_result",
          "data": {
            "text/plain": [
              "array([0, 1, 2])"
            ]
          },
          "metadata": {
            "tags": []
          },
          "execution_count": 35
        }
      ]
    },
    {
      "cell_type": "code",
      "metadata": {
        "id": "GUAolfSbk_wj",
        "colab": {
          "base_uri": "https://localhost:8080/"
        },
        "outputId": "31a36c61-4392-4705-a9e6-62444968364e"
      },
      "source": [
        "len(x_train_small), len(y_train_small)"
      ],
      "execution_count": null,
      "outputs": [
        {
          "output_type": "execute_result",
          "data": {
            "text/plain": [
              "(5000, 5000)"
            ]
          },
          "metadata": {
            "tags": []
          },
          "execution_count": 36
        }
      ]
    },
    {
      "cell_type": "markdown",
      "metadata": {
        "id": "QPGawkjxhX0k"
      },
      "source": [
        "# make model"
      ]
    },
    {
      "cell_type": "code",
      "metadata": {
        "id": "O9Z3jlWzg-4o"
      },
      "source": [
        "model = tf.keras.models.Sequential()\n",
        "\n",
        "model.add(tf.keras.layers.Embedding(input_dim=vocab_size, output_dim=30, input_length=50))\n",
        "model.add(tf.keras.layers.Bidirectional(tf.keras.layers.LSTM(128)))\n",
        "model.add(tf.keras.layers.Dense(3, activation='softmax'))\n",
        "\n",
        "model.compile(optimizer='adam', loss='sparse_categorical_crossentropy', metrics=['acc'])"
      ],
      "execution_count": null,
      "outputs": []
    },
    {
      "cell_type": "code",
      "metadata": {
        "id": "MPUj5caekQ9f",
        "colab": {
          "base_uri": "https://localhost:8080/"
        },
        "outputId": "fed6df6a-d2a0-4f64-f85c-4c56c60cf533"
      },
      "source": [
        "hist = model.fit(x_train_small, y_train_small, epochs=20, batch_size=256, validation_split=0.3, shuffle=True)"
      ],
      "execution_count": null,
      "outputs": [
        {
          "output_type": "stream",
          "text": [
            "Epoch 1/20\n",
            "14/14 [==============================] - 8s 388ms/step - loss: 0.9798 - acc: 0.6120 - val_loss: 0.9158 - val_acc: 0.6267\n",
            "Epoch 2/20\n",
            "14/14 [==============================] - 5s 335ms/step - loss: 0.8927 - acc: 0.6346 - val_loss: 0.8822 - val_acc: 0.6267\n",
            "Epoch 3/20\n",
            "14/14 [==============================] - 5s 337ms/step - loss: 0.8414 - acc: 0.6346 - val_loss: 0.8114 - val_acc: 0.6267\n",
            "Epoch 4/20\n",
            "14/14 [==============================] - 5s 341ms/step - loss: 0.7169 - acc: 0.6540 - val_loss: 0.6876 - val_acc: 0.6767\n",
            "Epoch 5/20\n",
            "14/14 [==============================] - 5s 336ms/step - loss: 0.5714 - acc: 0.7463 - val_loss: 0.5830 - val_acc: 0.7647\n",
            "Epoch 6/20\n",
            "14/14 [==============================] - 5s 335ms/step - loss: 0.4254 - acc: 0.8451 - val_loss: 0.5194 - val_acc: 0.8127\n",
            "Epoch 7/20\n",
            "14/14 [==============================] - 5s 334ms/step - loss: 0.3141 - acc: 0.8963 - val_loss: 0.5009 - val_acc: 0.8240\n",
            "Epoch 8/20\n",
            "14/14 [==============================] - 5s 333ms/step - loss: 0.2330 - acc: 0.9329 - val_loss: 0.4274 - val_acc: 0.8467\n",
            "Epoch 9/20\n",
            "14/14 [==============================] - 5s 333ms/step - loss: 0.1659 - acc: 0.9649 - val_loss: 0.4162 - val_acc: 0.8620\n",
            "Epoch 10/20\n",
            "14/14 [==============================] - 5s 335ms/step - loss: 0.1122 - acc: 0.9731 - val_loss: 0.4886 - val_acc: 0.8560\n",
            "Epoch 11/20\n",
            "14/14 [==============================] - 5s 338ms/step - loss: 0.0779 - acc: 0.9837 - val_loss: 0.4074 - val_acc: 0.8740\n",
            "Epoch 12/20\n",
            "14/14 [==============================] - 5s 339ms/step - loss: 0.0525 - acc: 0.9897 - val_loss: 0.3911 - val_acc: 0.8767\n",
            "Epoch 13/20\n",
            "14/14 [==============================] - 5s 336ms/step - loss: 0.0442 - acc: 0.9931 - val_loss: 0.3262 - val_acc: 0.8940\n",
            "Epoch 14/20\n",
            "14/14 [==============================] - 5s 339ms/step - loss: 0.0373 - acc: 0.9957 - val_loss: 0.4312 - val_acc: 0.8733\n",
            "Epoch 15/20\n",
            "14/14 [==============================] - 5s 336ms/step - loss: 0.0277 - acc: 0.9954 - val_loss: 0.3634 - val_acc: 0.8780\n",
            "Epoch 16/20\n",
            "14/14 [==============================] - 5s 336ms/step - loss: 0.0193 - acc: 0.9977 - val_loss: 0.5602 - val_acc: 0.8573\n",
            "Epoch 17/20\n",
            "14/14 [==============================] - 5s 334ms/step - loss: 0.0143 - acc: 0.9983 - val_loss: 0.4569 - val_acc: 0.8740\n",
            "Epoch 18/20\n",
            "14/14 [==============================] - 5s 334ms/step - loss: 0.0108 - acc: 0.9986 - val_loss: 0.6222 - val_acc: 0.8633\n",
            "Epoch 19/20\n",
            "14/14 [==============================] - 5s 334ms/step - loss: 0.0119 - acc: 0.9989 - val_loss: 0.3826 - val_acc: 0.8773\n",
            "Epoch 20/20\n",
            "14/14 [==============================] - 5s 338ms/step - loss: 0.0092 - acc: 0.9994 - val_loss: 0.4876 - val_acc: 0.8720\n"
          ],
          "name": "stdout"
        }
      ]
    },
    {
      "cell_type": "code",
      "metadata": {
        "id": "MApvMOQX25uq"
      },
      "source": [
        "okt = konlpy.tag.Okt()\n",
        "acps = list()\n",
        "\n",
        "for title in x_data:\n",
        "  new_sentence = okt.morphs(title, stem=True)\n",
        "  new_sentence = [ tok for tok in new_sentence if tok not in stopwords ]\n",
        "\n",
        "  vob_size = len(tokenizer.word_index)\n",
        "\n",
        "  encoded = tokenizer.texts_to_sequences([new_sentence])\n",
        "  pad_new = tf.keras.preprocessing.sequence.pad_sequences(encoded, maxlen=50)\n",
        "\n",
        "  score = model.predict(pad_new)\n",
        "  acp = np.argmax(score)\n",
        "\n",
        "  if acp == 0:\n",
        "    acps.append('부정')\n",
        "  elif acp == 1:\n",
        "    acps.append('중립')\n",
        "  else:\n",
        "    acps.append('긍정')\n",
        "acps"
      ],
      "execution_count": null,
      "outputs": []
    },
    {
      "cell_type": "code",
      "metadata": {
        "colab": {
          "base_uri": "https://localhost:8080/"
        },
        "id": "BZI0iDbd_DoM",
        "outputId": "edc331c8-54bc-4547-ba36-20ba6bfa43a0"
      },
      "source": [
        "len(acps)"
      ],
      "execution_count": null,
      "outputs": [
        {
          "output_type": "execute_result",
          "data": {
            "text/plain": [
              "16169"
            ]
          },
          "metadata": {
            "tags": []
          },
          "execution_count": 40
        }
      ]
    },
    {
      "cell_type": "code",
      "metadata": {
        "id": "9h1bb6FK-x8V"
      },
      "source": [
        "acps = pd.DataFrame(acps, columns=['pred'])"
      ],
      "execution_count": null,
      "outputs": []
    },
    {
      "cell_type": "code",
      "metadata": {
        "colab": {
          "base_uri": "https://localhost:8080/",
          "height": 759
        },
        "id": "oCaJhxxBu9qi",
        "outputId": "da478220-58f1-4e7b-86ee-749ccad1ea83"
      },
      "source": [
        "add_acp = pd.concat([label_data, acps], axis=1)\n",
        "add_acp"
      ],
      "execution_count": null,
      "outputs": [
        {
          "output_type": "execute_result",
          "data": {
            "text/html": [
              "<div>\n",
              "<style scoped>\n",
              "    .dataframe tbody tr th:only-of-type {\n",
              "        vertical-align: middle;\n",
              "    }\n",
              "\n",
              "    .dataframe tbody tr th {\n",
              "        vertical-align: top;\n",
              "    }\n",
              "\n",
              "    .dataframe thead th {\n",
              "        text-align: right;\n",
              "    }\n",
              "</style>\n",
              "<table border=\"1\" class=\"dataframe\">\n",
              "  <thead>\n",
              "    <tr style=\"text-align: right;\">\n",
              "      <th></th>\n",
              "      <th>id</th>\n",
              "      <th>date</th>\n",
              "      <th>time</th>\n",
              "      <th>title</th>\n",
              "      <th>content</th>\n",
              "      <th>press</th>\n",
              "      <th>posi_nega</th>\n",
              "      <th>stock</th>\n",
              "      <th>label</th>\n",
              "      <th>pred</th>\n",
              "    </tr>\n",
              "  </thead>\n",
              "  <tbody>\n",
              "    <tr>\n",
              "      <th>0</th>\n",
              "      <td>1</td>\n",
              "      <td>2021-08-11</td>\n",
              "      <td>15:39</td>\n",
              "      <td>북한 한미연합훈련 맹비난에 경협주 하락(종합)</td>\n",
              "      <td>[그래픽] 최근 남북관계 주요 일지(서울=연합뉴스) 이재윤 기자 = 김영철 노동당 ...</td>\n",
              "      <td>연합뉴스</td>\n",
              "      <td>posi_nega</td>\n",
              "      <td>stock</td>\n",
              "      <td>0</td>\n",
              "      <td>부정</td>\n",
              "    </tr>\n",
              "    <tr>\n",
              "      <th>1</th>\n",
              "      <td>2</td>\n",
              "      <td>2021-08-11</td>\n",
              "      <td>15:36</td>\n",
              "      <td>원티드랩, 코스닥 상장 첫날 '따상' 성공(종합)</td>\n",
              "      <td>원티드랩[프레인키웨스트 제공. 재판매 및 DB금지](서울=연합뉴스) 이미령 기자 =...</td>\n",
              "      <td>연합뉴스</td>\n",
              "      <td>posi_nega</td>\n",
              "      <td>원티드랩</td>\n",
              "      <td>2</td>\n",
              "      <td>긍정</td>\n",
              "    </tr>\n",
              "    <tr>\n",
              "      <th>2</th>\n",
              "      <td>3</td>\n",
              "      <td>2021-08-11</td>\n",
              "      <td>14:38</td>\n",
              "      <td>가비아 COM 도메인 다년 연장 이벤트</td>\n",
              "      <td>9월 1일부터 .com 도메인 7% 인상향후 8년에 걸쳐 인상 예정[가비아 제공][...</td>\n",
              "      <td>헤럴드경제</td>\n",
              "      <td>posi_nega</td>\n",
              "      <td>가비아</td>\n",
              "      <td>1</td>\n",
              "      <td>중립</td>\n",
              "    </tr>\n",
              "    <tr>\n",
              "      <th>3</th>\n",
              "      <td>4</td>\n",
              "      <td>2021-08-11</td>\n",
              "      <td>14:37</td>\n",
              "      <td>한솔로지스틱스, 해상운임 급등에 순익 8배…재평가 기대</td>\n",
              "      <td>한솔로지스틱스가 강세다. 2분기 실적 개선 소식이 주가에 영향을 준 것으로 보인다....</td>\n",
              "      <td>아시아경제</td>\n",
              "      <td>posi_nega</td>\n",
              "      <td>한솔로지스틱스</td>\n",
              "      <td>2</td>\n",
              "      <td>긍정</td>\n",
              "    </tr>\n",
              "    <tr>\n",
              "      <th>4</th>\n",
              "      <td>5</td>\n",
              "      <td>2021-08-11</td>\n",
              "      <td>14:19</td>\n",
              "      <td>엔지켐생명과학, 경구형 코로나 치료제 호주서 상용화 첫발 소식에 강세</td>\n",
              "      <td>[파이낸셜뉴스]코로나19 4차 대유행 속 게임체인저로 꼽히는 머크의 코로나19 치료...</td>\n",
              "      <td>파이낸셜뉴스</td>\n",
              "      <td>posi_nega</td>\n",
              "      <td>엔지켐생명과학</td>\n",
              "      <td>1</td>\n",
              "      <td>긍정</td>\n",
              "    </tr>\n",
              "    <tr>\n",
              "      <th>...</th>\n",
              "      <td>...</td>\n",
              "      <td>...</td>\n",
              "      <td>...</td>\n",
              "      <td>...</td>\n",
              "      <td>...</td>\n",
              "      <td>...</td>\n",
              "      <td>...</td>\n",
              "      <td>...</td>\n",
              "      <td>...</td>\n",
              "      <td>...</td>\n",
              "    </tr>\n",
              "    <tr>\n",
              "      <th>16164</th>\n",
              "      <td>7990</td>\n",
              "      <td>2019-02-27</td>\n",
              "      <td>09:14</td>\n",
              "      <td>막 오르는 2차 북미 정상회담 …경협주도 연일 들썩</td>\n",
              "      <td>[머니투데이 진경진 기자] 2차 북·미 정상회담을 맞아 남북 경협 관련 주식들이 연...</td>\n",
              "      <td>머니투데이</td>\n",
              "      <td>posi_nega</td>\n",
              "      <td>stock</td>\n",
              "      <td>1</td>\n",
              "      <td>중립</td>\n",
              "    </tr>\n",
              "    <tr>\n",
              "      <th>16165</th>\n",
              "      <td>7991</td>\n",
              "      <td>2019-02-27</td>\n",
              "      <td>09:14</td>\n",
              "      <td>바이로메드, 임상결과 지연 소식에 하락세</td>\n",
              "      <td>[이데일리 이광수 기자] 바이로메드(084990)가 주력 파이프라인인 VM202-D...</td>\n",
              "      <td>이데일리</td>\n",
              "      <td>posi_nega</td>\n",
              "      <td>stock</td>\n",
              "      <td>0</td>\n",
              "      <td>부정</td>\n",
              "    </tr>\n",
              "    <tr>\n",
              "      <th>16166</th>\n",
              "      <td>7992</td>\n",
              "      <td>2019-02-27</td>\n",
              "      <td>09:13</td>\n",
              "      <td>에이치엔티, 300억원 투자유치 소식에 상한가</td>\n",
              "      <td>[머니투데이 김사무엘 기자] 에이치엔티가 총 300억원 규모의 전환사채 발생과 유상...</td>\n",
              "      <td>머니투데이</td>\n",
              "      <td>posi_nega</td>\n",
              "      <td>에이치엔티</td>\n",
              "      <td>2</td>\n",
              "      <td>긍정</td>\n",
              "    </tr>\n",
              "    <tr>\n",
              "      <th>16167</th>\n",
              "      <td>7993</td>\n",
              "      <td>2019-02-27</td>\n",
              "      <td>09:13</td>\n",
              "      <td>에이치엔티, 300억 CB·유증 발행 소식에 상한가</td>\n",
              "      <td>[이데일리 이명철 기자] 최대주주 변경 계약을 맺은 에이치엔티(176440)가 대규...</td>\n",
              "      <td>이데일리</td>\n",
              "      <td>posi_nega</td>\n",
              "      <td>에이치엔티</td>\n",
              "      <td>2</td>\n",
              "      <td>긍정</td>\n",
              "    </tr>\n",
              "    <tr>\n",
              "      <th>16168</th>\n",
              "      <td>11899</td>\n",
              "      <td>2019-02-27</td>\n",
              "      <td>09:12</td>\n",
              "      <td>현대차그룹, 주주환원 정책 강화 기대감에 상승세</td>\n",
              "      <td>[이데일리 이슬기 기자] 현대차그룹 종목들이 주주환원 정책 강화 기대감에 주가가 일...</td>\n",
              "      <td>이데일리</td>\n",
              "      <td>posi_nega</td>\n",
              "      <td>현대차</td>\n",
              "      <td>2</td>\n",
              "      <td>긍정</td>\n",
              "    </tr>\n",
              "  </tbody>\n",
              "</table>\n",
              "<p>16169 rows × 10 columns</p>\n",
              "</div>"
            ],
            "text/plain": [
              "          id        date   time  ...    stock label pred\n",
              "0          1  2021-08-11  15:39  ...    stock     0   부정\n",
              "1          2  2021-08-11  15:36  ...     원티드랩     2   긍정\n",
              "2          3  2021-08-11  14:38  ...      가비아     1   중립\n",
              "3          4  2021-08-11  14:37  ...  한솔로지스틱스     2   긍정\n",
              "4          5  2021-08-11  14:19  ...  엔지켐생명과학     1   긍정\n",
              "...      ...         ...    ...  ...      ...   ...  ...\n",
              "16164   7990  2019-02-27  09:14  ...    stock     1   중립\n",
              "16165   7991  2019-02-27  09:14  ...    stock     0   부정\n",
              "16166   7992  2019-02-27  09:13  ...    에이치엔티     2   긍정\n",
              "16167   7993  2019-02-27  09:13  ...    에이치엔티     2   긍정\n",
              "16168  11899  2019-02-27  09:12  ...      현대차     2   긍정\n",
              "\n",
              "[16169 rows x 10 columns]"
            ]
          },
          "metadata": {
            "tags": []
          },
          "execution_count": 44
        }
      ]
    },
    {
      "cell_type": "code",
      "metadata": {
        "id": "vpWpSi47-XSy"
      },
      "source": [
        "def search_title(title):\n",
        "\n",
        "  okt = konlpy.tag.Okt()\n",
        "\n",
        "  new_sentence = okt.morphs(title, stem=True)\n",
        "  new_sentence = [ tok for tok in new_sentence if tok not in stopwords ]\n",
        "\n",
        "  vob_size = len(tokenizer.word_index)\n",
        "\n",
        "  encoded = tokenizer.texts_to_sequences([new_sentence])\n",
        "  pad_new = tf.keras.preprocessing.sequence.pad_sequences(encoded, maxlen=50)\n",
        "\n",
        "  score = model.predict(pad_new)\n",
        "  acp = np.argmax(score)\n",
        "\n",
        "  if acp == 0:\n",
        "    print('부정')\n",
        "  elif acp == 1:\n",
        "    print('중립')\n",
        "  else:\n",
        "    print('긍정')"
      ],
      "execution_count": null,
      "outputs": []
    },
    {
      "cell_type": "code",
      "metadata": {
        "colab": {
          "base_uri": "https://localhost:8080/"
        },
        "id": "muoiTJM0h5qQ",
        "outputId": "18f58408-6c27-4c18-9d77-1ac123de6bec"
      },
      "source": [
        "search_title('에이치엔티, 300억원 투자유치 소식에 상한가')"
      ],
      "execution_count": null,
      "outputs": [
        {
          "output_type": "stream",
          "text": [
            "긍정\n"
          ],
          "name": "stdout"
        }
      ]
    },
    {
      "cell_type": "code",
      "metadata": {
        "id": "WqtuAVsRpY8F"
      },
      "source": [
        "con = sqlite3.connect('./pred_db.sqlite3')\n",
        "c = con.cursor()\n",
        "add_acp.to_sql('article', con, index=False)\n",
        "c.close()"
      ],
      "execution_count": null,
      "outputs": []
    },
    {
      "cell_type": "code",
      "metadata": {
        "id": "rWhCwTf3vGJH"
      },
      "source": [
        "pickle.dump(stopwords, open('./stopwords.pkl', 'wb'))\n",
        "pickle.dump(tokenizer, open('./tokenizer.pkl', 'wb'))\n",
        "model.save('./posnev.h5')"
      ],
      "execution_count": null,
      "outputs": []
    },
    {
      "cell_type": "code",
      "metadata": {
        "id": "JRy6ulJT5iMs"
      },
      "source": [
        ""
      ],
      "execution_count": null,
      "outputs": []
    }
  ]
}