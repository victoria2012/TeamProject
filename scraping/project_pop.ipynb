{
  "nbformat": 4,
  "nbformat_minor": 0,
  "metadata": {
    "colab": {
      "name": "project_pop.ipynb",
      "provenance": [],
      "collapsed_sections": []
    },
    "kernelspec": {
      "name": "python3",
      "display_name": "Python 3"
    },
    "language_info": {
      "name": "python"
    }
  },
  "cells": [
    {
      "cell_type": "code",
      "metadata": {
        "colab": {
          "base_uri": "https://localhost:8080/"
        },
        "id": "BuPJQQBu5CtW",
        "outputId": "9769fc73-e167-46d3-b574-20e556ca596c"
      },
      "source": [
        "!pip install -U finance-datareader\n",
        "import FinanceDataReader as fdr\n",
        "df_krx = fdr.StockListing('KRX')"
      ],
      "execution_count": null,
      "outputs": [
        {
          "output_type": "stream",
          "text": [
            "Collecting finance-datareader\n",
            "  Downloading finance_datareader-0.9.31-py3-none-any.whl (17 kB)\n",
            "Requirement already satisfied: lxml in /usr/local/lib/python3.7/dist-packages (from finance-datareader) (4.2.6)\n",
            "Requirement already satisfied: pandas>=0.19.2 in /usr/local/lib/python3.7/dist-packages (from finance-datareader) (1.1.5)\n",
            "Requirement already satisfied: tqdm in /usr/local/lib/python3.7/dist-packages (from finance-datareader) (4.41.1)\n",
            "Collecting requests-file\n",
            "  Downloading requests_file-1.5.1-py2.py3-none-any.whl (3.7 kB)\n",
            "Requirement already satisfied: requests>=2.3.0 in /usr/local/lib/python3.7/dist-packages (from finance-datareader) (2.23.0)\n",
            "Requirement already satisfied: pytz>=2017.2 in /usr/local/lib/python3.7/dist-packages (from pandas>=0.19.2->finance-datareader) (2018.9)\n",
            "Requirement already satisfied: numpy>=1.15.4 in /usr/local/lib/python3.7/dist-packages (from pandas>=0.19.2->finance-datareader) (1.19.5)\n",
            "Requirement already satisfied: python-dateutil>=2.7.3 in /usr/local/lib/python3.7/dist-packages (from pandas>=0.19.2->finance-datareader) (2.8.1)\n",
            "Requirement already satisfied: six>=1.5 in /usr/local/lib/python3.7/dist-packages (from python-dateutil>=2.7.3->pandas>=0.19.2->finance-datareader) (1.15.0)\n",
            "Requirement already satisfied: certifi>=2017.4.17 in /usr/local/lib/python3.7/dist-packages (from requests>=2.3.0->finance-datareader) (2021.5.30)\n",
            "Requirement already satisfied: idna<3,>=2.5 in /usr/local/lib/python3.7/dist-packages (from requests>=2.3.0->finance-datareader) (2.10)\n",
            "Requirement already satisfied: urllib3!=1.25.0,!=1.25.1,<1.26,>=1.21.1 in /usr/local/lib/python3.7/dist-packages (from requests>=2.3.0->finance-datareader) (1.24.3)\n",
            "Requirement already satisfied: chardet<4,>=3.0.2 in /usr/local/lib/python3.7/dist-packages (from requests>=2.3.0->finance-datareader) (3.0.4)\n",
            "Installing collected packages: requests-file, finance-datareader\n",
            "Successfully installed finance-datareader-0.9.31 requests-file-1.5.1\n"
          ],
          "name": "stdout"
        }
      ]
    },
    {
      "cell_type": "code",
      "metadata": {
        "colab": {
          "base_uri": "https://localhost:8080/"
        },
        "id": "7Ref5ZY7ab72",
        "outputId": "3c3b5a53-0612-4742-dfbd-c608d8150244"
      },
      "source": [
        "import sqlite3\n",
        "conn = sqlite3.connect('./db.stock')\n",
        "c = conn.cursor()\n",
        "c.execute(\"CREATE TABLE IF NOT EXISTS article (id INTEGER PRIMARY KEY AUTOINCREMENT, date TEXT, time TEXT, title TEXT, press TEXT , stock TEXT, posi_nega TEXT)\")"
      ],
      "execution_count": null,
      "outputs": [
        {
          "output_type": "execute_result",
          "data": {
            "text/plain": [
              "<sqlite3.Cursor at 0x7f2c2c1065e0>"
            ]
          },
          "metadata": {
            "tags": []
          },
          "execution_count": 2
        }
      ]
    },
    {
      "cell_type": "code",
      "metadata": {
        "id": "VxEvZodO3NTd"
      },
      "source": [
        "from bs4 import BeautifulSoup\n",
        "import requests\n",
        "import pandas as pd\n",
        "\n",
        "# https://jsikim1.tistory.com/143\n",
        "from datetime import datetime , timedelta\n",
        "from dateutil.relativedelta import relativedelta \n",
        "\n",
        "now = datetime.now()\n",
        "gap = now - relativedelta(years=1)\n",
        "# gap = now - timedelta(days=1)\n",
        "\n",
        "now = str(now)[0:10]\n",
        "gap = str(gap)[0:10]\n",
        "\n",
        "dt_index = pd.date_range(start=gap, end=now)\n",
        "dt_list = dt_index.strftime(\"%Y%m%d\").tolist()\n",
        "\n",
        "for j in dt_list:\n",
        "\n",
        "  date_cnt_uri = 'https://finance.naver.com/news/news_list.nhn?mode=LSS3D&section_id=101&section_id2=258&section_id3=402&date='+j+'&page=100'\n",
        "  date_cnt_target = date_cnt_uri\n",
        "  date_cnt_req  = requests.get(date_cnt_target)\n",
        "  date_cnt_soup = BeautifulSoup(date_cnt_req.content,'html.parser')\n",
        "  date_cnt_page = int(date_cnt_soup.select('td.on > a ')[0].get_text())\n",
        "  \n",
        "  uri = 'https://finance.naver.com/news/news_list.nhn?mode=LSS3D&section_id=101&section_id2=258&section_id3=402&date='+j+'&page='\n",
        "\n",
        "  for page in range(1,date_cnt_page+1):    \n",
        "\n",
        "    target = uri+str(page)\n",
        "    req  = requests.get(target)\n",
        "    soup = BeautifulSoup(req.content,'html.parser')\n",
        "    datas = soup.select('#contentarea_left > ul.realtimeNewsList')\n",
        "\n",
        "    for content in datas:\n",
        "      \n",
        "      titles = content.select(' li > dl > dd.articleSubject')\n",
        "      article_date =  content.select('li > dl > dd.articleSummary > span.wdate ')\n",
        "      article_press =  content.select('li > dl > dd.articleSummary > span.press ') \n",
        "\n",
        "      article_sum = list()\n",
        "\n",
        "      for i in range(0,len(titles)-1):\n",
        "        article_data = list()\n",
        "        \n",
        "        data_date = article_date[i].get_text(\" \",strip=True)[0:10]\n",
        "        data_time = article_date[i].get_text(\" \",strip=True)[11:17]\n",
        "        data_press = article_press[i].get_text(\" \",strip=True)\n",
        "        data_title = titles[i].get_text(\" \",strip=True)\n",
        "\n",
        "        c.execute(\"INSERT INTO article( date , time , press , title, stock , posi_nega ) VALUES(?,?,?,?,?,?)\",( data_date,data_time,data_press,data_title,'stock','posi_nega'))\n",
        "        conn.commit()\n",
        "\n",
        "c.close()"
      ],
      "execution_count": null,
      "outputs": []
    },
    {
      "cell_type": "code",
      "metadata": {
        "id": "iYeFjABVjNdS"
      },
      "source": [
        "conn = sqlite3.connect('/content/db.stock')\n",
        "\n",
        "c_title = conn.cursor()\n",
        "c_id = conn.cursor()\n",
        "c_update = conn.cursor()\n",
        "\n",
        "c_title.execute(\"SELECT title FROM article \")\n",
        "c_id.execute(\"SELECT * FROM article \")\n",
        "\n",
        "sql_title = c_title.fetchall()\n",
        "sql_id = c_id.fetchall()\n",
        "\n",
        "title_list = [list[0] for list in sql_title ]\n",
        "id_list = [list[0] for list in sql_id ]\n",
        "\n",
        "df_krx_list = df_krx['Name'].tolist()\n",
        "\n",
        "for k in range(0,len(title_list)):\n",
        "  for l in range(0,int(len(title_list[k].split()))):\n",
        "    keyword = title_list[k].split()[l]\n",
        "    if keyword in df_krx_list:\n",
        "      sql_update = 'update article set stock = \"' + keyword +'\" where id = ' + str(sql_id[k][0])\n",
        "      c_update.execute(sql_update)\n",
        "      conn.commit()"
      ],
      "execution_count": null,
      "outputs": []
    },
    {
      "cell_type": "code",
      "metadata": {
        "colab": {
          "base_uri": "https://localhost:8080/",
          "height": 414
        },
        "id": "od1PQUw0Zat4",
        "outputId": "22d9a363-3d34-49ab-bcae-854d5235ece4"
      },
      "source": [
        "conn = sqlite3.connect('/content/db.stock')\n",
        "c_select = conn.cursor()\n",
        "final = c_select.execute(\"SELECT * FROM article where stock != 'stock' order by date desc , time desc\")\n",
        "df = pd.DataFrame(final)\n",
        "df.columns= ['id', 'date' , 'time' , 'title', 'press' ,'stock' , 'posi_nega' ]\n",
        "df"
      ],
      "execution_count": null,
      "outputs": [
        {
          "output_type": "execute_result",
          "data": {
            "text/html": [
              "<div>\n",
              "<style scoped>\n",
              "    .dataframe tbody tr th:only-of-type {\n",
              "        vertical-align: middle;\n",
              "    }\n",
              "\n",
              "    .dataframe tbody tr th {\n",
              "        vertical-align: top;\n",
              "    }\n",
              "\n",
              "    .dataframe thead th {\n",
              "        text-align: right;\n",
              "    }\n",
              "</style>\n",
              "<table border=\"1\" class=\"dataframe\">\n",
              "  <thead>\n",
              "    <tr style=\"text-align: right;\">\n",
              "      <th></th>\n",
              "      <th>id</th>\n",
              "      <th>date</th>\n",
              "      <th>time</th>\n",
              "      <th>title</th>\n",
              "      <th>press</th>\n",
              "      <th>stock</th>\n",
              "      <th>posi_nega</th>\n",
              "    </tr>\n",
              "  </thead>\n",
              "  <tbody>\n",
              "    <tr>\n",
              "      <th>0</th>\n",
              "      <td>27590</td>\n",
              "      <td>2021-08-12</td>\n",
              "      <td>11:38</td>\n",
              "      <td>크래프톤 충격에 갈 곳 잃은 게임주···엔씨소프트 목표주가 뚝</td>\n",
              "      <td>아시아경제</td>\n",
              "      <td>크래프톤</td>\n",
              "      <td>posi_nega</td>\n",
              "    </tr>\n",
              "    <tr>\n",
              "      <th>1</th>\n",
              "      <td>27605</td>\n",
              "      <td>2021-08-12</td>\n",
              "      <td>10:20</td>\n",
              "      <td>[특징주]메모리 반도체 우려에 원익IPS 등 장비주도 약세</td>\n",
              "      <td>파이낸셜뉴스</td>\n",
              "      <td>원익IPS</td>\n",
              "      <td>posi_nega</td>\n",
              "    </tr>\n",
              "    <tr>\n",
              "      <th>2</th>\n",
              "      <td>27607</td>\n",
              "      <td>2021-08-12</td>\n",
              "      <td>10:08</td>\n",
              "      <td>베스파 신작 '타임디펜더스', 24일 일본 정식 출시 확정</td>\n",
              "      <td>파이낸셜뉴스</td>\n",
              "      <td>베스파</td>\n",
              "      <td>posi_nega</td>\n",
              "    </tr>\n",
              "    <tr>\n",
              "      <th>3</th>\n",
              "      <td>27608</td>\n",
              "      <td>2021-08-12</td>\n",
              "      <td>09:54</td>\n",
              "      <td>위지윅스튜디오 자회사 위즈온센, 中 ATW와 파트너십 계약</td>\n",
              "      <td>파이낸셜뉴스</td>\n",
              "      <td>위지윅스튜디오</td>\n",
              "      <td>posi_nega</td>\n",
              "    </tr>\n",
              "    <tr>\n",
              "      <th>4</th>\n",
              "      <td>27614</td>\n",
              "      <td>2021-08-12</td>\n",
              "      <td>09:28</td>\n",
              "      <td>[특징주] MSCI 편입 소식에 SKITE, 에코프로비엠 급등</td>\n",
              "      <td>머니투데이</td>\n",
              "      <td>에코프로비엠</td>\n",
              "      <td>posi_nega</td>\n",
              "    </tr>\n",
              "    <tr>\n",
              "      <th>...</th>\n",
              "      <td>...</td>\n",
              "      <td>...</td>\n",
              "      <td>...</td>\n",
              "      <td>...</td>\n",
              "      <td>...</td>\n",
              "      <td>...</td>\n",
              "      <td>...</td>\n",
              "    </tr>\n",
              "    <tr>\n",
              "      <th>2993</th>\n",
              "      <td>62</td>\n",
              "      <td>2020-08-12</td>\n",
              "      <td>10:02</td>\n",
              "      <td>한국증권금융 꿈나눔재단, 어려움 겪는 청소년 대상 장학금 지원</td>\n",
              "      <td>매일경제</td>\n",
              "      <td>대상</td>\n",
              "      <td>posi_nega</td>\n",
              "    </tr>\n",
              "    <tr>\n",
              "      <th>2994</th>\n",
              "      <td>66</td>\n",
              "      <td>2020-08-12</td>\n",
              "      <td>09:40</td>\n",
              "      <td>셀트리온 \"국내 업체와 함께 개발한 코로나19 진단키트 美시장 출시\"</td>\n",
              "      <td>파이낸셜뉴스</td>\n",
              "      <td>셀트리온</td>\n",
              "      <td>posi_nega</td>\n",
              "    </tr>\n",
              "    <tr>\n",
              "      <th>2995</th>\n",
              "      <td>68</td>\n",
              "      <td>2020-08-12</td>\n",
              "      <td>09:34</td>\n",
              "      <td>[특징주]SK디스커버리, SK바이오사이언스 백신 생산 시설 증설 소식에 강세</td>\n",
              "      <td>파이낸셜뉴스</td>\n",
              "      <td>SK바이오사이언스</td>\n",
              "      <td>posi_nega</td>\n",
              "    </tr>\n",
              "    <tr>\n",
              "      <th>2996</th>\n",
              "      <td>86</td>\n",
              "      <td>2020-08-12</td>\n",
              "      <td>08:22</td>\n",
              "      <td>삼성바이오로직스 新공장 기대↑…목표가 '100만원'-KTB</td>\n",
              "      <td>파이낸셜뉴스</td>\n",
              "      <td>삼성바이오로직스</td>\n",
              "      <td>posi_nega</td>\n",
              "    </tr>\n",
              "    <tr>\n",
              "      <th>2997</th>\n",
              "      <td>90</td>\n",
              "      <td>2020-08-12</td>\n",
              "      <td>08:17</td>\n",
              "      <td>컴투스 '서머너즈워' 효과 최대 실적 목표가↑-KB</td>\n",
              "      <td>아시아경제</td>\n",
              "      <td>컴투스</td>\n",
              "      <td>posi_nega</td>\n",
              "    </tr>\n",
              "  </tbody>\n",
              "</table>\n",
              "<p>2998 rows × 7 columns</p>\n",
              "</div>"
            ],
            "text/plain": [
              "         id        date   time  ...   press      stock  posi_nega\n",
              "0     27590  2021-08-12  11:38  ...   아시아경제       크래프톤  posi_nega\n",
              "1     27605  2021-08-12  10:20  ...  파이낸셜뉴스      원익IPS  posi_nega\n",
              "2     27607  2021-08-12  10:08  ...  파이낸셜뉴스        베스파  posi_nega\n",
              "3     27608  2021-08-12  09:54  ...  파이낸셜뉴스    위지윅스튜디오  posi_nega\n",
              "4     27614  2021-08-12  09:28  ...   머니투데이     에코프로비엠  posi_nega\n",
              "...     ...         ...    ...  ...     ...        ...        ...\n",
              "2993     62  2020-08-12  10:02  ...    매일경제         대상  posi_nega\n",
              "2994     66  2020-08-12  09:40  ...  파이낸셜뉴스       셀트리온  posi_nega\n",
              "2995     68  2020-08-12  09:34  ...  파이낸셜뉴스  SK바이오사이언스  posi_nega\n",
              "2996     86  2020-08-12  08:22  ...  파이낸셜뉴스   삼성바이오로직스  posi_nega\n",
              "2997     90  2020-08-12  08:17  ...   아시아경제        컴투스  posi_nega\n",
              "\n",
              "[2998 rows x 7 columns]"
            ]
          },
          "metadata": {
            "tags": []
          },
          "execution_count": 7
        }
      ]
    }
  ]
}