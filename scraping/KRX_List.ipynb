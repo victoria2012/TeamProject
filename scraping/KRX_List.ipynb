{
  "nbformat": 4,
  "nbformat_minor": 0,
  "metadata": {
    "colab": {
      "name": "KRX_List.ipynb",
      "provenance": [],
      "collapsed_sections": [],
      "authorship_tag": "ABX9TyP5h3Q2pYGOyHDbZsrD1Jph"
    },
    "kernelspec": {
      "name": "python3",
      "display_name": "Python 3"
    },
    "language_info": {
      "name": "python"
    }
  },
  "cells": [
    {
      "cell_type": "markdown",
      "metadata": {
        "id": "ueutLrJX9sDY"
      },
      "source": [
        "# 상장기업 리스트 출력\n",
        " - 뉴스 내 상장기업 매칭시 사용\n"
      ]
    },
    {
      "cell_type": "markdown",
      "metadata": {
        "id": "Hvk0jWUM-iko"
      },
      "source": [
        "### 필요한 라이브러리 설치"
      ]
    },
    {
      "cell_type": "code",
      "metadata": {
        "colab": {
          "base_uri": "https://localhost:8080/"
        },
        "id": "JQl0WSKx82AN",
        "outputId": "01572d73-7ab6-492f-e13a-5a1b8e0b817b"
      },
      "source": [
        "# FinanceDataReader 설치\n",
        "!pip install -U finance-datareader"
      ],
      "execution_count": null,
      "outputs": [
        {
          "output_type": "stream",
          "text": [
            "Collecting finance-datareader\n",
            "  Downloading finance_datareader-0.9.31-py3-none-any.whl (17 kB)\n",
            "Requirement already satisfied: requests>=2.3.0 in /usr/local/lib/python3.7/dist-packages (from finance-datareader) (2.23.0)\n",
            "Requirement already satisfied: lxml in /usr/local/lib/python3.7/dist-packages (from finance-datareader) (4.2.6)\n",
            "Collecting requests-file\n",
            "  Downloading requests_file-1.5.1-py2.py3-none-any.whl (3.7 kB)\n",
            "Requirement already satisfied: tqdm in /usr/local/lib/python3.7/dist-packages (from finance-datareader) (4.41.1)\n",
            "Requirement already satisfied: pandas>=0.19.2 in /usr/local/lib/python3.7/dist-packages (from finance-datareader) (1.1.5)\n",
            "Requirement already satisfied: numpy>=1.15.4 in /usr/local/lib/python3.7/dist-packages (from pandas>=0.19.2->finance-datareader) (1.19.5)\n",
            "Requirement already satisfied: python-dateutil>=2.7.3 in /usr/local/lib/python3.7/dist-packages (from pandas>=0.19.2->finance-datareader) (2.8.1)\n",
            "Requirement already satisfied: pytz>=2017.2 in /usr/local/lib/python3.7/dist-packages (from pandas>=0.19.2->finance-datareader) (2018.9)\n",
            "Requirement already satisfied: six>=1.5 in /usr/local/lib/python3.7/dist-packages (from python-dateutil>=2.7.3->pandas>=0.19.2->finance-datareader) (1.15.0)\n",
            "Requirement already satisfied: idna<3,>=2.5 in /usr/local/lib/python3.7/dist-packages (from requests>=2.3.0->finance-datareader) (2.10)\n",
            "Requirement already satisfied: certifi>=2017.4.17 in /usr/local/lib/python3.7/dist-packages (from requests>=2.3.0->finance-datareader) (2021.5.30)\n",
            "Requirement already satisfied: chardet<4,>=3.0.2 in /usr/local/lib/python3.7/dist-packages (from requests>=2.3.0->finance-datareader) (3.0.4)\n",
            "Requirement already satisfied: urllib3!=1.25.0,!=1.25.1,<1.26,>=1.21.1 in /usr/local/lib/python3.7/dist-packages (from requests>=2.3.0->finance-datareader) (1.24.3)\n",
            "Installing collected packages: requests-file, finance-datareader\n",
            "Successfully installed finance-datareader-0.9.31 requests-file-1.5.1\n"
          ],
          "name": "stdout"
        }
      ]
    },
    {
      "cell_type": "code",
      "metadata": {
        "colab": {
          "base_uri": "https://localhost:8080/",
          "height": 35
        },
        "id": "jwiLKdu89rRc",
        "outputId": "f1ae26ec-3503-4978-f733-7a8f29f7dfee"
      },
      "source": [
        "# FinanceDataReader 를 fdr 별칭으로 불러옴\n",
        "# 라이브러리의 version을 확인 \n",
        "import FinanceDataReader as fdr\n",
        "fdr.__version__"
      ],
      "execution_count": null,
      "outputs": [
        {
          "output_type": "execute_result",
          "data": {
            "application/vnd.google.colaboratory.intrinsic+json": {
              "type": "string"
            },
            "text/plain": [
              "'0.9.31'"
            ]
          },
          "metadata": {
            "tags": []
          },
          "execution_count": 2
        }
      ]
    },
    {
      "cell_type": "code",
      "metadata": {
        "id": "ci3Y5zZR-LNm"
      },
      "source": [
        "# 데이터 분석을 위해 pandas 불러오기\n",
        "import pandas as pd"
      ],
      "execution_count": null,
      "outputs": []
    },
    {
      "cell_type": "markdown",
      "metadata": {
        "id": "Cxw9kvkq-dHO"
      },
      "source": [
        "### 한국거래소 상장종목 전체 가져오기"
      ]
    },
    {
      "cell_type": "code",
      "metadata": {
        "id": "ZSqepTZy-RBX"
      },
      "source": [
        "# 참고: 도움말을 보고자 할때는 ? 를 사용하고 소스코드를 볼 때는 ??를 사용\n",
        "# fdr.StockListing?\n",
        "# fdr.StockListing??"
      ],
      "execution_count": null,
      "outputs": []
    },
    {
      "cell_type": "code",
      "metadata": {
        "id": "jPPJ7QZN-5F0"
      },
      "source": [
        "# 메뉴얼\n",
        "# KRX : KRX 종목 전체\n",
        "# KOSPI : KOSPI 종목\n",
        "# KOSDAQ : KOSDAQ 종목\n",
        "# KONEX : KONEX 종목\n",
        "# NASDAQ : 나스닥 종목\n",
        "# NYSE : 뉴욕증권거래소 종목\n",
        "# SP500 : S&P500 종목\n",
        "df_krx = fdr.StockListing(\"KRX\")"
      ],
      "execution_count": null,
      "outputs": []
    },
    {
      "cell_type": "code",
      "metadata": {
        "colab": {
          "base_uri": "https://localhost:8080/",
          "height": 538
        },
        "id": "KKrHs2mj_RrE",
        "outputId": "e9f4f81b-0d78-4eb1-9f1f-40c6815d6afa"
      },
      "source": [
        "# 한국거래소 상장종목 전체 가져오기\n",
        "df_krx"
      ],
      "execution_count": null,
      "outputs": [
        {
          "output_type": "execute_result",
          "data": {
            "text/html": [
              "<div>\n",
              "<style scoped>\n",
              "    .dataframe tbody tr th:only-of-type {\n",
              "        vertical-align: middle;\n",
              "    }\n",
              "\n",
              "    .dataframe tbody tr th {\n",
              "        vertical-align: top;\n",
              "    }\n",
              "\n",
              "    .dataframe thead th {\n",
              "        text-align: right;\n",
              "    }\n",
              "</style>\n",
              "<table border=\"1\" class=\"dataframe\">\n",
              "  <thead>\n",
              "    <tr style=\"text-align: right;\">\n",
              "      <th></th>\n",
              "      <th>Symbol</th>\n",
              "      <th>Market</th>\n",
              "      <th>Name</th>\n",
              "      <th>Sector</th>\n",
              "      <th>Industry</th>\n",
              "      <th>ListingDate</th>\n",
              "      <th>SettleMonth</th>\n",
              "      <th>Representative</th>\n",
              "      <th>HomePage</th>\n",
              "      <th>Region</th>\n",
              "    </tr>\n",
              "  </thead>\n",
              "  <tbody>\n",
              "    <tr>\n",
              "      <th>0</th>\n",
              "      <td>060310</td>\n",
              "      <td>KOSDAQ</td>\n",
              "      <td>3S</td>\n",
              "      <td>전자부품 제조업</td>\n",
              "      <td>반도체 웨이퍼 캐리어</td>\n",
              "      <td>2002-04-23</td>\n",
              "      <td>03월</td>\n",
              "      <td>박종익, 김세완 (각자 대표이사)</td>\n",
              "      <td>http://www.3sref.com</td>\n",
              "      <td>서울특별시</td>\n",
              "    </tr>\n",
              "    <tr>\n",
              "      <th>1</th>\n",
              "      <td>095570</td>\n",
              "      <td>KOSPI</td>\n",
              "      <td>AJ네트웍스</td>\n",
              "      <td>산업용 기계 및 장비 임대업</td>\n",
              "      <td>렌탈(파렛트, OA장비, 건설장비)</td>\n",
              "      <td>2015-08-21</td>\n",
              "      <td>12월</td>\n",
              "      <td>박대현</td>\n",
              "      <td>http://www.ajnet.co.kr</td>\n",
              "      <td>서울특별시</td>\n",
              "    </tr>\n",
              "    <tr>\n",
              "      <th>2</th>\n",
              "      <td>006840</td>\n",
              "      <td>KOSPI</td>\n",
              "      <td>AK홀딩스</td>\n",
              "      <td>기타 금융업</td>\n",
              "      <td>지주사업</td>\n",
              "      <td>1999-08-11</td>\n",
              "      <td>12월</td>\n",
              "      <td>채형석, 이석주(각자 대표이사)</td>\n",
              "      <td>http://www.aekyunggroup.co.kr</td>\n",
              "      <td>서울특별시</td>\n",
              "    </tr>\n",
              "    <tr>\n",
              "      <th>3</th>\n",
              "      <td>054620</td>\n",
              "      <td>KOSDAQ</td>\n",
              "      <td>APS홀딩스</td>\n",
              "      <td>기타 금융업</td>\n",
              "      <td>인터넷 트래픽 솔루션</td>\n",
              "      <td>2001-12-04</td>\n",
              "      <td>12월</td>\n",
              "      <td>정기로</td>\n",
              "      <td>http://www.apsholdings.co.kr</td>\n",
              "      <td>경기도</td>\n",
              "    </tr>\n",
              "    <tr>\n",
              "      <th>4</th>\n",
              "      <td>265520</td>\n",
              "      <td>KOSDAQ</td>\n",
              "      <td>AP시스템</td>\n",
              "      <td>특수 목적용 기계 제조업</td>\n",
              "      <td>디스플레이 제조 장비</td>\n",
              "      <td>2017-04-07</td>\n",
              "      <td>12월</td>\n",
              "      <td>김영주</td>\n",
              "      <td>http://www.apsystems.co.kr</td>\n",
              "      <td>경기도</td>\n",
              "    </tr>\n",
              "    <tr>\n",
              "      <th>...</th>\n",
              "      <td>...</td>\n",
              "      <td>...</td>\n",
              "      <td>...</td>\n",
              "      <td>...</td>\n",
              "      <td>...</td>\n",
              "      <td>...</td>\n",
              "      <td>...</td>\n",
              "      <td>...</td>\n",
              "      <td>...</td>\n",
              "      <td>...</td>\n",
              "    </tr>\n",
              "    <tr>\n",
              "      <th>7164</th>\n",
              "      <td>000547</td>\n",
              "      <td>KOSPI</td>\n",
              "      <td>흥국화재2우B</td>\n",
              "      <td>NaN</td>\n",
              "      <td>NaN</td>\n",
              "      <td>NaT</td>\n",
              "      <td>NaN</td>\n",
              "      <td>NaN</td>\n",
              "      <td>NaN</td>\n",
              "      <td>NaN</td>\n",
              "    </tr>\n",
              "    <tr>\n",
              "      <th>7165</th>\n",
              "      <td>000545</td>\n",
              "      <td>KOSPI</td>\n",
              "      <td>흥국화재우</td>\n",
              "      <td>NaN</td>\n",
              "      <td>NaN</td>\n",
              "      <td>NaT</td>\n",
              "      <td>NaN</td>\n",
              "      <td>NaN</td>\n",
              "      <td>NaN</td>\n",
              "      <td>NaN</td>\n",
              "    </tr>\n",
              "    <tr>\n",
              "      <th>7166</th>\n",
              "      <td>003280</td>\n",
              "      <td>KOSPI</td>\n",
              "      <td>흥아해운</td>\n",
              "      <td>해상 운송업</td>\n",
              "      <td>외항화물운송업(케미컬탱커)</td>\n",
              "      <td>1976-06-29</td>\n",
              "      <td>12월</td>\n",
              "      <td>이환구</td>\n",
              "      <td>http://www.heung-a.com</td>\n",
              "      <td>서울특별시</td>\n",
              "    </tr>\n",
              "    <tr>\n",
              "      <th>7167</th>\n",
              "      <td>037440</td>\n",
              "      <td>KOSDAQ</td>\n",
              "      <td>희림</td>\n",
              "      <td>건축기술, 엔지니어링 및 관련 기술 서비스업</td>\n",
              "      <td>설계 및 감리용역</td>\n",
              "      <td>2000-02-03</td>\n",
              "      <td>12월</td>\n",
              "      <td>정영균, 이목운, 허철호 (각자대표)</td>\n",
              "      <td>http://www.heerim.com</td>\n",
              "      <td>서울특별시</td>\n",
              "    </tr>\n",
              "    <tr>\n",
              "      <th>7168</th>\n",
              "      <td>238490</td>\n",
              "      <td>KOSDAQ</td>\n",
              "      <td>힘스</td>\n",
              "      <td>특수 목적용 기계 제조업</td>\n",
              "      <td>OLED Mask 인장기, OLED Mask 검사기 등</td>\n",
              "      <td>2017-07-20</td>\n",
              "      <td>12월</td>\n",
              "      <td>김주환</td>\n",
              "      <td>http://www.hims.co.kr</td>\n",
              "      <td>인천광역시</td>\n",
              "    </tr>\n",
              "  </tbody>\n",
              "</table>\n",
              "<p>7169 rows × 10 columns</p>\n",
              "</div>"
            ],
            "text/plain": [
              "      Symbol  Market  ...                       HomePage Region\n",
              "0     060310  KOSDAQ  ...           http://www.3sref.com  서울특별시\n",
              "1     095570   KOSPI  ...         http://www.ajnet.co.kr  서울특별시\n",
              "2     006840   KOSPI  ...  http://www.aekyunggroup.co.kr  서울특별시\n",
              "3     054620  KOSDAQ  ...   http://www.apsholdings.co.kr    경기도\n",
              "4     265520  KOSDAQ  ...     http://www.apsystems.co.kr    경기도\n",
              "...      ...     ...  ...                            ...    ...\n",
              "7164  000547   KOSPI  ...                            NaN    NaN\n",
              "7165  000545   KOSPI  ...                            NaN    NaN\n",
              "7166  003280   KOSPI  ...         http://www.heung-a.com  서울특별시\n",
              "7167  037440  KOSDAQ  ...          http://www.heerim.com  서울특별시\n",
              "7168  238490  KOSDAQ  ...          http://www.hims.co.kr  인천광역시\n",
              "\n",
              "[7169 rows x 10 columns]"
            ]
          },
          "metadata": {
            "tags": []
          },
          "execution_count": 6
        }
      ]
    },
    {
      "cell_type": "code",
      "metadata": {
        "id": "4HLUvaZj_fp-"
      },
      "source": [
        "# to_csv로 Dataframe을 CSV 파일로 저장\n",
        "# df_krx.to_csv(\"./sample_data/krx.csv\", index=False)"
      ],
      "execution_count": null,
      "outputs": []
    }
  ]
}