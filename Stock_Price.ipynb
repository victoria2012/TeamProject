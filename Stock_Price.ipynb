{
  "nbformat": 4,
  "nbformat_minor": 0,
  "metadata": {
    "colab": {
      "name": "Stock_Price.ipynb",
      "provenance": [],
      "collapsed_sections": [],
      "authorship_tag": "ABX9TyPT4ECKgofSzwexhWZpKiq6"
    },
    "kernelspec": {
      "name": "python3",
      "display_name": "Python 3"
    },
    "language_info": {
      "name": "python"
    }
  },
  "cells": [
    {
      "cell_type": "markdown",
      "metadata": {
        "id": "7Cq4EwFUJ8SY"
      },
      "source": [
        "#  개별 종목의 일별시세 데이터 출력"
      ]
    },
    {
      "cell_type": "markdown",
      "metadata": {
        "id": "MRlIXWhwL7vz"
      },
      "source": [
        "### 라이브러리 설치 및 불러오기"
      ]
    },
    {
      "cell_type": "code",
      "metadata": {
        "colab": {
          "base_uri": "https://localhost:8080/"
        },
        "id": "xgN3AKjiABsu",
        "outputId": "c126289a-fc26-490a-a7bb-e6081ee13008"
      },
      "source": [
        "!pip install -U finance-datareader"
      ],
      "execution_count": null,
      "outputs": [
        {
          "output_type": "stream",
          "text": [
            "Collecting finance-datareader\n",
            "  Downloading finance_datareader-0.9.31-py3-none-any.whl (17 kB)\n",
            "Collecting requests-file\n",
            "  Downloading requests_file-1.5.1-py2.py3-none-any.whl (3.7 kB)\n",
            "Requirement already satisfied: pandas>=0.19.2 in /usr/local/lib/python3.7/dist-packages (from finance-datareader) (1.1.5)\n",
            "Requirement already satisfied: requests>=2.3.0 in /usr/local/lib/python3.7/dist-packages (from finance-datareader) (2.23.0)\n",
            "Requirement already satisfied: lxml in /usr/local/lib/python3.7/dist-packages (from finance-datareader) (4.2.6)\n",
            "Requirement already satisfied: tqdm in /usr/local/lib/python3.7/dist-packages (from finance-datareader) (4.41.1)\n",
            "Requirement already satisfied: python-dateutil>=2.7.3 in /usr/local/lib/python3.7/dist-packages (from pandas>=0.19.2->finance-datareader) (2.8.1)\n",
            "Requirement already satisfied: pytz>=2017.2 in /usr/local/lib/python3.7/dist-packages (from pandas>=0.19.2->finance-datareader) (2018.9)\n",
            "Requirement already satisfied: numpy>=1.15.4 in /usr/local/lib/python3.7/dist-packages (from pandas>=0.19.2->finance-datareader) (1.19.5)\n",
            "Requirement already satisfied: six>=1.5 in /usr/local/lib/python3.7/dist-packages (from python-dateutil>=2.7.3->pandas>=0.19.2->finance-datareader) (1.15.0)\n",
            "Requirement already satisfied: chardet<4,>=3.0.2 in /usr/local/lib/python3.7/dist-packages (from requests>=2.3.0->finance-datareader) (3.0.4)\n",
            "Requirement already satisfied: idna<3,>=2.5 in /usr/local/lib/python3.7/dist-packages (from requests>=2.3.0->finance-datareader) (2.10)\n",
            "Requirement already satisfied: certifi>=2017.4.17 in /usr/local/lib/python3.7/dist-packages (from requests>=2.3.0->finance-datareader) (2021.5.30)\n",
            "Requirement already satisfied: urllib3!=1.25.0,!=1.25.1,<1.26,>=1.21.1 in /usr/local/lib/python3.7/dist-packages (from requests>=2.3.0->finance-datareader) (1.24.3)\n",
            "Installing collected packages: requests-file, finance-datareader\n",
            "Successfully installed finance-datareader-0.9.31 requests-file-1.5.1\n"
          ],
          "name": "stdout"
        }
      ]
    },
    {
      "cell_type": "code",
      "metadata": {
        "id": "sMI8g9wmJzQn"
      },
      "source": [
        "import FinanceDataReader as fdr\n",
        "import pandas as pd"
      ],
      "execution_count": null,
      "outputs": []
    },
    {
      "cell_type": "markdown",
      "metadata": {
        "id": "xkvAvCDiKUx3"
      },
      "source": [
        "### 종목코드로 종목을 찾아 일별 시세 수집"
      ]
    },
    {
      "cell_type": "code",
      "metadata": {
        "colab": {
          "base_uri": "https://localhost:8080/",
          "height": 450
        },
        "id": "U3_rJ7WKKVLs",
        "outputId": "41cc4a70-851c-43e3-f644-2291f589753f"
      },
      "source": [
        "# 삼성전자, 2020년 8월 1일 ~ 2021년 일별 시세 받아오기\n",
        "# 삼성전자의 종목 번호 '005930'\n",
        "\n",
        "price = fdr.DataReader('005930', \"20200801\", \"2022\")   # 연도만 기입할 경우, 해당 연도 이전 12월 31일까지 출력됨. 현재까지 시세를 받고 싶다면 2022 입력\n",
        "price"
      ],
      "execution_count": null,
      "outputs": [
        {
          "output_type": "execute_result",
          "data": {
            "text/html": [
              "<div>\n",
              "<style scoped>\n",
              "    .dataframe tbody tr th:only-of-type {\n",
              "        vertical-align: middle;\n",
              "    }\n",
              "\n",
              "    .dataframe tbody tr th {\n",
              "        vertical-align: top;\n",
              "    }\n",
              "\n",
              "    .dataframe thead th {\n",
              "        text-align: right;\n",
              "    }\n",
              "</style>\n",
              "<table border=\"1\" class=\"dataframe\">\n",
              "  <thead>\n",
              "    <tr style=\"text-align: right;\">\n",
              "      <th></th>\n",
              "      <th>Open</th>\n",
              "      <th>High</th>\n",
              "      <th>Low</th>\n",
              "      <th>Close</th>\n",
              "      <th>Volume</th>\n",
              "      <th>Change</th>\n",
              "    </tr>\n",
              "    <tr>\n",
              "      <th>Date</th>\n",
              "      <th></th>\n",
              "      <th></th>\n",
              "      <th></th>\n",
              "      <th></th>\n",
              "      <th></th>\n",
              "      <th></th>\n",
              "    </tr>\n",
              "  </thead>\n",
              "  <tbody>\n",
              "    <tr>\n",
              "      <th>2020-08-03</th>\n",
              "      <td>57800</td>\n",
              "      <td>57900</td>\n",
              "      <td>56700</td>\n",
              "      <td>56800</td>\n",
              "      <td>21158940</td>\n",
              "      <td>-0.018998</td>\n",
              "    </tr>\n",
              "    <tr>\n",
              "      <th>2020-08-04</th>\n",
              "      <td>57200</td>\n",
              "      <td>58100</td>\n",
              "      <td>57000</td>\n",
              "      <td>57300</td>\n",
              "      <td>19419694</td>\n",
              "      <td>0.008803</td>\n",
              "    </tr>\n",
              "    <tr>\n",
              "      <th>2020-08-05</th>\n",
              "      <td>57300</td>\n",
              "      <td>57500</td>\n",
              "      <td>56300</td>\n",
              "      <td>56900</td>\n",
              "      <td>17739706</td>\n",
              "      <td>-0.006981</td>\n",
              "    </tr>\n",
              "    <tr>\n",
              "      <th>2020-08-06</th>\n",
              "      <td>57100</td>\n",
              "      <td>58400</td>\n",
              "      <td>57100</td>\n",
              "      <td>58000</td>\n",
              "      <td>21625874</td>\n",
              "      <td>0.019332</td>\n",
              "    </tr>\n",
              "    <tr>\n",
              "      <th>2020-08-07</th>\n",
              "      <td>57900</td>\n",
              "      <td>58400</td>\n",
              "      <td>57100</td>\n",
              "      <td>57500</td>\n",
              "      <td>18751717</td>\n",
              "      <td>-0.008621</td>\n",
              "    </tr>\n",
              "    <tr>\n",
              "      <th>...</th>\n",
              "      <td>...</td>\n",
              "      <td>...</td>\n",
              "      <td>...</td>\n",
              "      <td>...</td>\n",
              "      <td>...</td>\n",
              "      <td>...</td>\n",
              "    </tr>\n",
              "    <tr>\n",
              "      <th>2021-08-06</th>\n",
              "      <td>81900</td>\n",
              "      <td>82500</td>\n",
              "      <td>81300</td>\n",
              "      <td>81500</td>\n",
              "      <td>13342623</td>\n",
              "      <td>-0.007308</td>\n",
              "    </tr>\n",
              "    <tr>\n",
              "      <th>2021-08-09</th>\n",
              "      <td>81500</td>\n",
              "      <td>82300</td>\n",
              "      <td>80900</td>\n",
              "      <td>81500</td>\n",
              "      <td>15522581</td>\n",
              "      <td>0.000000</td>\n",
              "    </tr>\n",
              "    <tr>\n",
              "      <th>2021-08-10</th>\n",
              "      <td>82300</td>\n",
              "      <td>82400</td>\n",
              "      <td>80100</td>\n",
              "      <td>80200</td>\n",
              "      <td>20362639</td>\n",
              "      <td>-0.015951</td>\n",
              "    </tr>\n",
              "    <tr>\n",
              "      <th>2021-08-11</th>\n",
              "      <td>79600</td>\n",
              "      <td>79800</td>\n",
              "      <td>78500</td>\n",
              "      <td>78500</td>\n",
              "      <td>30241137</td>\n",
              "      <td>-0.021197</td>\n",
              "    </tr>\n",
              "    <tr>\n",
              "      <th>2021-08-12</th>\n",
              "      <td>77100</td>\n",
              "      <td>78200</td>\n",
              "      <td>76900</td>\n",
              "      <td>77000</td>\n",
              "      <td>42112493</td>\n",
              "      <td>-0.019108</td>\n",
              "    </tr>\n",
              "  </tbody>\n",
              "</table>\n",
              "<p>256 rows × 6 columns</p>\n",
              "</div>"
            ],
            "text/plain": [
              "             Open   High    Low  Close    Volume    Change\n",
              "Date                                                      \n",
              "2020-08-03  57800  57900  56700  56800  21158940 -0.018998\n",
              "2020-08-04  57200  58100  57000  57300  19419694  0.008803\n",
              "2020-08-05  57300  57500  56300  56900  17739706 -0.006981\n",
              "2020-08-06  57100  58400  57100  58000  21625874  0.019332\n",
              "2020-08-07  57900  58400  57100  57500  18751717 -0.008621\n",
              "...           ...    ...    ...    ...       ...       ...\n",
              "2021-08-06  81900  82500  81300  81500  13342623 -0.007308\n",
              "2021-08-09  81500  82300  80900  81500  15522581  0.000000\n",
              "2021-08-10  82300  82400  80100  80200  20362639 -0.015951\n",
              "2021-08-11  79600  79800  78500  78500  30241137 -0.021197\n",
              "2021-08-12  77100  78200  76900  77000  42112493 -0.019108\n",
              "\n",
              "[256 rows x 6 columns]"
            ]
          },
          "metadata": {
            "tags": []
          },
          "execution_count": 7
        }
      ]
    },
    {
      "cell_type": "code",
      "metadata": {
        "colab": {
          "base_uri": "https://localhost:8080/",
          "height": 295
        },
        "id": "7zeGfdIMLUzc",
        "outputId": "a81a7b8e-7c79-4564-c67d-860f32a524ba"
      },
      "source": [
        "#  그래프 그리기 (종가데이터 출력)\n",
        "price[\"Close\"].plot()"
      ],
      "execution_count": null,
      "outputs": [
        {
          "output_type": "execute_result",
          "data": {
            "text/plain": [
              "<matplotlib.axes._subplots.AxesSubplot at 0x7f7f350e8350>"
            ]
          },
          "metadata": {
            "tags": []
          },
          "execution_count": 10
        },
        {
          "output_type": "display_data",
          "data": {
            "image/png": "[encoded data removed]",
            "text/plain": [
              "<Figure size 432x288 with 1 Axes>"
            ]
          },
          "metadata": {
            "tags": [],
            "needs_background": "light"
          }
        }
      ]
    },
    {
      "cell_type": "markdown",
      "metadata": {
        "id": "d1plC6D_KRjj"
      },
      "source": [
        "### 종목명으로 종목코드 받아오는 함수 만들기"
      ]
    },
    {
      "cell_type": "code",
      "metadata": {
        "id": "MnZwuudvMvI7"
      },
      "source": [
        "df_krx = fdr.StockListing(\"KRX\")"
      ],
      "execution_count": null,
      "outputs": []
    },
    {
      "cell_type": "code",
      "metadata": {
        "id": "mkFVlUp-J4QW"
      },
      "source": [
        "# 종목명으로 종목코드 받아오는 함수 만들기\n",
        "# df_krx의 Name column에서 같은 값이 있으면 \n",
        "# row의 Symbol column의 값을 list로 name_list에 저장하기\n",
        "# item_code_by_item_name 함수를 만들기\n",
        "\n",
        "def item_code_by_item_name(item_name):\n",
        "    # 종목명을 받아 종목코드를 찾아 반환하는 함수\n",
        "    item_code_list = df_krx.loc[df_krx[\"Name\"] == item_name, \"Symbol\"].tolist()\n",
        "    if len(item_code_list) > 0:\n",
        "        item_code = item_code_list[0]\n",
        "        return item_code\n",
        "    else:\n",
        "        return False\n",
        "        # 예외처리"
      ],
      "execution_count": null,
      "outputs": []
    },
    {
      "cell_type": "code",
      "metadata": {
        "colab": {
          "base_uri": "https://localhost:8080/",
          "height": 35
        },
        "id": "roG0wgb2MY0d",
        "outputId": "cd69796a-a09b-43ed-b158-7cd8db7a67f3"
      },
      "source": [
        "item_code_by_item_name(\"삼성전자\")"
      ],
      "execution_count": null,
      "outputs": [
        {
          "output_type": "execute_result",
          "data": {
            "application/vnd.google.colaboratory.intrinsic+json": {
              "type": "string"
            },
            "text/plain": [
              "'005930'"
            ]
          },
          "metadata": {
            "tags": []
          },
          "execution_count": 15
        }
      ]
    },
    {
      "cell_type": "code",
      "metadata": {
        "colab": {
          "base_uri": "https://localhost:8080/"
        },
        "id": "a3VcXGULMgmM",
        "outputId": "52ae570b-0a28-44a7-9612-f6d93d298f03"
      },
      "source": [
        "# 종목명을 잘못넣었을 경우\n",
        "item_code_by_item_name(\"네이버\")"
      ],
      "execution_count": null,
      "outputs": [
        {
          "output_type": "execute_result",
          "data": {
            "text/plain": [
              "False"
            ]
          },
          "metadata": {
            "tags": []
          },
          "execution_count": 16
        }
      ]
    },
    {
      "cell_type": "code",
      "metadata": {
        "colab": {
          "base_uri": "https://localhost:8080/",
          "height": 35
        },
        "id": "pEuRoR9iNB9J",
        "outputId": "235bced5-1b9f-4b1c-abbe-0a287d32b6c1"
      },
      "source": [
        "item_code_by_item_name(\"NAVER\")"
      ],
      "execution_count": null,
      "outputs": [
        {
          "output_type": "execute_result",
          "data": {
            "application/vnd.google.colaboratory.intrinsic+json": {
              "type": "string"
            },
            "text/plain": [
              "'035420'"
            ]
          },
          "metadata": {
            "tags": []
          },
          "execution_count": 17
        }
      ]
    },
    {
      "cell_type": "markdown",
      "metadata": {
        "id": "houwVm-dNHU5"
      },
      "source": [
        "### 종목명으로 일별시세를 받아오는 함수 만들기"
      ]
    },
    {
      "cell_type": "code",
      "metadata": {
        "id": "kqxsbi7eNEtS"
      },
      "source": [
        "# item_code_by_item_name : 종목명으로 종목번호 가져오기\n",
        "# find_item_list : 종목번호로 해당연도 데이터 가져오기\n",
        "# find_item_list는 year 값이 없으면 기본으로 2021년 데이터를 선택\n",
        "\n",
        "def find_item_list(item_name, year=2022):\n",
        "    # 종목명을 넘겨주면 일별시세를 반환하는 함수\n",
        "    # 내부에서 종목명으로 종목코드를 반환하는 함수(item_code_by_item_name)로 종목의 시세를 수집\n",
        "    item_code = item_code_by_item_name(item_name)\n",
        "    if item_code:\n",
        "        df_day = fdr.DataReader(item_code, str(year))\n",
        "        return df_day\n",
        "    else:\n",
        "        return False"
      ],
      "execution_count": null,
      "outputs": []
    },
    {
      "cell_type": "code",
      "metadata": {
        "colab": {
          "base_uri": "https://localhost:8080/",
          "height": 450
        },
        "id": "w_9NMnxoNg8F",
        "outputId": "b3418221-74de-4edb-d342-0e666ccda598"
      },
      "source": [
        "find_item_list(\"NAVER\", 2017)"
      ],
      "execution_count": null,
      "outputs": [
        {
          "output_type": "execute_result",
          "data": {
            "text/html": [
              "<div>\n",
              "<style scoped>\n",
              "    .dataframe tbody tr th:only-of-type {\n",
              "        vertical-align: middle;\n",
              "    }\n",
              "\n",
              "    .dataframe tbody tr th {\n",
              "        vertical-align: top;\n",
              "    }\n",
              "\n",
              "    .dataframe thead th {\n",
              "        text-align: right;\n",
              "    }\n",
              "</style>\n",
              "<table border=\"1\" class=\"dataframe\">\n",
              "  <thead>\n",
              "    <tr style=\"text-align: right;\">\n",
              "      <th></th>\n",
              "      <th>Open</th>\n",
              "      <th>High</th>\n",
              "      <th>Low</th>\n",
              "      <th>Close</th>\n",
              "      <th>Volume</th>\n",
              "      <th>Change</th>\n",
              "    </tr>\n",
              "    <tr>\n",
              "      <th>Date</th>\n",
              "      <th></th>\n",
              "      <th></th>\n",
              "      <th></th>\n",
              "      <th></th>\n",
              "      <th></th>\n",
              "      <th></th>\n",
              "    </tr>\n",
              "  </thead>\n",
              "  <tbody>\n",
              "    <tr>\n",
              "      <th>2017-01-02</th>\n",
              "      <td>155820</td>\n",
              "      <td>157621</td>\n",
              "      <td>155219</td>\n",
              "      <td>155620</td>\n",
              "      <td>30777</td>\n",
              "      <td>0.002577</td>\n",
              "    </tr>\n",
              "    <tr>\n",
              "      <th>2017-01-03</th>\n",
              "      <td>155618</td>\n",
              "      <td>155618</td>\n",
              "      <td>153616</td>\n",
              "      <td>153617</td>\n",
              "      <td>51766</td>\n",
              "      <td>-0.012871</td>\n",
              "    </tr>\n",
              "    <tr>\n",
              "      <th>2017-01-04</th>\n",
              "      <td>155220</td>\n",
              "      <td>162230</td>\n",
              "      <td>154419</td>\n",
              "      <td>162230</td>\n",
              "      <td>120359</td>\n",
              "      <td>0.056068</td>\n",
              "    </tr>\n",
              "    <tr>\n",
              "      <th>2017-01-05</th>\n",
              "      <td>162228</td>\n",
              "      <td>162228</td>\n",
              "      <td>158423</td>\n",
              "      <td>158424</td>\n",
              "      <td>68724</td>\n",
              "      <td>-0.023461</td>\n",
              "    </tr>\n",
              "    <tr>\n",
              "      <th>2017-01-06</th>\n",
              "      <td>158423</td>\n",
              "      <td>160426</td>\n",
              "      <td>157422</td>\n",
              "      <td>160026</td>\n",
              "      <td>50269</td>\n",
              "      <td>0.010112</td>\n",
              "    </tr>\n",
              "    <tr>\n",
              "      <th>...</th>\n",
              "      <td>...</td>\n",
              "      <td>...</td>\n",
              "      <td>...</td>\n",
              "      <td>...</td>\n",
              "      <td>...</td>\n",
              "      <td>...</td>\n",
              "    </tr>\n",
              "    <tr>\n",
              "      <th>2021-08-06</th>\n",
              "      <td>443000</td>\n",
              "      <td>447500</td>\n",
              "      <td>440500</td>\n",
              "      <td>444500</td>\n",
              "      <td>416829</td>\n",
              "      <td>0.004520</td>\n",
              "    </tr>\n",
              "    <tr>\n",
              "      <th>2021-08-09</th>\n",
              "      <td>438000</td>\n",
              "      <td>449000</td>\n",
              "      <td>435000</td>\n",
              "      <td>447500</td>\n",
              "      <td>528032</td>\n",
              "      <td>0.006749</td>\n",
              "    </tr>\n",
              "    <tr>\n",
              "      <th>2021-08-10</th>\n",
              "      <td>446000</td>\n",
              "      <td>453500</td>\n",
              "      <td>442500</td>\n",
              "      <td>446500</td>\n",
              "      <td>461940</td>\n",
              "      <td>-0.002235</td>\n",
              "    </tr>\n",
              "    <tr>\n",
              "      <th>2021-08-11</th>\n",
              "      <td>445000</td>\n",
              "      <td>449000</td>\n",
              "      <td>442000</td>\n",
              "      <td>445000</td>\n",
              "      <td>446275</td>\n",
              "      <td>-0.003359</td>\n",
              "    </tr>\n",
              "    <tr>\n",
              "      <th>2021-08-12</th>\n",
              "      <td>448000</td>\n",
              "      <td>448500</td>\n",
              "      <td>438000</td>\n",
              "      <td>440500</td>\n",
              "      <td>669261</td>\n",
              "      <td>-0.010112</td>\n",
              "    </tr>\n",
              "  </tbody>\n",
              "</table>\n",
              "<p>1135 rows × 6 columns</p>\n",
              "</div>"
            ],
            "text/plain": [
              "              Open    High     Low   Close  Volume    Change\n",
              "Date                                                        \n",
              "2017-01-02  155820  157621  155219  155620   30777  0.002577\n",
              "2017-01-03  155618  155618  153616  153617   51766 -0.012871\n",
              "2017-01-04  155220  162230  154419  162230  120359  0.056068\n",
              "2017-01-05  162228  162228  158423  158424   68724 -0.023461\n",
              "2017-01-06  158423  160426  157422  160026   50269  0.010112\n",
              "...            ...     ...     ...     ...     ...       ...\n",
              "2021-08-06  443000  447500  440500  444500  416829  0.004520\n",
              "2021-08-09  438000  449000  435000  447500  528032  0.006749\n",
              "2021-08-10  446000  453500  442500  446500  461940 -0.002235\n",
              "2021-08-11  445000  449000  442000  445000  446275 -0.003359\n",
              "2021-08-12  448000  448500  438000  440500  669261 -0.010112\n",
              "\n",
              "[1135 rows x 6 columns]"
            ]
          },
          "metadata": {
            "tags": []
          },
          "execution_count": 19
        }
      ]
    },
    {
      "cell_type": "code",
      "metadata": {
        "colab": {
          "base_uri": "https://localhost:8080/",
          "height": 173
        },
        "id": "qRdsF381Ni-u",
        "outputId": "65729ea8-2ab6-4068-993c-375f7d7ab082"
      },
      "source": [
        "find_item_list(\"크래프톤\",2021)\n",
        "# 크래프톤의 경우 상장일이 20221년 8월 10일이기 때문에 상장일부터 출력"
      ],
      "execution_count": null,
      "outputs": [
        {
          "output_type": "execute_result",
          "data": {
            "text/html": [
              "<div>\n",
              "<style scoped>\n",
              "    .dataframe tbody tr th:only-of-type {\n",
              "        vertical-align: middle;\n",
              "    }\n",
              "\n",
              "    .dataframe tbody tr th {\n",
              "        vertical-align: top;\n",
              "    }\n",
              "\n",
              "    .dataframe thead th {\n",
              "        text-align: right;\n",
              "    }\n",
              "</style>\n",
              "<table border=\"1\" class=\"dataframe\">\n",
              "  <thead>\n",
              "    <tr style=\"text-align: right;\">\n",
              "      <th></th>\n",
              "      <th>Open</th>\n",
              "      <th>High</th>\n",
              "      <th>Low</th>\n",
              "      <th>Close</th>\n",
              "      <th>Volume</th>\n",
              "      <th>Change</th>\n",
              "    </tr>\n",
              "    <tr>\n",
              "      <th>Date</th>\n",
              "      <th></th>\n",
              "      <th></th>\n",
              "      <th></th>\n",
              "      <th></th>\n",
              "      <th></th>\n",
              "      <th></th>\n",
              "    </tr>\n",
              "  </thead>\n",
              "  <tbody>\n",
              "    <tr>\n",
              "      <th>2021-08-10</th>\n",
              "      <td>448500</td>\n",
              "      <td>480000</td>\n",
              "      <td>400500</td>\n",
              "      <td>454000</td>\n",
              "      <td>5121520</td>\n",
              "      <td>NaN</td>\n",
              "    </tr>\n",
              "    <tr>\n",
              "      <th>2021-08-11</th>\n",
              "      <td>444500</td>\n",
              "      <td>446000</td>\n",
              "      <td>405000</td>\n",
              "      <td>407000</td>\n",
              "      <td>1647759</td>\n",
              "      <td>-0.103524</td>\n",
              "    </tr>\n",
              "    <tr>\n",
              "      <th>2021-08-12</th>\n",
              "      <td>414000</td>\n",
              "      <td>420500</td>\n",
              "      <td>402000</td>\n",
              "      <td>406000</td>\n",
              "      <td>927323</td>\n",
              "      <td>-0.002457</td>\n",
              "    </tr>\n",
              "  </tbody>\n",
              "</table>\n",
              "</div>"
            ],
            "text/plain": [
              "              Open    High     Low   Close   Volume    Change\n",
              "Date                                                         \n",
              "2021-08-10  448500  480000  400500  454000  5121520       NaN\n",
              "2021-08-11  444500  446000  405000  407000  1647759 -0.103524\n",
              "2021-08-12  414000  420500  402000  406000   927323 -0.002457"
            ]
          },
          "metadata": {
            "tags": []
          },
          "execution_count": 26
        }
      ]
    },
    {
      "cell_type": "markdown",
      "metadata": {
        "id": "ZokfG7LFOCJI"
      },
      "source": [
        "### 개별종목의 시세정보 데이터 시각화"
      ]
    },
    {
      "cell_type": "code",
      "metadata": {
        "colab": {
          "base_uri": "https://localhost:8080/",
          "height": 295
        },
        "id": "-ZstLJDfNowD",
        "outputId": "38f63a9b-6101-4279-a8e6-64464d80324e"
      },
      "source": [
        "# 종가 그래프를 그리기는 위 종가데이터 출력 참조\n",
        "price[\"Close\"].plot()"
      ],
      "execution_count": null,
      "outputs": [
        {
          "output_type": "execute_result",
          "data": {
            "text/plain": [
              "<matplotlib.axes._subplots.AxesSubplot at 0x7f7f34b5ed50>"
            ]
          },
          "metadata": {
            "tags": []
          },
          "execution_count": 28
        },
        {
          "output_type": "display_data",
          "data": {
            "image/png": "[encoded data removed]",
            "text/plain": [
              "<Figure size 432x288 with 1 Axes>"
            ]
          },
          "metadata": {
            "tags": [],
            "needs_background": "light"
          }
        }
      ]
    },
    {
      "cell_type": "code",
      "metadata": {
        "colab": {
          "base_uri": "https://localhost:8080/",
          "height": 306
        },
        "id": "aJbUqS_QOJow",
        "outputId": "a5916972-6fed-43c4-a1b2-2a90ac4fc7c9"
      },
      "source": [
        "# secondary_y 옵션을 통한 종가와 거래량에 대한 2축 그래프 그리기\n",
        "price[[\"Close\", \"Volume\"]].plot(secondary_y=\"Volume\")"
      ],
      "execution_count": null,
      "outputs": [
        {
          "output_type": "execute_result",
          "data": {
            "text/plain": [
              "<matplotlib.axes._subplots.AxesSubplot at 0x7f7f348c0e10>"
            ]
          },
          "metadata": {
            "tags": []
          },
          "execution_count": 29
        },
        {
          "output_type": "display_data",
          "data": {
            "image/png": "[encoded data removed]",
            "text/plain": [
              "<Figure size 432x288 with 2 Axes>"
            ]
          },
          "metadata": {
            "tags": [],
            "needs_background": "light"
          }
        }
      ]
    },
    {
      "cell_type": "code",
      "metadata": {
        "id": "56HhEq1yO5ai"
      },
      "source": [
        ""
      ],
      "execution_count": null,
      "outputs": []
    }
  ]
}